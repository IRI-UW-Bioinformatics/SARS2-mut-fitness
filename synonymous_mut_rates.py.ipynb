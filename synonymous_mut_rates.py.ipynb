{
 "cells": [
  {
   "cell_type": "markdown",
   "id": "f53f9e29-d668-4f1e-83bb-5de1420f3953",
   "metadata": {},
   "source": [
    "# Compute synonymous mutation rates for clades and overall\n",
    "Get variables from `snakemake`:"
   ]
  },
  {
   "cell_type": "code",
   "execution_count": 1,
   "id": "0773c5ac-7c03-4640-b835-95e6a99f142c",
   "metadata": {
    "execution": {
     "iopub.execute_input": "2022-09-09T14:35:20.228285Z",
     "iopub.status.busy": "2022-09-09T14:35:20.227874Z",
     "iopub.status.idle": "2022-09-09T14:35:20.241383Z",
     "shell.execute_reply": "2022-09-09T14:35:20.240715Z",
     "shell.execute_reply.started": "2022-09-09T14:35:20.228199Z"
    },
    "tags": []
   },
   "outputs": [],
   "source": [
    "import glob\n",
    "counts_csvs = glob.glob(\"results/mutation_counts/counts_by_clade/*.csv\")"
   ]
  },
  {
   "cell_type": "markdown",
   "id": "8eb11c2f-9f43-4ead-bfb1-43b6f7dd8b89",
   "metadata": {},
   "source": [
    "Import Python modules:"
   ]
  },
  {
   "cell_type": "code",
   "execution_count": 2,
   "id": "3d349183-450d-415c-b85d-3b81f777ef5f",
   "metadata": {
    "execution": {
     "iopub.execute_input": "2022-09-09T14:35:20.242991Z",
     "iopub.status.busy": "2022-09-09T14:35:20.242715Z",
     "iopub.status.idle": "2022-09-09T14:35:26.804077Z",
     "shell.execute_reply": "2022-09-09T14:35:26.802753Z",
     "shell.execute_reply.started": "2022-09-09T14:35:20.242969Z"
    },
    "tags": []
   },
   "outputs": [],
   "source": [
    "import os\n",
    "\n",
    "import altair as alt\n",
    "\n",
    "import numpy\n",
    "\n",
    "import pandas as pd\n",
    "\n",
    "import sklearn.decomposition"
   ]
  },
  {
   "cell_type": "markdown",
   "id": "a85ab2bd-e4b7-4d7b-b780-df216bda2b51",
   "metadata": {},
   "source": [
    "Get mutation counts:"
   ]
  },
  {
   "cell_type": "code",
   "execution_count": 3,
   "id": "5178e432-6e87-43de-9bcb-c9d1984f81d7",
   "metadata": {
    "execution": {
     "iopub.execute_input": "2022-09-09T14:35:26.806214Z",
     "iopub.status.busy": "2022-09-09T14:35:26.805581Z",
     "iopub.status.idle": "2022-09-09T14:35:27.869223Z",
     "shell.execute_reply": "2022-09-09T14:35:27.868437Z",
     "shell.execute_reply.started": "2022-09-09T14:35:26.806170Z"
    },
    "tags": []
   },
   "outputs": [
    {
     "data": {
      "text/html": [
       "<div>\n",
       "<style scoped>\n",
       "    .dataframe tbody tr th:only-of-type {\n",
       "        vertical-align: middle;\n",
       "    }\n",
       "\n",
       "    .dataframe tbody tr th {\n",
       "        vertical-align: top;\n",
       "    }\n",
       "\n",
       "    .dataframe thead th {\n",
       "        text-align: right;\n",
       "    }\n",
       "</style>\n",
       "<table border=\"1\" class=\"dataframe\">\n",
       "  <thead>\n",
       "    <tr style=\"text-align: right;\">\n",
       "      <th></th>\n",
       "      <th>protein</th>\n",
       "      <th>aa_mutation</th>\n",
       "      <th>nt_mutation</th>\n",
       "      <th>codon_change</th>\n",
       "      <th>synonymous</th>\n",
       "      <th>count</th>\n",
       "      <th>reversion_to_ref</th>\n",
       "      <th>reversion_to_founder</th>\n",
       "      <th>clade</th>\n",
       "      <th>mut_type</th>\n",
       "    </tr>\n",
       "  </thead>\n",
       "  <tbody>\n",
       "    <tr>\n",
       "      <th>0</th>\n",
       "      <td>M</td>\n",
       "      <td>M</td>\n",
       "      <td>G26577C</td>\n",
       "      <td>GAA&gt;CAA</td>\n",
       "      <td>False</td>\n",
       "      <td>1769</td>\n",
       "      <td>False</td>\n",
       "      <td>False</td>\n",
       "      <td>21M</td>\n",
       "      <td>GtoC</td>\n",
       "    </tr>\n",
       "    <tr>\n",
       "      <th>1</th>\n",
       "      <td>ORF1a;ORF1ab</td>\n",
       "      <td>ORF1a;ORF1ab</td>\n",
       "      <td>A11537G</td>\n",
       "      <td>ATT&gt;GTT;ATT&gt;GTT</td>\n",
       "      <td>False</td>\n",
       "      <td>849</td>\n",
       "      <td>False</td>\n",
       "      <td>False</td>\n",
       "      <td>21M</td>\n",
       "      <td>AtoG</td>\n",
       "    </tr>\n",
       "    <tr>\n",
       "      <th>2</th>\n",
       "      <td>ORF1a;ORF1ab</td>\n",
       "      <td>ORF1a;ORF1ab</td>\n",
       "      <td>T10198C</td>\n",
       "      <td>GAT&gt;GAC;GAT&gt;GAC</td>\n",
       "      <td>True</td>\n",
       "      <td>820</td>\n",
       "      <td>False</td>\n",
       "      <td>False</td>\n",
       "      <td>21M</td>\n",
       "      <td>TtoC</td>\n",
       "    </tr>\n",
       "    <tr>\n",
       "      <th>3</th>\n",
       "      <td>ORF1a;ORF1ab</td>\n",
       "      <td>ORF1a;ORF1ab</td>\n",
       "      <td>T3037C</td>\n",
       "      <td>TTT&gt;TTC;TTT&gt;TTC</td>\n",
       "      <td>True</td>\n",
       "      <td>760</td>\n",
       "      <td>False</td>\n",
       "      <td>False</td>\n",
       "      <td>21M</td>\n",
       "      <td>TtoC</td>\n",
       "    </tr>\n",
       "    <tr>\n",
       "      <th>4</th>\n",
       "      <td>S</td>\n",
       "      <td>S</td>\n",
       "      <td>T22674C</td>\n",
       "      <td>TTC&gt;TCC</td>\n",
       "      <td>False</td>\n",
       "      <td>745</td>\n",
       "      <td>True</td>\n",
       "      <td>True</td>\n",
       "      <td>21M</td>\n",
       "      <td>TtoC</td>\n",
       "    </tr>\n",
       "    <tr>\n",
       "      <th>...</th>\n",
       "      <td>...</td>\n",
       "      <td>...</td>\n",
       "      <td>...</td>\n",
       "      <td>...</td>\n",
       "      <td>...</td>\n",
       "      <td>...</td>\n",
       "      <td>...</td>\n",
       "      <td>...</td>\n",
       "      <td>...</td>\n",
       "      <td>...</td>\n",
       "    </tr>\n",
       "    <tr>\n",
       "      <th>441579</th>\n",
       "      <td>ORF1a;ORF1ab</td>\n",
       "      <td>ORF1a;ORF1ab</td>\n",
       "      <td>G351A</td>\n",
       "      <td>CGT&gt;CAT;CGT&gt;CAT</td>\n",
       "      <td>False</td>\n",
       "      <td>1</td>\n",
       "      <td>False</td>\n",
       "      <td>False</td>\n",
       "      <td>19A</td>\n",
       "      <td>GtoA</td>\n",
       "    </tr>\n",
       "    <tr>\n",
       "      <th>441580</th>\n",
       "      <td>ORF1a;ORF1ab</td>\n",
       "      <td>ORF1a;ORF1ab</td>\n",
       "      <td>G3518T</td>\n",
       "      <td>GTT&gt;TTT;GTT&gt;TTT</td>\n",
       "      <td>False</td>\n",
       "      <td>1</td>\n",
       "      <td>True</td>\n",
       "      <td>True</td>\n",
       "      <td>19A</td>\n",
       "      <td>GtoT</td>\n",
       "    </tr>\n",
       "    <tr>\n",
       "      <th>441581</th>\n",
       "      <td>ORF1a;ORF1ab</td>\n",
       "      <td>ORF1a;ORF1ab</td>\n",
       "      <td>G3482A</td>\n",
       "      <td>GGA&gt;AGA;GGA&gt;AGA</td>\n",
       "      <td>False</td>\n",
       "      <td>1</td>\n",
       "      <td>False</td>\n",
       "      <td>False</td>\n",
       "      <td>19A</td>\n",
       "      <td>GtoA</td>\n",
       "    </tr>\n",
       "    <tr>\n",
       "      <th>441582</th>\n",
       "      <td>ORF1a;ORF1ab</td>\n",
       "      <td>ORF1a;ORF1ab</td>\n",
       "      <td>G3476A</td>\n",
       "      <td>GTT&gt;ATT;GTT&gt;ATT</td>\n",
       "      <td>False</td>\n",
       "      <td>1</td>\n",
       "      <td>False</td>\n",
       "      <td>False</td>\n",
       "      <td>19A</td>\n",
       "      <td>GtoA</td>\n",
       "    </tr>\n",
       "    <tr>\n",
       "      <th>441583</th>\n",
       "      <td>S</td>\n",
       "      <td>S</td>\n",
       "      <td>T25316C</td>\n",
       "      <td>TCC&gt;CCC</td>\n",
       "      <td>False</td>\n",
       "      <td>1</td>\n",
       "      <td>True</td>\n",
       "      <td>True</td>\n",
       "      <td>19A</td>\n",
       "      <td>TtoC</td>\n",
       "    </tr>\n",
       "  </tbody>\n",
       "</table>\n",
       "<p>441584 rows × 10 columns</p>\n",
       "</div>"
      ],
      "text/plain": [
       "             protein   aa_mutation nt_mutation     codon_change  synonymous  \\\n",
       "0                  M             M     G26577C          GAA>CAA       False   \n",
       "1       ORF1a;ORF1ab  ORF1a;ORF1ab     A11537G  ATT>GTT;ATT>GTT       False   \n",
       "2       ORF1a;ORF1ab  ORF1a;ORF1ab     T10198C  GAT>GAC;GAT>GAC        True   \n",
       "3       ORF1a;ORF1ab  ORF1a;ORF1ab      T3037C  TTT>TTC;TTT>TTC        True   \n",
       "4                  S             S     T22674C          TTC>TCC       False   \n",
       "...              ...           ...         ...              ...         ...   \n",
       "441579  ORF1a;ORF1ab  ORF1a;ORF1ab       G351A  CGT>CAT;CGT>CAT       False   \n",
       "441580  ORF1a;ORF1ab  ORF1a;ORF1ab      G3518T  GTT>TTT;GTT>TTT       False   \n",
       "441581  ORF1a;ORF1ab  ORF1a;ORF1ab      G3482A  GGA>AGA;GGA>AGA       False   \n",
       "441582  ORF1a;ORF1ab  ORF1a;ORF1ab      G3476A  GTT>ATT;GTT>ATT       False   \n",
       "441583             S             S     T25316C          TCC>CCC       False   \n",
       "\n",
       "        count  reversion_to_ref  reversion_to_founder clade mut_type  \n",
       "0        1769             False                 False   21M     GtoC  \n",
       "1         849             False                 False   21M     AtoG  \n",
       "2         820             False                 False   21M     TtoC  \n",
       "3         760             False                 False   21M     TtoC  \n",
       "4         745              True                  True   21M     TtoC  \n",
       "...       ...               ...                   ...   ...      ...  \n",
       "441579      1             False                 False   19A     GtoA  \n",
       "441580      1              True                  True   19A     GtoT  \n",
       "441581      1             False                 False   19A     GtoA  \n",
       "441582      1             False                 False   19A     GtoA  \n",
       "441583      1              True                  True   19A     TtoC  \n",
       "\n",
       "[441584 rows x 10 columns]"
      ]
     },
     "execution_count": 3,
     "metadata": {},
     "output_type": "execute_result"
    }
   ],
   "source": [
    "mutation_counts = pd.concat(\n",
    "    [\n",
    "        pd.read_csv(f).assign(clade=os.path.splitext(os.path.basename(f))[0])\n",
    "        for f in counts_csvs\n",
    "    ],\n",
    "    ignore_index=True,\n",
    ").assign(mut_type=lambda x: x[\"nt_mutation\"].map(lambda m: f\"{m[0]}to{m[-1]}\"))\n",
    "\n",
    "mutation_counts"
   ]
  },
  {
   "cell_type": "markdown",
   "id": "5ee3f6bd-f62b-4e37-ad69-5a567d392804",
   "metadata": {
    "execution": {
     "iopub.execute_input": "2022-09-08T20:58:54.989586Z",
     "iopub.status.busy": "2022-09-08T20:58:54.988909Z",
     "iopub.status.idle": "2022-09-08T20:58:54.997156Z",
     "shell.execute_reply": "2022-09-08T20:58:54.996168Z",
     "shell.execute_reply.started": "2022-09-08T20:58:54.989428Z"
    },
    "tags": []
   },
   "source": [
    "Tally mutation type counts among synonymous mutations, separating reversions to reference from other mutations:"
   ]
  },
  {
   "cell_type": "code",
   "execution_count": 4,
   "id": "244341c6-7add-45c7-91f6-d86c8f5cf684",
   "metadata": {
    "execution": {
     "iopub.execute_input": "2022-09-09T14:35:27.870628Z",
     "iopub.status.busy": "2022-09-09T14:35:27.870284Z",
     "iopub.status.idle": "2022-09-09T14:35:28.023583Z",
     "shell.execute_reply": "2022-09-09T14:35:28.018646Z",
     "shell.execute_reply.started": "2022-09-09T14:35:27.870605Z"
    },
    "tags": []
   },
   "outputs": [],
   "source": [
    "mut_type_counts = (\n",
    "    mutation_counts\n",
    "    .query(\"synonymous\")\n",
    "    .groupby([\"clade\", \"mut_type\", \"reversion_to_ref\"], as_index=False)\n",
    "    .aggregate({\"count\": \"sum\"})\n",
    ")\n",
    "\n",
    "mut_types = mut_type_counts[\"mut_type\"].unique().tolist()"
   ]
  },
  {
   "cell_type": "markdown",
   "id": "2778893d-ffe4-4571-9a8c-19d297cb2e87",
   "metadata": {
    "execution": {
     "iopub.execute_input": "2022-09-08T21:05:52.421686Z",
     "iopub.status.busy": "2022-09-08T21:05:52.421174Z",
     "iopub.status.idle": "2022-09-08T21:05:52.432474Z",
     "shell.execute_reply": "2022-09-08T21:05:52.431513Z",
     "shell.execute_reply.started": "2022-09-08T21:05:52.421656Z"
    },
    "tags": []
   },
   "source": [
    "Plot total mutation counts for each clade:"
   ]
  },
  {
   "cell_type": "code",
   "execution_count": 5,
   "id": "7adad884-7f81-49a1-8d93-0db32fdd33d7",
   "metadata": {
    "execution": {
     "iopub.execute_input": "2022-09-09T14:35:28.028403Z",
     "iopub.status.busy": "2022-09-09T14:35:28.027555Z",
     "iopub.status.idle": "2022-09-09T14:35:28.142827Z",
     "shell.execute_reply": "2022-09-09T14:35:28.141682Z",
     "shell.execute_reply.started": "2022-09-09T14:35:28.028361Z"
    },
    "tags": []
   },
   "outputs": [
    {
     "data": {
      "text/html": [
       "\n",
       "<div id=\"altair-viz-25ff7e74b42a4ea788442bbb7c3d9941\"></div>\n",
       "<script type=\"text/javascript\">\n",
       "  var VEGA_DEBUG = (typeof VEGA_DEBUG == \"undefined\") ? {} : VEGA_DEBUG;\n",
       "  (function(spec, embedOpt){\n",
       "    let outputDiv = document.currentScript.previousElementSibling;\n",
       "    if (outputDiv.id !== \"altair-viz-25ff7e74b42a4ea788442bbb7c3d9941\") {\n",
       "      outputDiv = document.getElementById(\"altair-viz-25ff7e74b42a4ea788442bbb7c3d9941\");\n",
       "    }\n",
       "    const paths = {\n",
       "      \"vega\": \"https://cdn.jsdelivr.net/npm//vega@5?noext\",\n",
       "      \"vega-lib\": \"https://cdn.jsdelivr.net/npm//vega-lib?noext\",\n",
       "      \"vega-lite\": \"https://cdn.jsdelivr.net/npm//vega-lite@4.17.0?noext\",\n",
       "      \"vega-embed\": \"https://cdn.jsdelivr.net/npm//vega-embed@6?noext\",\n",
       "    };\n",
       "\n",
       "    function maybeLoadScript(lib, version) {\n",
       "      var key = `${lib.replace(\"-\", \"\")}_version`;\n",
       "      return (VEGA_DEBUG[key] == version) ?\n",
       "        Promise.resolve(paths[lib]) :\n",
       "        new Promise(function(resolve, reject) {\n",
       "          var s = document.createElement('script');\n",
       "          document.getElementsByTagName(\"head\")[0].appendChild(s);\n",
       "          s.async = true;\n",
       "          s.onload = () => {\n",
       "            VEGA_DEBUG[key] = version;\n",
       "            return resolve(paths[lib]);\n",
       "          };\n",
       "          s.onerror = () => reject(`Error loading script: ${paths[lib]}`);\n",
       "          s.src = paths[lib];\n",
       "        });\n",
       "    }\n",
       "\n",
       "    function showError(err) {\n",
       "      outputDiv.innerHTML = `<div class=\"error\" style=\"color:red;\">${err}</div>`;\n",
       "      throw err;\n",
       "    }\n",
       "\n",
       "    function displayChart(vegaEmbed) {\n",
       "      vegaEmbed(outputDiv, spec, embedOpt)\n",
       "        .catch(err => showError(`Javascript Error: ${err.message}<br>This usually means there's a typo in your chart specification. See the javascript console for the full traceback.`));\n",
       "    }\n",
       "\n",
       "    if(typeof define === \"function\" && define.amd) {\n",
       "      requirejs.config({paths});\n",
       "      require([\"vega-embed\"], displayChart, err => showError(`Error loading script: ${err.message}`));\n",
       "    } else {\n",
       "      maybeLoadScript(\"vega\", \"5\")\n",
       "        .then(() => maybeLoadScript(\"vega-lite\", \"4.17.0\"))\n",
       "        .then(() => maybeLoadScript(\"vega-embed\", \"6\"))\n",
       "        .catch(showError)\n",
       "        .then(() => displayChart(vegaEmbed));\n",
       "    }\n",
       "  })({\"config\": {\"view\": {\"continuousWidth\": 400, \"continuousHeight\": 300}}, \"data\": {\"name\": \"data-7efd075fda6f7d4e3118166bffe1c8c1\"}, \"mark\": \"bar\", \"encoding\": {\"color\": {\"field\": \"reversion_to_ref\", \"type\": \"nominal\"}, \"tooltip\": [{\"field\": \"clade\", \"type\": \"nominal\"}, {\"field\": \"count\", \"type\": \"quantitative\"}, {\"field\": \"reversion_to_ref\", \"type\": \"nominal\"}], \"x\": {\"aggregate\": \"sum\", \"field\": \"count\", \"type\": \"quantitative\"}, \"y\": {\"field\": \"clade\", \"type\": \"nominal\"}}, \"$schema\": \"https://vega.github.io/schema/vega-lite/v4.17.0.json\", \"datasets\": {\"data-7efd075fda6f7d4e3118166bffe1c8c1\": [{\"clade\": \"19A\", \"reversion_to_ref\": false, \"count\": 2626}, {\"clade\": \"19A\", \"reversion_to_ref\": true, \"count\": 1104}, {\"clade\": \"20A\", \"reversion_to_ref\": false, \"count\": 28920}, {\"clade\": \"20A\", \"reversion_to_ref\": true, \"count\": 10953}, {\"clade\": \"20B\", \"reversion_to_ref\": false, \"count\": 22806}, {\"clade\": \"20B\", \"reversion_to_ref\": true, \"count\": 9041}, {\"clade\": \"20C\", \"reversion_to_ref\": false, \"count\": 15445}, {\"clade\": \"20C\", \"reversion_to_ref\": true, \"count\": 6210}, {\"clade\": \"20E\", \"reversion_to_ref\": false, \"count\": 17200}, {\"clade\": \"20E\", \"reversion_to_ref\": true, \"count\": 7074}, {\"clade\": \"20F\", \"reversion_to_ref\": false, \"count\": 930}, {\"clade\": \"20F\", \"reversion_to_ref\": true, \"count\": 384}, {\"clade\": \"20G\", \"reversion_to_ref\": false, \"count\": 23418}, {\"clade\": \"20G\", \"reversion_to_ref\": true, \"count\": 9488}, {\"clade\": \"20I\", \"reversion_to_ref\": false, \"count\": 103226}, {\"clade\": \"20I\", \"reversion_to_ref\": true, \"count\": 41699}, {\"clade\": \"20J\", \"reversion_to_ref\": false, \"count\": 6956}, {\"clade\": \"20J\", \"reversion_to_ref\": true, \"count\": 2780}, {\"clade\": \"21C\", \"reversion_to_ref\": false, \"count\": 10957}, {\"clade\": \"21C\", \"reversion_to_ref\": true, \"count\": 5639}, {\"clade\": \"21F\", \"reversion_to_ref\": false, \"count\": 8084}, {\"clade\": \"21F\", \"reversion_to_ref\": true, \"count\": 3128}, {\"clade\": \"21I\", \"reversion_to_ref\": false, \"count\": 42041}, {\"clade\": \"21I\", \"reversion_to_ref\": true, \"count\": 15272}, {\"clade\": \"21J\", \"reversion_to_ref\": false, \"count\": 459986}, {\"clade\": \"21J\", \"reversion_to_ref\": true, \"count\": 169183}, {\"clade\": \"21K\", \"reversion_to_ref\": false, \"count\": 194805}, {\"clade\": \"21K\", \"reversion_to_ref\": true, \"count\": 75212}, {\"clade\": \"21L\", \"reversion_to_ref\": false, \"count\": 2172}, {\"clade\": \"21L\", \"reversion_to_ref\": true, \"count\": 941}, {\"clade\": \"21M\", \"reversion_to_ref\": false, \"count\": 143583}, {\"clade\": \"21M\", \"reversion_to_ref\": true, \"count\": 54156}, {\"clade\": \"22A\", \"reversion_to_ref\": false, \"count\": 11586}, {\"clade\": \"22A\", \"reversion_to_ref\": true, \"count\": 4519}, {\"clade\": \"22B\", \"reversion_to_ref\": false, \"count\": 51590}, {\"clade\": \"22B\", \"reversion_to_ref\": true, \"count\": 19403}, {\"clade\": \"22C\", \"reversion_to_ref\": false, \"count\": 32038}, {\"clade\": \"22C\", \"reversion_to_ref\": true, \"count\": 12255}]}}, {\"mode\": \"vega-lite\"});\n",
       "</script>"
      ],
      "text/plain": [
       "alt.Chart(...)"
      ]
     },
     "execution_count": 5,
     "metadata": {},
     "output_type": "execute_result"
    }
   ],
   "source": [
    "mut_counts = (\n",
    "    mut_type_counts\n",
    "    .groupby([\"clade\", \"reversion_to_ref\"], as_index=False)\n",
    "    .aggregate({\"count\": \"sum\"})\n",
    ")\n",
    "\n",
    "mut_counts_chart = (\n",
    "    alt.Chart(mut_counts)\n",
    "    .encode(\n",
    "        y=\"clade\",\n",
    "        x=\"sum(count)\",\n",
    "        color=\"reversion_to_ref\",\n",
    "        tooltip=[\"clade\", \"count\", \"reversion_to_ref\"],\n",
    "    )\n",
    "    .mark_bar()\n",
    ")\n",
    "\n",
    "mut_counts_chart"
   ]
  },
  {
   "cell_type": "markdown",
   "id": "cb0195dd-de1d-4049-aded-994dbfd984a2",
   "metadata": {},
   "source": [
    "Get PCA of mutation spectrum separately for each clade and stratifying mutations by whether they are reversions to reference:"
   ]
  },
  {
   "cell_type": "code",
   "execution_count": 6,
   "id": "56a9263f-f805-4d97-8372-8952777adb41",
   "metadata": {
    "execution": {
     "iopub.execute_input": "2022-09-09T14:35:28.150162Z",
     "iopub.status.busy": "2022-09-09T14:35:28.149861Z",
     "iopub.status.idle": "2022-09-09T14:35:28.267460Z",
     "shell.execute_reply": "2022-09-09T14:35:28.266507Z",
     "shell.execute_reply.started": "2022-09-09T14:35:28.150141Z"
    },
    "tags": []
   },
   "outputs": [],
   "source": [
    "mut_type_freqs = (\n",
    "    mut_type_counts\n",
    "    .assign(\n",
    "        total_count=lambda x: x.groupby([\"clade\", \"reversion_to_ref\"])[\"count\"].transform(\"sum\"),\n",
    "        freq=lambda x: x[\"count\"] / x[\"total_count\"],\n",
    "    )\n",
    "    .pivot_table(\n",
    "        index=[\"clade\", \"reversion_to_ref\", \"total_count\"],\n",
    "        values=\"freq\",\n",
    "        columns=\"mut_type\",\n",
    "        fill_value=0,\n",
    "    )\n",
    ")\n",
    "\n",
    "pca = sklearn.decomposition.PCA(n_components=2)\n",
    "pca_coords = pca.fit_transform(mut_type_freqs.values)\n",
    "assert len(pca_coords) == len(mut_type_freqs)\n",
    "\n",
    "mut_type_freqs_pca = (\n",
    "    mut_type_freqs\n",
    "    .reset_index()\n",
    "    .assign(\n",
    "        principal_component_1=pca_coords[:, 0],\n",
    "        principal_component_2=pca_coords[:, 1],\n",
    "        log10_total_count=lambda x: numpy.log(x[\"total_count\"]) / numpy.log(10),\n",
    "    )\n",
    ")"
   ]
  },
  {
   "cell_type": "markdown",
   "id": "24d6a4fb-6d04-452b-8235-ab31072ca8bf",
   "metadata": {},
   "source": [
    "Plot mutation spectrum PCA for all clades including both reversions to reference and non reversions to reference:"
   ]
  },
  {
   "cell_type": "code",
   "execution_count": 13,
   "id": "92ce347f-4449-48c4-8a75-79893915b5f6",
   "metadata": {
    "execution": {
     "iopub.execute_input": "2022-09-09T14:39:16.743624Z",
     "iopub.status.busy": "2022-09-09T14:39:16.742878Z",
     "iopub.status.idle": "2022-09-09T14:39:16.843869Z",
     "shell.execute_reply": "2022-09-09T14:39:16.842874Z",
     "shell.execute_reply.started": "2022-09-09T14:39:16.743574Z"
    },
    "tags": []
   },
   "outputs": [
    {
     "data": {
      "text/html": [
       "\n",
       "<div id=\"altair-viz-e03a6792ef204030a5b9e79856fbea5c\"></div>\n",
       "<script type=\"text/javascript\">\n",
       "  var VEGA_DEBUG = (typeof VEGA_DEBUG == \"undefined\") ? {} : VEGA_DEBUG;\n",
       "  (function(spec, embedOpt){\n",
       "    let outputDiv = document.currentScript.previousElementSibling;\n",
       "    if (outputDiv.id !== \"altair-viz-e03a6792ef204030a5b9e79856fbea5c\") {\n",
       "      outputDiv = document.getElementById(\"altair-viz-e03a6792ef204030a5b9e79856fbea5c\");\n",
       "    }\n",
       "    const paths = {\n",
       "      \"vega\": \"https://cdn.jsdelivr.net/npm//vega@5?noext\",\n",
       "      \"vega-lib\": \"https://cdn.jsdelivr.net/npm//vega-lib?noext\",\n",
       "      \"vega-lite\": \"https://cdn.jsdelivr.net/npm//vega-lite@4.17.0?noext\",\n",
       "      \"vega-embed\": \"https://cdn.jsdelivr.net/npm//vega-embed@6?noext\",\n",
       "    };\n",
       "\n",
       "    function maybeLoadScript(lib, version) {\n",
       "      var key = `${lib.replace(\"-\", \"\")}_version`;\n",
       "      return (VEGA_DEBUG[key] == version) ?\n",
       "        Promise.resolve(paths[lib]) :\n",
       "        new Promise(function(resolve, reject) {\n",
       "          var s = document.createElement('script');\n",
       "          document.getElementsByTagName(\"head\")[0].appendChild(s);\n",
       "          s.async = true;\n",
       "          s.onload = () => {\n",
       "            VEGA_DEBUG[key] = version;\n",
       "            return resolve(paths[lib]);\n",
       "          };\n",
       "          s.onerror = () => reject(`Error loading script: ${paths[lib]}`);\n",
       "          s.src = paths[lib];\n",
       "        });\n",
       "    }\n",
       "\n",
       "    function showError(err) {\n",
       "      outputDiv.innerHTML = `<div class=\"error\" style=\"color:red;\">${err}</div>`;\n",
       "      throw err;\n",
       "    }\n",
       "\n",
       "    function displayChart(vegaEmbed) {\n",
       "      vegaEmbed(outputDiv, spec, embedOpt)\n",
       "        .catch(err => showError(`Javascript Error: ${err.message}<br>This usually means there's a typo in your chart specification. See the javascript console for the full traceback.`));\n",
       "    }\n",
       "\n",
       "    if(typeof define === \"function\" && define.amd) {\n",
       "      requirejs.config({paths});\n",
       "      require([\"vega-embed\"], displayChart, err => showError(`Error loading script: ${err.message}`));\n",
       "    } else {\n",
       "      maybeLoadScript(\"vega\", \"5\")\n",
       "        .then(() => maybeLoadScript(\"vega-lite\", \"4.17.0\"))\n",
       "        .then(() => maybeLoadScript(\"vega-embed\", \"6\"))\n",
       "        .catch(showError)\n",
       "        .then(() => displayChart(vegaEmbed));\n",
       "    }\n",
       "  })({\"config\": {\"view\": {\"continuousWidth\": 400, \"continuousHeight\": 300}}, \"data\": {\"name\": \"data-2f782f48f5ab10c93782016f8817ff99\"}, \"mark\": {\"type\": \"point\", \"filled\": true, \"size\": 50}, \"encoding\": {\"color\": {\"field\": \"clade\", \"scale\": {\"scheme\": \"viridis\"}, \"type\": \"nominal\"}, \"shape\": {\"field\": \"reversion_to_ref\", \"type\": \"nominal\"}, \"tooltip\": [{\"field\": \"clade\", \"type\": \"nominal\"}, {\"field\": \"reversion_to_ref\", \"type\": \"nominal\"}, {\"field\": \"total_count\", \"type\": \"quantitative\"}], \"x\": {\"field\": \"principal_component_1\", \"type\": \"quantitative\"}, \"y\": {\"field\": \"principal_component_2\", \"type\": \"quantitative\"}}, \"$schema\": \"https://vega.github.io/schema/vega-lite/v4.17.0.json\", \"datasets\": {\"data-2f782f48f5ab10c93782016f8817ff99\": [{\"clade\": \"19A\", \"reversion_to_ref\": false, \"total_count\": 2626, \"AtoC\": 0.01904036557501904, \"AtoG\": 0.0853008377760853, \"AtoT\": 0.02284843869002285, \"CtoA\": 0.00913937547600914, \"CtoG\": 0.002284843869002285, \"CtoT\": 0.4741051028179741, \"GtoA\": 0.05826351865955826, \"GtoC\": 0.0049504950495049506, \"GtoT\": 0.06092916984006093, \"TtoA\": 0.01904036557501904, \"TtoC\": 0.22886519421172888, \"TtoG\": 0.015232292460015232, \"principal_component_1\": -0.11412066851721654, \"principal_component_2\": -0.020808372825884006, \"log10_total_count\": 3.41929472175346}, {\"clade\": \"19A\", \"reversion_to_ref\": true, \"total_count\": 1104, \"AtoC\": 0.0018115942028985507, \"AtoG\": 0.16032608695652173, \"AtoT\": 0.006340579710144928, \"CtoA\": 0.009963768115942028, \"CtoG\": 0.0, \"CtoT\": 0.6041666666666666, \"GtoA\": 0.024456521739130436, \"GtoC\": 0.017210144927536232, \"GtoT\": 0.04619565217391304, \"TtoA\": 0.007246376811594203, \"TtoC\": 0.10235507246376811, \"TtoG\": 0.019927536231884056, \"principal_component_1\": 0.0838878642770654, \"principal_component_2\": -0.00349168531321409, \"log10_total_count\": 3.04296907339318}, {\"clade\": \"20A\", \"reversion_to_ref\": false, \"total_count\": 28920, \"AtoC\": 0.009820193637621023, \"AtoG\": 0.07361687413554634, \"AtoT\": 0.015871369294605808, \"CtoA\": 0.009197786998616874, \"CtoG\": 0.004356846473029046, \"CtoT\": 0.5151106500691562, \"GtoA\": 0.060235131396957124, \"GtoC\": 0.004114799446749654, \"GtoT\": 0.06725449515905947, \"TtoA\": 0.018568464730290456, \"TtoC\": 0.2016597510373444, \"TtoG\": 0.020193637621023514, \"principal_component_1\": -0.0701403573373526, \"principal_component_2\": -0.023292305385447645, \"log10_total_count\": 4.461198288622493}, {\"clade\": \"20A\", \"reversion_to_ref\": true, \"total_count\": 10953, \"AtoC\": 0.0044736601844243586, \"AtoG\": 0.10535926230256551, \"AtoT\": 0.007669131744727472, \"CtoA\": 0.012416689491463526, \"CtoG\": 0.00036519674974892725, \"CtoT\": 0.6428375787455491, \"GtoA\": 0.03432849447639916, \"GtoC\": 0.0020085821236191, \"GtoT\": 0.06756139870355155, \"TtoA\": 0.010408107367844427, \"TtoC\": 0.10143339724276454, \"TtoG\": 0.01113850086734228, \"principal_component_1\": 0.09662815199897608, \"principal_component_2\": -0.010208430341635507, \"log10_total_count\": 4.03953308766939}, {\"clade\": \"20B\", \"reversion_to_ref\": false, \"total_count\": 22806, \"AtoC\": 0.007234938174164694, \"AtoG\": 0.07291940717355082, \"AtoT\": 0.015302990441111988, \"CtoA\": 0.010128913443830571, \"CtoG\": 0.0036393931421555732, \"CtoT\": 0.5313075506445673, \"GtoA\": 0.05923879680785758, \"GtoC\": 0.0032009120406910462, \"GtoT\": 0.07037621678505657, \"TtoA\": 0.018503902481803034, \"TtoC\": 0.1976672805402087, \"TtoG\": 0.010479698325002193, \"principal_component_1\": -0.05634321297315478, \"principal_component_2\": -0.019459239473894677, \"log10_total_count\": 4.358049119986747}, {\"clade\": \"20B\", \"reversion_to_ref\": true, \"total_count\": 9041, \"AtoC\": 0.00342882424510563, \"AtoG\": 0.11569516646388674, \"AtoT\": 0.008295542528481362, \"CtoA\": 0.011945581241013163, \"CtoG\": 0.0, \"CtoT\": 0.6394204180953434, \"GtoA\": 0.033956420749917046, \"GtoC\": 0.002765180842827121, \"GtoT\": 0.07023559340780887, \"TtoA\": 0.009069793164472956, \"TtoC\": 0.09324189802013051, \"TtoG\": 0.011945581241013163, \"principal_component_1\": 0.10232875332175938, \"principal_component_2\": -0.01641237258679995, \"log10_total_count\": 3.95621646924339}, {\"clade\": \"20C\", \"reversion_to_ref\": false, \"total_count\": 15445, \"AtoC\": 0.008222725801230171, \"AtoG\": 0.07691809647134995, \"AtoT\": 0.014826804791194562, \"CtoA\": 0.010618323081903528, \"CtoG\": 0.0014891550663645192, \"CtoT\": 0.5235998705082551, \"GtoA\": 0.0656523146649401, \"GtoC\": 0.003172547750080932, \"GtoT\": 0.06299773389446423, \"TtoA\": 0.020459695694399482, \"TtoC\": 0.2018776303010683, \"TtoG\": 0.01016510197474911, \"principal_component_1\": -0.06462121255340417, \"principal_component_2\": -0.01594836697274738, \"log10_total_count\": 4.188787912637469}, {\"clade\": \"20C\", \"reversion_to_ref\": true, \"total_count\": 6210, \"AtoC\": 0.0025764895330112722, \"AtoG\": 0.12286634460547503, \"AtoT\": 0.0075684380032206115, \"CtoA\": 0.013848631239935587, \"CtoG\": 0.0006441223832528181, \"CtoT\": 0.6254428341384863, \"GtoA\": 0.036553945249597423, \"GtoC\": 0.0025764895330112722, \"GtoT\": 0.06570048309178744, \"TtoA\": 0.011755233494363929, \"TtoC\": 0.1001610305958132, \"TtoG\": 0.010305958132045089, \"principal_component_1\": 0.08928549780338502, \"principal_component_2\": -0.014933315766098458, \"log10_total_count\": 3.7930916001765804}, {\"clade\": \"20E\", \"reversion_to_ref\": false, \"total_count\": 17200, \"AtoC\": 0.008430232558139536, \"AtoG\": 0.07837209302325582, \"AtoT\": 0.014476744186046511, \"CtoA\": 0.009825581395348837, \"CtoG\": 0.01, \"CtoT\": 0.5394767441860465, \"GtoA\": 0.05401162790697674, \"GtoC\": 0.005232558139534884, \"GtoT\": 0.05593023255813954, \"TtoA\": 0.020290697674418604, \"TtoC\": 0.19459302325581396, \"TtoG\": 0.00936046511627907, \"principal_component_1\": -0.04696958219064201, \"principal_component_2\": -0.006093242158293229, \"log10_total_count\": 4.235528446907549}, {\"clade\": \"20E\", \"reversion_to_ref\": true, \"total_count\": 7074, \"AtoC\": 0.004240882103477523, \"AtoG\": 0.10602205258693809, \"AtoT\": 0.009188577890867968, \"CtoA\": 0.011450381679389313, \"CtoG\": 0.00042408821034775233, \"CtoT\": 0.6614362454057111, \"GtoA\": 0.02954481198756008, \"GtoC\": 0.0021204410517387615, \"GtoT\": 0.05131467345207803, \"TtoA\": 0.009895391574780888, \"TtoC\": 0.10390161153519932, \"TtoG\": 0.010460842521911224, \"principal_component_1\": 0.10838434540809778, \"principal_component_2\": 0.0111817318665262, \"log10_total_count\": 3.849665055478732}, {\"clade\": \"20F\", \"reversion_to_ref\": false, \"total_count\": 930, \"AtoC\": 0.010752688172043012, \"AtoG\": 0.07311827956989247, \"AtoT\": 0.015053763440860216, \"CtoA\": 0.017204301075268817, \"CtoG\": 0.001075268817204301, \"CtoT\": 0.5494623655913978, \"GtoA\": 0.05053763440860215, \"GtoC\": 0.004301075268817204, \"GtoT\": 0.026881720430107527, \"TtoA\": 0.023655913978494623, \"TtoC\": 0.21935483870967742, \"TtoG\": 0.008602150537634409, \"principal_component_1\": -0.05768728369129379, \"principal_component_2\": 0.03154230893548251, \"log10_total_count\": 2.968482948553935}, {\"clade\": \"20F\", \"reversion_to_ref\": true, \"total_count\": 384, \"AtoC\": 0.0, \"AtoG\": 0.15364583333333334, \"AtoT\": 0.010416666666666666, \"CtoA\": 0.0078125, \"CtoG\": 0.0, \"CtoT\": 0.6875, \"GtoA\": 0.033854166666666664, \"GtoC\": 0.0026041666666666665, \"GtoT\": 0.028645833333333332, \"TtoA\": 0.0, \"TtoC\": 0.06770833333333333, \"TtoG\": 0.0078125, \"principal_component_1\": 0.16106986166715703, \"principal_component_2\": 0.02539905300871125, \"log10_total_count\": 2.5843312243675305}, {\"clade\": \"20G\", \"reversion_to_ref\": false, \"total_count\": 23418, \"AtoC\": 0.007344777521564609, \"AtoG\": 0.07357588180032454, \"AtoT\": 0.016952771372448543, \"CtoA\": 0.010077717994704928, \"CtoG\": 0.0014945768212486121, \"CtoT\": 0.541421129046033, \"GtoA\": 0.061192245281407466, \"GtoC\": 0.002434025108890597, \"GtoT\": 0.058630113587838414, \"TtoA\": 0.020198138184302675, \"TtoC\": 0.19719873601503118, \"TtoG\": 0.009479887266205482, \"principal_component_1\": -0.04947563722422956, \"principal_component_2\": -0.007430632340158547, \"log10_total_count\": 4.369549801664893}, {\"clade\": \"20G\", \"reversion_to_ref\": true, \"total_count\": 9488, \"AtoC\": 0.0035834738617200675, \"AtoG\": 0.10687183811129848, \"AtoT\": 0.008537099494097807, \"CtoA\": 0.012331365935919056, \"CtoG\": 0.0, \"CtoT\": 0.6579890387858347, \"GtoA\": 0.032567453625632375, \"GtoC\": 0.0013701517706576729, \"GtoT\": 0.05459527824620573, \"TtoA\": 0.010855817875210793, \"TtoC\": 0.09991568296795952, \"TtoG\": 0.011382799325463743, \"principal_component_1\": 0.10850235576124521, \"principal_component_2\": 0.004984358705467678, \"log10_total_count\": 3.977174676020187}, {\"clade\": \"20I\", \"reversion_to_ref\": false, \"total_count\": 103226, \"AtoC\": 0.007149361594947009, \"AtoG\": 0.07487454711022416, \"AtoT\": 0.015877782729157384, \"CtoA\": 0.010026543700230562, \"CtoG\": 0.009154670334993122, \"CtoT\": 0.5406486737837367, \"GtoA\": 0.05596458256640769, \"GtoC\": 0.0025865576502044057, \"GtoT\": 0.05791176641543797, \"TtoA\": 0.018551527715885533, \"TtoC\": 0.19624900703311182, \"TtoG\": 0.01100497936566369, \"principal_component_1\": -0.04826423233688596, \"principal_component_2\": -0.0069229304061678675, \"log10_total_count\": 5.013789098787023}, {\"clade\": \"20I\", \"reversion_to_ref\": true, \"total_count\": 41699, \"AtoC\": 0.008129691359505024, \"AtoG\": 0.11223290726396316, \"AtoT\": 0.007122472960982278, \"CtoA\": 0.013165783352118756, \"CtoG\": 0.0002637952948511955, \"CtoT\": 0.6337562051847766, \"GtoA\": 0.031031919230676993, \"GtoC\": 0.001151106741168853, \"GtoT\": 0.05556488165183817, \"TtoA\": 0.010791625698457997, \"TtoC\": 0.11825223626465863, \"TtoG\": 0.008537374997002327, \"principal_component_1\": 0.0809884608151886, \"principal_component_2\": 0.0046059959599068405, \"log10_total_count\": 4.620125640113101}, {\"clade\": \"20J\", \"reversion_to_ref\": false, \"total_count\": 6956, \"AtoC\": 0.007331799884991374, \"AtoG\": 0.06641748131109833, \"AtoT\": 0.012219666474985624, \"CtoA\": 0.008913168487636573, \"CtoG\": 0.0023001725129384704, \"CtoT\": 0.5255894192064405, \"GtoA\": 0.06325474410580793, \"GtoC\": 0.0030189764232317422, \"GtoT\": 0.07763082231167337, \"TtoA\": 0.02314548591144336, \"TtoC\": 0.19824611845888443, \"TtoG\": 0.011932144910868315, \"principal_component_1\": -0.06274949114012059, \"principal_component_2\": -0.028281881847849046, \"log10_total_count\": 3.8423595733306746}, {\"clade\": \"20J\", \"reversion_to_ref\": true, \"total_count\": 2780, \"AtoC\": 0.0014388489208633094, \"AtoG\": 0.10863309352517986, \"AtoT\": 0.008273381294964029, \"CtoA\": 0.014388489208633094, \"CtoG\": 0.00035971223021582735, \"CtoT\": 0.6446043165467625, \"GtoA\": 0.03237410071942446, \"GtoC\": 0.002517985611510791, \"GtoT\": 0.07877697841726619, \"TtoA\": 0.008273381294964029, \"TtoC\": 0.09316546762589928, \"TtoG\": 0.007194244604316547, \"principal_component_1\": 0.10468196675850162, \"principal_component_2\": -0.020232586646900554, \"log10_total_count\": 3.4440447959180758}, {\"clade\": \"21C\", \"reversion_to_ref\": false, \"total_count\": 10957, \"AtoC\": 0.007301268595418454, \"AtoG\": 0.07182622980742905, \"AtoT\": 0.016701651912019715, \"CtoA\": 0.010313041891028565, \"CtoG\": 0.0021903805786255364, \"CtoT\": 0.5396550150588665, \"GtoA\": 0.061421922058957745, \"GtoC\": 0.0023729122935109976, \"GtoT\": 0.05704116090170667, \"TtoA\": 0.019895956922515286, \"TtoC\": 0.2002372912293511, \"TtoG\": 0.011043168750570412, \"principal_component_1\": -0.05314138080469324, \"principal_component_2\": -0.005890440408305271, \"log10_total_count\": 4.039691661649026}, {\"clade\": \"21C\", \"reversion_to_ref\": true, \"total_count\": 5639, \"AtoC\": 0.0030147189217946445, \"AtoG\": 0.08228409292427735, \"AtoT\": 0.00620677425075368, \"CtoA\": 0.01064018442986345, \"CtoG\": 0.0003546728143287817, \"CtoT\": 0.5084234793403085, \"GtoA\": 0.02269906011704203, \"GtoC\": 0.0005320092214931725, \"GtoT\": 0.03794999113317964, \"TtoA\": 0.00815747472956198, \"TtoC\": 0.31033871253768397, \"TtoG\": 0.009398829579712715, \"principal_component_1\": -0.13912800670686568, \"principal_component_2\": 0.06046813429245642, \"log10_total_count\": 3.7512020945883524}, {\"clade\": \"21F\", \"reversion_to_ref\": false, \"total_count\": 8084, \"AtoC\": 0.006432459178624443, \"AtoG\": 0.07384957941613063, \"AtoT\": 0.016081147946561108, \"CtoA\": 0.009648688767936665, \"CtoG\": 0.001855517070757051, \"CtoT\": 0.5150915388421573, \"GtoA\": 0.07335477486392875, \"GtoC\": 0.0023503216229589312, \"GtoT\": 0.05999505195447798, \"TtoA\": 0.025729836714497772, \"TtoC\": 0.20571499257793172, \"TtoG\": 0.009896091044037604, \"principal_component_1\": -0.07516159643215921, \"principal_component_2\": -0.017382304159175386, \"log10_total_count\": 3.9076263048432662}, {\"clade\": \"21F\", \"reversion_to_ref\": true, \"total_count\": 3128, \"AtoC\": 0.0019181585677749361, \"AtoG\": 0.09942455242966752, \"AtoT\": 0.005754475703324808, \"CtoA\": 0.011828644501278773, \"CtoG\": 0.0006393861892583121, \"CtoT\": 0.6163682864450127, \"GtoA\": 0.028452685421994885, \"GtoC\": 0.00159846547314578, \"GtoT\": 0.062020460358056265, \"TtoA\": 0.026854219948849106, \"TtoC\": 0.10166240409207161, \"TtoG\": 0.043478260869565216, \"principal_component_1\": 0.07770321152585435, \"principal_component_2\": -0.0204939583399062, \"log10_total_count\": 3.4952667443878105}, {\"clade\": \"21I\", \"reversion_to_ref\": false, \"total_count\": 42041, \"AtoC\": 0.008634428296187055, \"AtoG\": 0.0814918769772365, \"AtoT\": 0.015960609880830617, \"CtoA\": 0.012368878000047573, \"CtoG\": 0.004067457957707952, \"CtoT\": 0.4499892961632692, \"GtoA\": 0.08375157584262981, \"GtoC\": 0.0034252277538593277, \"GtoT\": 0.06055992959254061, \"TtoA\": 0.014438286434670917, \"TtoC\": 0.2550605361432887, \"TtoG\": 0.010251896957731738, \"principal_component_1\": -0.15221985937156665, \"principal_component_2\": -0.02051993449692729, \"log10_total_count\": 4.623673037739571}, {\"clade\": \"21I\", \"reversion_to_ref\": true, \"total_count\": 15272, \"AtoC\": 0.004256155055002619, \"AtoG\": 0.1392744892613934, \"AtoT\": 0.009232582503928758, \"CtoA\": 0.01722105814562598, \"CtoG\": 0.0005238344683080147, \"CtoT\": 0.6105945521215296, \"GtoA\": 0.030513357778941853, \"GtoC\": 0.001964379256155055, \"GtoT\": 0.07255107386066004, \"TtoA\": 0.0076610790990047145, \"TtoC\": 0.09514143530644316, \"TtoG\": 0.011066003143006809, \"principal_component_1\": 0.08738469956533432, \"principal_component_2\": -0.02543325358262634, \"log10_total_count\": 4.183895915385611}, {\"clade\": \"21J\", \"reversion_to_ref\": false, \"total_count\": 459986, \"AtoC\": 0.01055032109672903, \"AtoG\": 0.08265468949054972, \"AtoT\": 0.017257046953602934, \"CtoA\": 0.012546034009730731, \"CtoG\": 0.0064762840608192426, \"CtoT\": 0.4824951194166779, \"GtoA\": 0.061799706947602756, \"GtoC\": 0.0036153274230085264, \"GtoT\": 0.06548677568447735, \"TtoA\": 0.01534829320892375, \"TtoC\": 0.23223532890131438, \"TtoG\": 0.009535072806563677, \"principal_component_1\": -0.11119172063873091, \"principal_component_2\": -0.018224317916249753, \"log10_total_count\": 5.662744613822286}, {\"clade\": \"21J\", \"reversion_to_ref\": true, \"total_count\": 169183, \"AtoC\": 0.004492177109993321, \"AtoG\": 0.12784381409479675, \"AtoT\": 0.009138033963223255, \"CtoA\": 0.020273904588522487, \"CtoG\": 0.0005024145451966214, \"CtoT\": 0.6159897862078341, \"GtoA\": 0.031415685973176975, \"GtoC\": 0.001903264512391907, \"GtoT\": 0.06736492437183406, \"TtoA\": 0.009019818776118169, \"TtoC\": 0.10059521346707412, \"TtoG\": 0.011460962389838222, \"principal_component_1\": 0.08457635459426674, \"principal_component_2\": -0.01829781701189903, \"log10_total_count\": 5.228356721722432}, {\"clade\": \"21K\", \"reversion_to_ref\": false, \"total_count\": 194805, \"AtoC\": 0.010769744103077437, \"AtoG\": 0.07989527989527989, \"AtoT\": 0.017330150663483996, \"CtoA\": 0.012766612766612766, \"CtoG\": 0.0037062703729370395, \"CtoT\": 0.487995687995688, \"GtoA\": 0.06918713585380253, \"GtoC\": 0.0029824696491363156, \"GtoT\": 0.030266163599496933, \"TtoA\": 0.026898693565360232, \"TtoC\": 0.2491671158337825, \"TtoG\": 0.009034675701342369, \"principal_component_1\": -0.12131616347942735, \"principal_component_2\": 0.01560624292584561, \"log10_total_count\": 5.289600099588499}, {\"clade\": \"21K\", \"reversion_to_ref\": true, \"total_count\": 75212, \"AtoC\": 0.0031112056586714886, \"AtoG\": 0.13120246769132585, \"AtoT\": 0.007445620379726639, \"CtoA\": 0.01780301015795352, \"CtoG\": 0.0004254640216986651, \"CtoT\": 0.6176939850023933, \"GtoA\": 0.03952826676594161, \"GtoC\": 0.000797745040684997, \"GtoT\": 0.029317130245173642, \"TtoA\": 0.020475456044248257, \"TtoC\": 0.1209913311705579, \"TtoG\": 0.011208317821624209, \"principal_component_1\": 0.07085766605522631, \"principal_component_2\": 0.018346064049024922, \"log10_total_count\": 4.876287137373732}, {\"clade\": \"21L\", \"reversion_to_ref\": false, \"total_count\": 2172, \"AtoC\": 0.018876611418047883, \"AtoG\": 0.08149171270718232, \"AtoT\": 0.013351749539594844, \"CtoA\": 0.008287292817679558, \"CtoG\": 0.005985267034990792, \"CtoT\": 0.5220994475138122, \"GtoA\": 0.06952117863720074, \"GtoC\": 0.0013812154696132596, \"GtoT\": 0.034530386740331494, \"TtoA\": 0.02117863720073665, \"TtoC\": 0.21639042357274402, \"TtoG\": 0.006906077348066298, \"principal_component_1\": -0.07563497443774539, \"principal_component_2\": 0.010488337244946196, \"log10_total_count\": 3.3368598209168088}, {\"clade\": \"21L\", \"reversion_to_ref\": true, \"total_count\": 941, \"AtoC\": 0.0, \"AtoG\": 0.1030818278427205, \"AtoT\": 0.008501594048884165, \"CtoA\": 0.020191285866099893, \"CtoG\": 0.0, \"CtoT\": 0.640807651434644, \"GtoA\": 0.03506907545164718, \"GtoC\": 0.0010626992561105207, \"GtoT\": 0.03400637619553666, \"TtoA\": 0.01487778958554729, \"TtoC\": 0.12964930924548354, \"TtoG\": 0.012752391073326248, \"principal_component_1\": 0.07543636291507202, \"principal_component_2\": 0.02669630190637086, \"log10_total_count\": 2.9735896234272565}, {\"clade\": \"21M\", \"reversion_to_ref\": false, \"total_count\": 143583, \"AtoC\": 0.010042971660990507, \"AtoG\": 0.07662467005146849, \"AtoT\": 0.015050528265881059, \"CtoA\": 0.013476525772549675, \"CtoG\": 0.006031354686836185, \"CtoT\": 0.5098793032601353, \"GtoA\": 0.0652793157964383, \"GtoC\": 0.0031967572762792253, \"GtoT\": 0.03238544953093333, \"TtoA\": 0.02005112025796926, \"TtoC\": 0.23993091104100067, \"TtoG\": 0.008051092399518048, \"principal_component_1\": -0.0999317894085249, \"principal_component_2\": 0.01936324570200333, \"log10_total_count\": 5.157103023170604}, {\"clade\": \"21M\", \"reversion_to_ref\": true, \"total_count\": 54156, \"AtoC\": 0.0024004727084718223, \"AtoG\": 0.12299652854716006, \"AtoT\": 0.006721323583721102, \"CtoA\": 0.017892754265455352, \"CtoG\": 0.00029544279488883963, \"CtoT\": 0.6314351133761725, \"GtoA\": 0.03796439914321589, \"GtoC\": 0.0011263756555137013, \"GtoT\": 0.03211093876948076, \"TtoA\": 0.015787724351872368, \"TtoC\": 0.11762316271511929, \"TtoG\": 0.013645764088928281, \"principal_component_1\": 0.08116318873520581, \"principal_component_2\": 0.01971921041095806, \"log10_total_count\": 4.73364657956777}, {\"clade\": \"22A\", \"reversion_to_ref\": false, \"total_count\": 11586, \"AtoC\": 0.006559640945969274, \"AtoG\": 0.07552218194372519, \"AtoT\": 0.01432763680303815, \"CtoA\": 0.014500258933195235, \"CtoG\": 0.0010357327809425167, \"CtoT\": 0.5297773174520973, \"GtoA\": 0.07457276022786122, \"GtoC\": 0.0029345762126704645, \"GtoT\": 0.038149490764716035, \"TtoA\": 0.021491455204557225, \"TtoC\": 0.21396513032970826, \"TtoG\": 0.007163818401519075, \"principal_component_1\": -0.07035861723358168, \"principal_component_2\": 0.009092316908282149, \"log10_total_count\": 4.063933524163038}, {\"clade\": \"22A\", \"reversion_to_ref\": true, \"total_count\": 4519, \"AtoC\": 0.004868333702146493, \"AtoG\": 0.1214870546581102, \"AtoT\": 0.00464704580659438, \"CtoA\": 0.015268864793095818, \"CtoG\": 0.0006638636866563399, \"CtoT\": 0.6479309581765877, \"GtoA\": 0.0416021243637973, \"GtoC\": 0.0008851515822084533, \"GtoT\": 0.03739765434830715, \"TtoA\": 0.015047576897543704, \"TtoC\": 0.09913697720734675, \"TtoG\": 0.011064394777605666, \"principal_component_1\": 0.10394801830454273, \"principal_component_2\": 0.012872951398924247, \"log10_total_count\": 3.655042341331202}, {\"clade\": \"22B\", \"reversion_to_ref\": false, \"total_count\": 51590, \"AtoC\": 0.007075014537701105, \"AtoG\": 0.07668152742779609, \"AtoT\": 0.014944756735801512, \"CtoA\": 0.012075983717774762, \"CtoG\": 0.0016476061252180655, \"CtoT\": 0.5102539251792984, \"GtoA\": 0.07778639271176585, \"GtoC\": 0.0035859662725334367, \"GtoT\": 0.03766233766233766, \"TtoA\": 0.021961620469083155, \"TtoC\": 0.2277960845125024, \"TtoG\": 0.008528784648187633, \"principal_component_1\": -0.09331124785185137, \"principal_component_2\": 0.007535292914729497, \"log10_total_count\": 4.712565527873308}, {\"clade\": \"22B\", \"reversion_to_ref\": true, \"total_count\": 19403, \"AtoC\": 0.003092305313611297, \"AtoG\": 0.11925990826160902, \"AtoT\": 0.007060763799412462, \"CtoA\": 0.018038447662732566, \"CtoG\": 0.00041230737514817294, \"CtoT\": 0.6182549090346854, \"GtoA\": 0.039220739060969956, \"GtoC\": 0.0009792300159769108, \"GtoT\": 0.0414884296242849, \"TtoA\": 0.01587383394320466, \"TtoC\": 0.12513528835747048, \"TtoG\": 0.011183837550894192, \"principal_component_1\": 0.06606504970084268, \"principal_component_2\": 0.010909392606494685, \"log10_total_count\": 4.28786888367856}, {\"clade\": \"22C\", \"reversion_to_ref\": false, \"total_count\": 32038, \"AtoC\": 0.006336225731943318, \"AtoG\": 0.08177788875710094, \"AtoT\": 0.014326736999812722, \"CtoA\": 0.012547599725326175, \"CtoG\": 0.0014045820588051688, \"CtoT\": 0.5123603221174855, \"GtoA\": 0.06954241837817592, \"GtoC\": 0.002684312379049878, \"GtoT\": 0.03430301516948624, \"TtoA\": 0.017822585679505586, \"TtoC\": 0.23865409825831824, \"TtoG\": 0.008240214744990324, \"principal_component_1\": -0.09651245422896995, \"principal_component_2\": 0.01873750578009565, \"log10_total_count\": 4.505665397047829}, {\"clade\": \"22C\", \"reversion_to_ref\": true, \"total_count\": 12255, \"AtoC\": 0.0019583843329253367, \"AtoG\": 0.13365973072215423, \"AtoT\": 0.006038351693186454, \"CtoA\": 0.01762545899632803, \"CtoG\": 0.0005711954304365566, \"CtoT\": 0.6190126478988168, \"GtoA\": 0.03949408404732762, \"GtoC\": 0.001142390860873113, \"GtoT\": 0.036801305589555286, \"TtoA\": 0.015014279885760914, \"TtoC\": 0.11701346389228887, \"TtoG\": 0.011668706650346796, \"principal_component_1\": 0.07538767935069446, \"principal_component_2\": 0.012208943363954887, \"log10_total_count\": 4.088313315588096}]}}, {\"mode\": \"vega-lite\"});\n",
       "</script>"
      ],
      "text/plain": [
       "alt.Chart(...)"
      ]
     },
     "execution_count": 13,
     "metadata": {},
     "output_type": "execute_result"
    }
   ],
   "source": [
    "mut_type_freqs_chart = (\n",
    "    alt.Chart(mut_type_freqs_pca)\n",
    "    .encode(\n",
    "        x=\"principal_component_1\",\n",
    "        y=\"principal_component_2\",\n",
    "        shape=\"reversion_to_ref\",\n",
    "        color=alt.Color(\"clade\", scale=alt.Scale(scheme=\"viridis\")),\n",
    "        tooltip=[\"clade\", \"reversion_to_ref\", \"total_count\"],\n",
    "    )\n",
    "    .mark_point(filled=True, size=50)\n",
    ")\n",
    "\n",
    "mut_type_freqs_chart"
   ]
  },
  {
   "cell_type": "markdown",
   "id": "d18d786a-4451-4baa-968f-98f34ba5951d",
   "metadata": {
    "execution": {
     "iopub.execute_input": "2022-09-08T23:46:53.757744Z",
     "iopub.status.busy": "2022-09-08T23:46:53.757244Z",
     "iopub.status.idle": "2022-09-08T23:46:53.762383Z",
     "shell.execute_reply": "2022-09-08T23:46:53.761764Z",
     "shell.execute_reply.started": "2022-09-08T23:46:53.757724Z"
    }
   },
   "source": [
    "Now do PCA on just non-reversion mutations:"
   ]
  },
  {
   "cell_type": "code",
   "execution_count": 8,
   "id": "9a5312cc-8677-4c48-9a0b-d45984eecc69",
   "metadata": {
    "execution": {
     "iopub.execute_input": "2022-09-09T14:35:28.395036Z",
     "iopub.status.busy": "2022-09-09T14:35:28.394639Z",
     "iopub.status.idle": "2022-09-09T14:35:28.409208Z",
     "shell.execute_reply": "2022-09-09T14:35:28.408095Z",
     "shell.execute_reply.started": "2022-09-09T14:35:28.395009Z"
    },
    "tags": []
   },
   "outputs": [],
   "source": [
    "mut_type_freqs_no_revert = mut_type_freqs.query(\"reversion_to_ref == False\")\n",
    "\n",
    "pca = sklearn.decomposition.PCA(n_components=2)\n",
    "pca_coords_no_revert = pca.fit_transform(mut_type_freqs_no_revert.values)\n",
    "assert len(pca_coords_no_revert) == len(mut_type_freqs_no_revert)\n",
    "\n",
    "mut_type_freqs_no_revert_pca = (\n",
    "    mut_type_freqs_no_revert\n",
    "    .reset_index()\n",
    "    .assign(\n",
    "        principal_component_1=pca_coords_no_revert[:, 0],\n",
    "        principal_component_2=pca_coords_no_revert[:, 1],\n",
    "        log10_total_count=lambda x: numpy.log(x[\"total_count\"]) / numpy.log(10),\n",
    "    )\n",
    ")"
   ]
  },
  {
   "cell_type": "markdown",
   "id": "84537ca0-e783-434b-81ec-ee0b328be99f",
   "metadata": {},
   "source": [
    "Plot the PCA on just non-reversion mutations:"
   ]
  },
  {
   "cell_type": "code",
   "execution_count": 12,
   "id": "84a8e970-ac09-47e9-954c-271de15b28e4",
   "metadata": {
    "execution": {
     "iopub.execute_input": "2022-09-09T14:38:14.897618Z",
     "iopub.status.busy": "2022-09-09T14:38:14.897032Z",
     "iopub.status.idle": "2022-09-09T14:38:15.002035Z",
     "shell.execute_reply": "2022-09-09T14:38:15.001232Z",
     "shell.execute_reply.started": "2022-09-09T14:38:14.897580Z"
    },
    "tags": []
   },
   "outputs": [
    {
     "data": {
      "text/html": [
       "\n",
       "<div id=\"altair-viz-edc1849322d2482a841bca9178da5118\"></div>\n",
       "<script type=\"text/javascript\">\n",
       "  var VEGA_DEBUG = (typeof VEGA_DEBUG == \"undefined\") ? {} : VEGA_DEBUG;\n",
       "  (function(spec, embedOpt){\n",
       "    let outputDiv = document.currentScript.previousElementSibling;\n",
       "    if (outputDiv.id !== \"altair-viz-edc1849322d2482a841bca9178da5118\") {\n",
       "      outputDiv = document.getElementById(\"altair-viz-edc1849322d2482a841bca9178da5118\");\n",
       "    }\n",
       "    const paths = {\n",
       "      \"vega\": \"https://cdn.jsdelivr.net/npm//vega@5?noext\",\n",
       "      \"vega-lib\": \"https://cdn.jsdelivr.net/npm//vega-lib?noext\",\n",
       "      \"vega-lite\": \"https://cdn.jsdelivr.net/npm//vega-lite@4.17.0?noext\",\n",
       "      \"vega-embed\": \"https://cdn.jsdelivr.net/npm//vega-embed@6?noext\",\n",
       "    };\n",
       "\n",
       "    function maybeLoadScript(lib, version) {\n",
       "      var key = `${lib.replace(\"-\", \"\")}_version`;\n",
       "      return (VEGA_DEBUG[key] == version) ?\n",
       "        Promise.resolve(paths[lib]) :\n",
       "        new Promise(function(resolve, reject) {\n",
       "          var s = document.createElement('script');\n",
       "          document.getElementsByTagName(\"head\")[0].appendChild(s);\n",
       "          s.async = true;\n",
       "          s.onload = () => {\n",
       "            VEGA_DEBUG[key] = version;\n",
       "            return resolve(paths[lib]);\n",
       "          };\n",
       "          s.onerror = () => reject(`Error loading script: ${paths[lib]}`);\n",
       "          s.src = paths[lib];\n",
       "        });\n",
       "    }\n",
       "\n",
       "    function showError(err) {\n",
       "      outputDiv.innerHTML = `<div class=\"error\" style=\"color:red;\">${err}</div>`;\n",
       "      throw err;\n",
       "    }\n",
       "\n",
       "    function displayChart(vegaEmbed) {\n",
       "      vegaEmbed(outputDiv, spec, embedOpt)\n",
       "        .catch(err => showError(`Javascript Error: ${err.message}<br>This usually means there's a typo in your chart specification. See the javascript console for the full traceback.`));\n",
       "    }\n",
       "\n",
       "    if(typeof define === \"function\" && define.amd) {\n",
       "      requirejs.config({paths});\n",
       "      require([\"vega-embed\"], displayChart, err => showError(`Error loading script: ${err.message}`));\n",
       "    } else {\n",
       "      maybeLoadScript(\"vega\", \"5\")\n",
       "        .then(() => maybeLoadScript(\"vega-lite\", \"4.17.0\"))\n",
       "        .then(() => maybeLoadScript(\"vega-embed\", \"6\"))\n",
       "        .catch(showError)\n",
       "        .then(() => displayChart(vegaEmbed));\n",
       "    }\n",
       "  })({\"config\": {\"view\": {\"continuousWidth\": 400, \"continuousHeight\": 300}}, \"data\": {\"name\": \"data-edda16eba5a4e2724357a19163c28ddc\"}, \"mark\": {\"type\": \"point\", \"filled\": true, \"size\": 50}, \"encoding\": {\"color\": {\"field\": \"clade\", \"scale\": {\"scheme\": \"viridis\"}, \"type\": \"nominal\"}, \"tooltip\": [{\"field\": \"clade\", \"type\": \"nominal\"}, {\"field\": \"total_count\", \"type\": \"quantitative\"}], \"x\": {\"field\": \"principal_component_1\", \"type\": \"quantitative\"}, \"y\": {\"field\": \"principal_component_2\", \"type\": \"quantitative\"}}, \"selection\": {\"selector004\": {\"type\": \"single\", \"fields\": [\"log10_total_count\"], \"init\": {\"log10_total_count\": 4}, \"bind\": {\"input\": \"range\", \"max\": 5.662744613822286, \"min\": 2, \"name\": \"minimum log10 total counts\"}}}, \"transform\": [{\"filter\": \"(selector004.log10_total_count <= datum.log10_total_count)\"}], \"$schema\": \"https://vega.github.io/schema/vega-lite/v4.17.0.json\", \"datasets\": {\"data-edda16eba5a4e2724357a19163c28ddc\": [{\"clade\": \"19A\", \"reversion_to_ref\": false, \"total_count\": 2626, \"AtoC\": 0.01904036557501904, \"AtoG\": 0.0853008377760853, \"AtoT\": 0.02284843869002285, \"CtoA\": 0.00913937547600914, \"CtoG\": 0.002284843869002285, \"CtoT\": 0.4741051028179741, \"GtoA\": 0.05826351865955826, \"GtoC\": 0.0049504950495049506, \"GtoT\": 0.06092916984006093, \"TtoA\": 0.01904036557501904, \"TtoC\": 0.22886519421172888, \"TtoG\": 0.015232292460015232, \"principal_component_1\": 0.03955149676161185, \"principal_component_2\": -0.019553403104521874, \"log10_total_count\": 3.41929472175346}, {\"clade\": \"20A\", \"reversion_to_ref\": false, \"total_count\": 28920, \"AtoC\": 0.009820193637621023, \"AtoG\": 0.07361687413554634, \"AtoT\": 0.015871369294605808, \"CtoA\": 0.009197786998616874, \"CtoG\": 0.004356846473029046, \"CtoT\": 0.5151106500691562, \"GtoA\": 0.060235131396957124, \"GtoC\": 0.004114799446749654, \"GtoT\": 0.06725449515905947, \"TtoA\": 0.018568464730290456, \"TtoC\": 0.2016597510373444, \"TtoG\": 0.020193637621023514, \"principal_component_1\": -0.010467451080329232, \"principal_component_2\": -0.02011354366248162, \"log10_total_count\": 4.461198288622493}, {\"clade\": \"20B\", \"reversion_to_ref\": false, \"total_count\": 22806, \"AtoC\": 0.007234938174164694, \"AtoG\": 0.07291940717355082, \"AtoT\": 0.015302990441111988, \"CtoA\": 0.010128913443830571, \"CtoG\": 0.0036393931421555732, \"CtoT\": 0.5313075506445673, \"GtoA\": 0.05923879680785758, \"GtoC\": 0.0032009120406910462, \"GtoT\": 0.07037621678505657, \"TtoA\": 0.018503902481803034, \"TtoC\": 0.1976672805402087, \"TtoG\": 0.010479698325002193, \"principal_component_1\": -0.026161610668030823, \"principal_component_2\": -0.016927839127346016, \"log10_total_count\": 4.358049119986747}, {\"clade\": \"20C\", \"reversion_to_ref\": false, \"total_count\": 15445, \"AtoC\": 0.008222725801230171, \"AtoG\": 0.07691809647134995, \"AtoT\": 0.014826804791194562, \"CtoA\": 0.010618323081903528, \"CtoG\": 0.0014891550663645192, \"CtoT\": 0.5235998705082551, \"GtoA\": 0.0656523146649401, \"GtoC\": 0.003172547750080932, \"GtoT\": 0.06299773389446423, \"TtoA\": 0.020459695694399482, \"TtoC\": 0.2018776303010683, \"TtoG\": 0.01016510197474911, \"principal_component_1\": -0.015533918325870226, \"principal_component_2\": -0.011589153845604876, \"log10_total_count\": 4.188787912637469}, {\"clade\": \"20E\", \"reversion_to_ref\": false, \"total_count\": 17200, \"AtoC\": 0.008430232558139536, \"AtoG\": 0.07837209302325582, \"AtoT\": 0.014476744186046511, \"CtoA\": 0.009825581395348837, \"CtoG\": 0.01, \"CtoT\": 0.5394767441860465, \"GtoA\": 0.05401162790697674, \"GtoC\": 0.005232558139534884, \"GtoT\": 0.05593023255813954, \"TtoA\": 0.020290697674418604, \"TtoC\": 0.19459302325581396, \"TtoG\": 0.00936046511627907, \"principal_component_1\": -0.03331716968347882, \"principal_component_2\": -0.0029509814923120315, \"log10_total_count\": 4.235528446907549}, {\"clade\": \"20F\", \"reversion_to_ref\": false, \"total_count\": 930, \"AtoC\": 0.010752688172043012, \"AtoG\": 0.07311827956989247, \"AtoT\": 0.015053763440860216, \"CtoA\": 0.017204301075268817, \"CtoG\": 0.001075268817204301, \"CtoT\": 0.5494623655913978, \"GtoA\": 0.05053763440860215, \"GtoC\": 0.004301075268817204, \"GtoT\": 0.026881720430107527, \"TtoA\": 0.023655913978494623, \"TtoC\": 0.21935483870967742, \"TtoG\": 0.008602150537634409, \"principal_component_1\": -0.02524490879660322, \"principal_component_2\": 0.03511698998577094, \"log10_total_count\": 2.968482948553935}, {\"clade\": \"20G\", \"reversion_to_ref\": false, \"total_count\": 23418, \"AtoC\": 0.007344777521564609, \"AtoG\": 0.07357588180032454, \"AtoT\": 0.016952771372448543, \"CtoA\": 0.010077717994704928, \"CtoG\": 0.0014945768212486121, \"CtoT\": 0.541421129046033, \"GtoA\": 0.061192245281407466, \"GtoC\": 0.002434025108890597, \"GtoT\": 0.058630113587838414, \"TtoA\": 0.020198138184302675, \"TtoC\": 0.19719873601503118, \"TtoG\": 0.009479887266205482, \"principal_component_1\": -0.03292519555588911, \"principal_component_2\": -0.0032272383872764443, \"log10_total_count\": 4.369549801664893}, {\"clade\": \"20I\", \"reversion_to_ref\": false, \"total_count\": 103226, \"AtoC\": 0.007149361594947009, \"AtoG\": 0.07487454711022416, \"AtoT\": 0.015877782729157384, \"CtoA\": 0.010026543700230562, \"CtoG\": 0.009154670334993122, \"CtoT\": 0.5406486737837367, \"GtoA\": 0.05596458256640769, \"GtoC\": 0.0025865576502044057, \"GtoT\": 0.05791176641543797, \"TtoA\": 0.018551527715885533, \"TtoC\": 0.19624900703311182, \"TtoG\": 0.01100497936566369, \"principal_component_1\": -0.0335131754029082, \"principal_component_2\": -0.0038270840554070346, \"log10_total_count\": 5.013789098787023}, {\"clade\": \"20J\", \"reversion_to_ref\": false, \"total_count\": 6956, \"AtoC\": 0.007331799884991374, \"AtoG\": 0.06641748131109833, \"AtoT\": 0.012219666474985624, \"CtoA\": 0.008913168487636573, \"CtoG\": 0.0023001725129384704, \"CtoT\": 0.5255894192064405, \"GtoA\": 0.06325474410580793, \"GtoC\": 0.0030189764232317422, \"GtoT\": 0.07763082231167337, \"TtoA\": 0.02314548591144336, \"TtoC\": 0.19824611845888443, \"TtoG\": 0.011932144910868315, \"principal_component_1\": -0.02224652418484537, \"principal_component_2\": -0.024761442843693762, \"log10_total_count\": 3.8423595733306746}, {\"clade\": \"21C\", \"reversion_to_ref\": false, \"total_count\": 10957, \"AtoC\": 0.007301268595418454, \"AtoG\": 0.07182622980742905, \"AtoT\": 0.016701651912019715, \"CtoA\": 0.010313041891028565, \"CtoG\": 0.0021903805786255364, \"CtoT\": 0.5396550150588665, \"GtoA\": 0.061421922058957745, \"GtoC\": 0.0023729122935109976, \"GtoT\": 0.05704116090170667, \"TtoA\": 0.019895956922515286, \"TtoC\": 0.2002372912293511, \"TtoG\": 0.011043168750570412, \"principal_component_1\": -0.029790362734290258, \"principal_component_2\": -0.001651061143897167, \"log10_total_count\": 4.039691661649026}, {\"clade\": \"21F\", \"reversion_to_ref\": false, \"total_count\": 8084, \"AtoC\": 0.006432459178624443, \"AtoG\": 0.07384957941613063, \"AtoT\": 0.016081147946561108, \"CtoA\": 0.009648688767936665, \"CtoG\": 0.001855517070757051, \"CtoT\": 0.5150915388421573, \"GtoA\": 0.07335477486392875, \"GtoC\": 0.0023503216229589312, \"GtoT\": 0.05999505195447798, \"TtoA\": 0.025729836714497772, \"TtoC\": 0.20571499257793172, \"TtoG\": 0.009896091044037604, \"principal_component_1\": -0.0056114177899045, \"principal_component_2\": -0.010496982126277333, \"log10_total_count\": 3.9076263048432662}, {\"clade\": \"21I\", \"reversion_to_ref\": false, \"total_count\": 42041, \"AtoC\": 0.008634428296187055, \"AtoG\": 0.0814918769772365, \"AtoT\": 0.015960609880830617, \"CtoA\": 0.012368878000047573, \"CtoG\": 0.004067457957707952, \"CtoT\": 0.4499892961632692, \"GtoA\": 0.08375157584262981, \"GtoC\": 0.0034252277538593277, \"GtoT\": 0.06055992959254061, \"TtoA\": 0.014438286434670917, \"TtoC\": 0.2550605361432887, \"TtoG\": 0.010251896957731738, \"principal_component_1\": 0.07686811788364682, \"principal_component_2\": -0.01718160692767224, \"log10_total_count\": 4.623673037739571}, {\"clade\": \"21J\", \"reversion_to_ref\": false, \"total_count\": 459986, \"AtoC\": 0.01055032109672903, \"AtoG\": 0.08265468949054972, \"AtoT\": 0.017257046953602934, \"CtoA\": 0.012546034009730731, \"CtoG\": 0.0064762840608192426, \"CtoT\": 0.4824951194166779, \"GtoA\": 0.061799706947602756, \"GtoC\": 0.0036153274230085264, \"GtoT\": 0.06548677568447735, \"TtoA\": 0.01534829320892375, \"TtoC\": 0.23223532890131438, \"TtoG\": 0.009535072806563677, \"principal_component_1\": 0.03436278416667323, \"principal_component_2\": -0.01809795883885767, \"log10_total_count\": 5.662744613822286}, {\"clade\": \"21K\", \"reversion_to_ref\": false, \"total_count\": 194805, \"AtoC\": 0.010769744103077437, \"AtoG\": 0.07989527989527989, \"AtoT\": 0.017330150663483996, \"CtoA\": 0.012766612766612766, \"CtoG\": 0.0037062703729370395, \"CtoT\": 0.487995687995688, \"GtoA\": 0.06918713585380253, \"GtoC\": 0.0029824696491363156, \"GtoT\": 0.030266163599496933, \"TtoA\": 0.026898693565360232, \"TtoC\": 0.2491671158337825, \"TtoG\": 0.009034675701342369, \"principal_component_1\": 0.043636873401264105, \"principal_component_2\": 0.020615843748342973, \"log10_total_count\": 5.289600099588499}, {\"clade\": \"21L\", \"reversion_to_ref\": false, \"total_count\": 2172, \"AtoC\": 0.018876611418047883, \"AtoG\": 0.08149171270718232, \"AtoT\": 0.013351749539594844, \"CtoA\": 0.008287292817679558, \"CtoG\": 0.005985267034990792, \"CtoT\": 0.5220994475138122, \"GtoA\": 0.06952117863720074, \"GtoC\": 0.0013812154696132596, \"GtoT\": 0.034530386740331494, \"TtoA\": 0.02117863720073665, \"TtoC\": 0.21639042357274402, \"TtoG\": 0.006906077348066298, \"principal_component_1\": -0.001972123498595724, \"principal_component_2\": 0.017402810514972576, \"log10_total_count\": 3.3368598209168088}, {\"clade\": \"21M\", \"reversion_to_ref\": false, \"total_count\": 143583, \"AtoC\": 0.010042971660990507, \"AtoG\": 0.07662467005146849, \"AtoT\": 0.015050528265881059, \"CtoA\": 0.013476525772549675, \"CtoG\": 0.006031354686836185, \"CtoT\": 0.5098793032601353, \"GtoA\": 0.0652793157964383, \"GtoC\": 0.0031967572762792253, \"GtoT\": 0.03238544953093333, \"TtoA\": 0.02005112025796926, \"TtoC\": 0.23993091104100067, \"TtoG\": 0.008051092399518048, \"principal_component_1\": 0.019984151330737804, \"principal_component_2\": 0.02324406059581017, \"log10_total_count\": 5.157103023170604}, {\"clade\": \"22A\", \"reversion_to_ref\": false, \"total_count\": 11586, \"AtoC\": 0.006559640945969274, \"AtoG\": 0.07552218194372519, \"AtoT\": 0.01432763680303815, \"CtoA\": 0.014500258933195235, \"CtoG\": 0.0010357327809425167, \"CtoT\": 0.5297773174520973, \"GtoA\": 0.07457276022786122, \"GtoC\": 0.0029345762126704645, \"GtoT\": 0.038149490764716035, \"TtoA\": 0.021491455204557225, \"TtoC\": 0.21396513032970826, \"TtoG\": 0.007163818401519075, \"principal_component_1\": -0.009919153259647059, \"principal_component_2\": 0.016874626197587242, \"log10_total_count\": 4.063933524163038}, {\"clade\": \"22B\", \"reversion_to_ref\": false, \"total_count\": 51590, \"AtoC\": 0.007075014537701105, \"AtoG\": 0.07668152742779609, \"AtoT\": 0.014944756735801512, \"CtoA\": 0.012075983717774762, \"CtoG\": 0.0016476061252180655, \"CtoT\": 0.5102539251792984, \"GtoA\": 0.07778639271176585, \"GtoC\": 0.0035859662725334367, \"GtoT\": 0.03766233766233766, \"TtoA\": 0.021961620469083155, \"TtoC\": 0.2277960845125024, \"TtoG\": 0.008528784648187633, \"principal_component_1\": 0.014081308559666461, \"principal_component_2\": 0.014854036459141462, \"log10_total_count\": 4.712565527873308}, {\"clade\": \"22C\", \"reversion_to_ref\": false, \"total_count\": 32038, \"AtoC\": 0.006336225731943318, \"AtoG\": 0.08177788875710094, \"AtoT\": 0.014326736999812722, \"CtoA\": 0.012547599725326175, \"CtoG\": 0.0014045820588051688, \"CtoT\": 0.5123603221174855, \"GtoA\": 0.06954241837817592, \"GtoC\": 0.002684312379049878, \"GtoT\": 0.03430301516948624, \"TtoA\": 0.017822585679505586, \"TtoC\": 0.23865409825831824, \"TtoG\": 0.008240214744990324, \"principal_component_1\": 0.018218278876792064, \"principal_component_2\": 0.022269928053723236, \"log10_total_count\": 4.505665397047829}]}}, {\"mode\": \"vega-lite\"});\n",
       "</script>"
      ],
      "text/plain": [
       "alt.Chart(...)"
      ]
     },
     "execution_count": 12,
     "metadata": {},
     "output_type": "execute_result"
    }
   ],
   "source": [
    "total_count_selection = alt.selection_single(\n",
    "    fields=[\"log10_total_count\"],\n",
    "    init={\"log10_total_count\": 4},\n",
    "    bind=alt.binding_range(\n",
    "        name=\"minimum log10 total counts\",\n",
    "        min=int(mut_type_freqs_no_revert_pca[\"log10_total_count\"].min()),\n",
    "        max=mut_type_freqs_no_revert_pca[\"log10_total_count\"].max(),\n",
    "    )\n",
    ")\n",
    "\n",
    "mut_type_freqs_no_revert_chart = (\n",
    "    alt.Chart(mut_type_freqs_no_revert_pca)\n",
    "    .encode(\n",
    "        x=\"principal_component_1\",\n",
    "        y=\"principal_component_2\",\n",
    "        color=alt.Color(\"clade\", scale=alt.Scale(scheme=\"viridis\")),\n",
    "        tooltip=[\"clade\", \"total_count\"],\n",
    "    )\n",
    "    .mark_point(filled=True, size=50)\n",
    "    .add_selection(total_count_selection)\n",
    "    .transform_filter(\n",
    "        total_count_selection.log10_total_count <= alt.datum.log10_total_count\n",
    "    )\n",
    ")\n",
    "\n",
    "mut_type_freqs_no_revert_chart"
   ]
  },
  {
   "cell_type": "code",
   "execution_count": null,
   "id": "2af32ac7-3e6a-4742-8844-00608d1c411f",
   "metadata": {},
   "outputs": [],
   "source": []
  }
 ],
 "metadata": {
  "kernelspec": {
   "display_name": "Python 3 (ipykernel)",
   "language": "python",
   "name": "python3"
  },
  "language_info": {
   "codemirror_mode": {
    "name": "ipython",
    "version": 3
   },
   "file_extension": ".py",
   "mimetype": "text/x-python",
   "name": "python",
   "nbconvert_exporter": "python",
   "pygments_lexer": "ipython3",
   "version": "3.9.13"
  }
 },
 "nbformat": 4,
 "nbformat_minor": 5
}
