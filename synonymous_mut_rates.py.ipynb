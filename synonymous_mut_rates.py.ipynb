{
 "cells": [
  {
   "cell_type": "markdown",
   "id": "f53f9e29-d668-4f1e-83bb-5de1420f3953",
   "metadata": {},
   "source": [
    "# Compute synonymous mutation rates for clades and overall\n",
    "Get variables from `snakemake`:"
   ]
  },
  {
   "cell_type": "code",
   "execution_count": 1,
   "id": "0773c5ac-7c03-4640-b835-95e6a99f142c",
   "metadata": {
    "execution": {
     "iopub.execute_input": "2022-09-08T23:46:46.491401Z",
     "iopub.status.busy": "2022-09-08T23:46:46.491015Z",
     "iopub.status.idle": "2022-09-08T23:46:46.504376Z",
     "shell.execute_reply": "2022-09-08T23:46:46.503651Z",
     "shell.execute_reply.started": "2022-09-08T23:46:46.491316Z"
    },
    "tags": []
   },
   "outputs": [],
   "source": [
    "import glob\n",
    "counts_csvs = glob.glob(\"results/mutation_counts/counts_by_clade/*.csv\")"
   ]
  },
  {
   "cell_type": "markdown",
   "id": "8eb11c2f-9f43-4ead-bfb1-43b6f7dd8b89",
   "metadata": {},
   "source": [
    "Import Python modules:"
   ]
  },
  {
   "cell_type": "code",
   "execution_count": 15,
   "id": "3d349183-450d-415c-b85d-3b81f777ef5f",
   "metadata": {
    "execution": {
     "iopub.execute_input": "2022-09-08T23:53:07.877584Z",
     "iopub.status.busy": "2022-09-08T23:53:07.876889Z",
     "iopub.status.idle": "2022-09-08T23:53:07.883323Z",
     "shell.execute_reply": "2022-09-08T23:53:07.882271Z",
     "shell.execute_reply.started": "2022-09-08T23:53:07.877531Z"
    },
    "tags": []
   },
   "outputs": [],
   "source": [
    "import os\n",
    "\n",
    "import altair as alt\n",
    "\n",
    "import numpy\n",
    "\n",
    "import pandas as pd\n",
    "\n",
    "import sklearn.decomposition"
   ]
  },
  {
   "cell_type": "markdown",
   "id": "a85ab2bd-e4b7-4d7b-b780-df216bda2b51",
   "metadata": {},
   "source": [
    "Get mutation counts:"
   ]
  },
  {
   "cell_type": "code",
   "execution_count": 3,
   "id": "5178e432-6e87-43de-9bcb-c9d1984f81d7",
   "metadata": {
    "execution": {
     "iopub.execute_input": "2022-09-08T23:46:52.649443Z",
     "iopub.status.busy": "2022-09-08T23:46:52.648885Z",
     "iopub.status.idle": "2022-09-08T23:46:53.361763Z",
     "shell.execute_reply": "2022-09-08T23:46:53.360832Z",
     "shell.execute_reply.started": "2022-09-08T23:46:52.649412Z"
    },
    "tags": []
   },
   "outputs": [
    {
     "data": {
      "text/html": [
       "<div>\n",
       "<style scoped>\n",
       "    .dataframe tbody tr th:only-of-type {\n",
       "        vertical-align: middle;\n",
       "    }\n",
       "\n",
       "    .dataframe tbody tr th {\n",
       "        vertical-align: top;\n",
       "    }\n",
       "\n",
       "    .dataframe thead th {\n",
       "        text-align: right;\n",
       "    }\n",
       "</style>\n",
       "<table border=\"1\" class=\"dataframe\">\n",
       "  <thead>\n",
       "    <tr style=\"text-align: right;\">\n",
       "      <th></th>\n",
       "      <th>protein</th>\n",
       "      <th>aa_mutation</th>\n",
       "      <th>nt_mutation</th>\n",
       "      <th>codon_change</th>\n",
       "      <th>synonymous</th>\n",
       "      <th>count</th>\n",
       "      <th>reversion_to_ref</th>\n",
       "      <th>reversion_to_founder</th>\n",
       "      <th>clade</th>\n",
       "      <th>mut_type</th>\n",
       "    </tr>\n",
       "  </thead>\n",
       "  <tbody>\n",
       "    <tr>\n",
       "      <th>0</th>\n",
       "      <td>M</td>\n",
       "      <td>M</td>\n",
       "      <td>G26577C</td>\n",
       "      <td>GAA&gt;CAA</td>\n",
       "      <td>False</td>\n",
       "      <td>1769</td>\n",
       "      <td>False</td>\n",
       "      <td>False</td>\n",
       "      <td>21M</td>\n",
       "      <td>GtoC</td>\n",
       "    </tr>\n",
       "    <tr>\n",
       "      <th>1</th>\n",
       "      <td>ORF1a;ORF1ab</td>\n",
       "      <td>ORF1a;ORF1ab</td>\n",
       "      <td>A11537G</td>\n",
       "      <td>ATT&gt;GTT;ATT&gt;GTT</td>\n",
       "      <td>False</td>\n",
       "      <td>849</td>\n",
       "      <td>False</td>\n",
       "      <td>False</td>\n",
       "      <td>21M</td>\n",
       "      <td>AtoG</td>\n",
       "    </tr>\n",
       "    <tr>\n",
       "      <th>2</th>\n",
       "      <td>ORF1a;ORF1ab</td>\n",
       "      <td>ORF1a;ORF1ab</td>\n",
       "      <td>T10198C</td>\n",
       "      <td>GAT&gt;GAC;GAT&gt;GAC</td>\n",
       "      <td>True</td>\n",
       "      <td>820</td>\n",
       "      <td>False</td>\n",
       "      <td>False</td>\n",
       "      <td>21M</td>\n",
       "      <td>TtoC</td>\n",
       "    </tr>\n",
       "    <tr>\n",
       "      <th>3</th>\n",
       "      <td>ORF1a;ORF1ab</td>\n",
       "      <td>ORF1a;ORF1ab</td>\n",
       "      <td>T3037C</td>\n",
       "      <td>TTT&gt;TTC;TTT&gt;TTC</td>\n",
       "      <td>True</td>\n",
       "      <td>760</td>\n",
       "      <td>False</td>\n",
       "      <td>False</td>\n",
       "      <td>21M</td>\n",
       "      <td>TtoC</td>\n",
       "    </tr>\n",
       "    <tr>\n",
       "      <th>4</th>\n",
       "      <td>S</td>\n",
       "      <td>S</td>\n",
       "      <td>T22674C</td>\n",
       "      <td>TTC&gt;TCC</td>\n",
       "      <td>False</td>\n",
       "      <td>745</td>\n",
       "      <td>True</td>\n",
       "      <td>True</td>\n",
       "      <td>21M</td>\n",
       "      <td>TtoC</td>\n",
       "    </tr>\n",
       "    <tr>\n",
       "      <th>...</th>\n",
       "      <td>...</td>\n",
       "      <td>...</td>\n",
       "      <td>...</td>\n",
       "      <td>...</td>\n",
       "      <td>...</td>\n",
       "      <td>...</td>\n",
       "      <td>...</td>\n",
       "      <td>...</td>\n",
       "      <td>...</td>\n",
       "      <td>...</td>\n",
       "    </tr>\n",
       "    <tr>\n",
       "      <th>456913</th>\n",
       "      <td>ORF1a;ORF1ab</td>\n",
       "      <td>ORF1a;ORF1ab</td>\n",
       "      <td>G351A</td>\n",
       "      <td>CGT&gt;CAT;CGT&gt;CAT</td>\n",
       "      <td>False</td>\n",
       "      <td>1</td>\n",
       "      <td>False</td>\n",
       "      <td>False</td>\n",
       "      <td>19A</td>\n",
       "      <td>GtoA</td>\n",
       "    </tr>\n",
       "    <tr>\n",
       "      <th>456914</th>\n",
       "      <td>ORF1a;ORF1ab</td>\n",
       "      <td>ORF1a;ORF1ab</td>\n",
       "      <td>G3518T</td>\n",
       "      <td>GTT&gt;TTT;GTT&gt;TTT</td>\n",
       "      <td>False</td>\n",
       "      <td>1</td>\n",
       "      <td>True</td>\n",
       "      <td>True</td>\n",
       "      <td>19A</td>\n",
       "      <td>GtoT</td>\n",
       "    </tr>\n",
       "    <tr>\n",
       "      <th>456915</th>\n",
       "      <td>ORF1a;ORF1ab</td>\n",
       "      <td>ORF1a;ORF1ab</td>\n",
       "      <td>G3482A</td>\n",
       "      <td>GGA&gt;AGA;GGA&gt;AGA</td>\n",
       "      <td>False</td>\n",
       "      <td>1</td>\n",
       "      <td>False</td>\n",
       "      <td>False</td>\n",
       "      <td>19A</td>\n",
       "      <td>GtoA</td>\n",
       "    </tr>\n",
       "    <tr>\n",
       "      <th>456916</th>\n",
       "      <td>ORF1a;ORF1ab</td>\n",
       "      <td>ORF1a;ORF1ab</td>\n",
       "      <td>G3476A</td>\n",
       "      <td>GTT&gt;ATT;GTT&gt;ATT</td>\n",
       "      <td>False</td>\n",
       "      <td>1</td>\n",
       "      <td>False</td>\n",
       "      <td>False</td>\n",
       "      <td>19A</td>\n",
       "      <td>GtoA</td>\n",
       "    </tr>\n",
       "    <tr>\n",
       "      <th>456917</th>\n",
       "      <td>S</td>\n",
       "      <td>S</td>\n",
       "      <td>T25316C</td>\n",
       "      <td>TCC&gt;CCC</td>\n",
       "      <td>False</td>\n",
       "      <td>1</td>\n",
       "      <td>True</td>\n",
       "      <td>True</td>\n",
       "      <td>19A</td>\n",
       "      <td>TtoC</td>\n",
       "    </tr>\n",
       "  </tbody>\n",
       "</table>\n",
       "<p>456918 rows × 10 columns</p>\n",
       "</div>"
      ],
      "text/plain": [
       "             protein   aa_mutation nt_mutation     codon_change  synonymous  \\\n",
       "0                  M             M     G26577C          GAA>CAA       False   \n",
       "1       ORF1a;ORF1ab  ORF1a;ORF1ab     A11537G  ATT>GTT;ATT>GTT       False   \n",
       "2       ORF1a;ORF1ab  ORF1a;ORF1ab     T10198C  GAT>GAC;GAT>GAC        True   \n",
       "3       ORF1a;ORF1ab  ORF1a;ORF1ab      T3037C  TTT>TTC;TTT>TTC        True   \n",
       "4                  S             S     T22674C          TTC>TCC       False   \n",
       "...              ...           ...         ...              ...         ...   \n",
       "456913  ORF1a;ORF1ab  ORF1a;ORF1ab       G351A  CGT>CAT;CGT>CAT       False   \n",
       "456914  ORF1a;ORF1ab  ORF1a;ORF1ab      G3518T  GTT>TTT;GTT>TTT       False   \n",
       "456915  ORF1a;ORF1ab  ORF1a;ORF1ab      G3482A  GGA>AGA;GGA>AGA       False   \n",
       "456916  ORF1a;ORF1ab  ORF1a;ORF1ab      G3476A  GTT>ATT;GTT>ATT       False   \n",
       "456917             S             S     T25316C          TCC>CCC       False   \n",
       "\n",
       "        count  reversion_to_ref  reversion_to_founder clade mut_type  \n",
       "0        1769             False                 False   21M     GtoC  \n",
       "1         849             False                 False   21M     AtoG  \n",
       "2         820             False                 False   21M     TtoC  \n",
       "3         760             False                 False   21M     TtoC  \n",
       "4         745              True                  True   21M     TtoC  \n",
       "...       ...               ...                   ...   ...      ...  \n",
       "456913      1             False                 False   19A     GtoA  \n",
       "456914      1              True                  True   19A     GtoT  \n",
       "456915      1             False                 False   19A     GtoA  \n",
       "456916      1             False                 False   19A     GtoA  \n",
       "456917      1              True                  True   19A     TtoC  \n",
       "\n",
       "[456918 rows x 10 columns]"
      ]
     },
     "execution_count": 3,
     "metadata": {},
     "output_type": "execute_result"
    }
   ],
   "source": [
    "mutation_counts = pd.concat(\n",
    "    [\n",
    "        pd.read_csv(f).assign(clade=os.path.splitext(os.path.basename(f))[0])\n",
    "        for f in counts_csvs\n",
    "    ],\n",
    "    ignore_index=True,\n",
    ").assign(mut_type=lambda x: x[\"nt_mutation\"].map(lambda m: f\"{m[0]}to{m[-1]}\"))\n",
    "\n",
    "mutation_counts"
   ]
  },
  {
   "cell_type": "markdown",
   "id": "5ee3f6bd-f62b-4e37-ad69-5a567d392804",
   "metadata": {
    "execution": {
     "iopub.execute_input": "2022-09-08T20:58:54.989586Z",
     "iopub.status.busy": "2022-09-08T20:58:54.988909Z",
     "iopub.status.idle": "2022-09-08T20:58:54.997156Z",
     "shell.execute_reply": "2022-09-08T20:58:54.996168Z",
     "shell.execute_reply.started": "2022-09-08T20:58:54.989428Z"
    },
    "tags": []
   },
   "source": [
    "Tally mutation type counts among synonymous mutations, separating reversions to reference from other mutations:"
   ]
  },
  {
   "cell_type": "code",
   "execution_count": 4,
   "id": "244341c6-7add-45c7-91f6-d86c8f5cf684",
   "metadata": {
    "execution": {
     "iopub.execute_input": "2022-09-08T23:46:53.363221Z",
     "iopub.status.busy": "2022-09-08T23:46:53.362858Z",
     "iopub.status.idle": "2022-09-08T23:46:53.496161Z",
     "shell.execute_reply": "2022-09-08T23:46:53.495296Z",
     "shell.execute_reply.started": "2022-09-08T23:46:53.363199Z"
    },
    "tags": []
   },
   "outputs": [],
   "source": [
    "mut_type_counts = (\n",
    "    mutation_counts\n",
    "    .query(\"synonymous\")\n",
    "    .groupby([\"clade\", \"mut_type\", \"reversion_to_ref\"], as_index=False)\n",
    "    .aggregate({\"count\": \"sum\"})\n",
    ")\n",
    "\n",
    "mut_types = mut_type_counts[\"mut_type\"].unique().tolist()"
   ]
  },
  {
   "cell_type": "markdown",
   "id": "2778893d-ffe4-4571-9a8c-19d297cb2e87",
   "metadata": {
    "execution": {
     "iopub.execute_input": "2022-09-08T21:05:52.421686Z",
     "iopub.status.busy": "2022-09-08T21:05:52.421174Z",
     "iopub.status.idle": "2022-09-08T21:05:52.432474Z",
     "shell.execute_reply": "2022-09-08T21:05:52.431513Z",
     "shell.execute_reply.started": "2022-09-08T21:05:52.421656Z"
    },
    "tags": []
   },
   "source": [
    "Plot total mutation counts for each clade:"
   ]
  },
  {
   "cell_type": "code",
   "execution_count": 5,
   "id": "7adad884-7f81-49a1-8d93-0db32fdd33d7",
   "metadata": {
    "execution": {
     "iopub.execute_input": "2022-09-08T23:46:53.498046Z",
     "iopub.status.busy": "2022-09-08T23:46:53.497739Z",
     "iopub.status.idle": "2022-09-08T23:46:53.554670Z",
     "shell.execute_reply": "2022-09-08T23:46:53.553679Z",
     "shell.execute_reply.started": "2022-09-08T23:46:53.498028Z"
    },
    "tags": []
   },
   "outputs": [
    {
     "data": {
      "text/html": [
       "\n",
       "<div id=\"altair-viz-42f111f3d5064a00b58b3a19ba90e426\"></div>\n",
       "<script type=\"text/javascript\">\n",
       "  var VEGA_DEBUG = (typeof VEGA_DEBUG == \"undefined\") ? {} : VEGA_DEBUG;\n",
       "  (function(spec, embedOpt){\n",
       "    let outputDiv = document.currentScript.previousElementSibling;\n",
       "    if (outputDiv.id !== \"altair-viz-42f111f3d5064a00b58b3a19ba90e426\") {\n",
       "      outputDiv = document.getElementById(\"altair-viz-42f111f3d5064a00b58b3a19ba90e426\");\n",
       "    }\n",
       "    const paths = {\n",
       "      \"vega\": \"https://cdn.jsdelivr.net/npm//vega@5?noext\",\n",
       "      \"vega-lib\": \"https://cdn.jsdelivr.net/npm//vega-lib?noext\",\n",
       "      \"vega-lite\": \"https://cdn.jsdelivr.net/npm//vega-lite@4.17.0?noext\",\n",
       "      \"vega-embed\": \"https://cdn.jsdelivr.net/npm//vega-embed@6?noext\",\n",
       "    };\n",
       "\n",
       "    function maybeLoadScript(lib, version) {\n",
       "      var key = `${lib.replace(\"-\", \"\")}_version`;\n",
       "      return (VEGA_DEBUG[key] == version) ?\n",
       "        Promise.resolve(paths[lib]) :\n",
       "        new Promise(function(resolve, reject) {\n",
       "          var s = document.createElement('script');\n",
       "          document.getElementsByTagName(\"head\")[0].appendChild(s);\n",
       "          s.async = true;\n",
       "          s.onload = () => {\n",
       "            VEGA_DEBUG[key] = version;\n",
       "            return resolve(paths[lib]);\n",
       "          };\n",
       "          s.onerror = () => reject(`Error loading script: ${paths[lib]}`);\n",
       "          s.src = paths[lib];\n",
       "        });\n",
       "    }\n",
       "\n",
       "    function showError(err) {\n",
       "      outputDiv.innerHTML = `<div class=\"error\" style=\"color:red;\">${err}</div>`;\n",
       "      throw err;\n",
       "    }\n",
       "\n",
       "    function displayChart(vegaEmbed) {\n",
       "      vegaEmbed(outputDiv, spec, embedOpt)\n",
       "        .catch(err => showError(`Javascript Error: ${err.message}<br>This usually means there's a typo in your chart specification. See the javascript console for the full traceback.`));\n",
       "    }\n",
       "\n",
       "    if(typeof define === \"function\" && define.amd) {\n",
       "      requirejs.config({paths});\n",
       "      require([\"vega-embed\"], displayChart, err => showError(`Error loading script: ${err.message}`));\n",
       "    } else {\n",
       "      maybeLoadScript(\"vega\", \"5\")\n",
       "        .then(() => maybeLoadScript(\"vega-lite\", \"4.17.0\"))\n",
       "        .then(() => maybeLoadScript(\"vega-embed\", \"6\"))\n",
       "        .catch(showError)\n",
       "        .then(() => displayChart(vegaEmbed));\n",
       "    }\n",
       "  })({\"config\": {\"view\": {\"continuousWidth\": 400, \"continuousHeight\": 300}}, \"data\": {\"name\": \"data-d400279c01faef5392747295c3028511\"}, \"mark\": \"bar\", \"encoding\": {\"color\": {\"field\": \"reversion_to_ref\", \"type\": \"nominal\"}, \"tooltip\": [{\"field\": \"clade\", \"type\": \"nominal\"}, {\"field\": \"count\", \"type\": \"quantitative\"}, {\"field\": \"reversion_to_ref\", \"type\": \"nominal\"}], \"x\": {\"aggregate\": \"sum\", \"field\": \"count\", \"type\": \"quantitative\"}, \"y\": {\"field\": \"clade\", \"type\": \"nominal\"}}, \"$schema\": \"https://vega.github.io/schema/vega-lite/v4.17.0.json\", \"datasets\": {\"data-d400279c01faef5392747295c3028511\": [{\"clade\": \"19A\", \"reversion_to_ref\": false, \"count\": 2624}, {\"clade\": \"19A\", \"reversion_to_ref\": true, \"count\": 1104}, {\"clade\": \"19B\", \"reversion_to_ref\": false, \"count\": 1436}, {\"clade\": \"19B\", \"reversion_to_ref\": true, \"count\": 570}, {\"clade\": \"20A\", \"reversion_to_ref\": false, \"count\": 28920}, {\"clade\": \"20A\", \"reversion_to_ref\": true, \"count\": 10953}, {\"clade\": \"20B\", \"reversion_to_ref\": false, \"count\": 22806}, {\"clade\": \"20B\", \"reversion_to_ref\": true, \"count\": 9041}, {\"clade\": \"20C\", \"reversion_to_ref\": false, \"count\": 15445}, {\"clade\": \"20C\", \"reversion_to_ref\": true, \"count\": 6210}, {\"clade\": \"20D\", \"reversion_to_ref\": false, \"count\": 1361}, {\"clade\": \"20D\", \"reversion_to_ref\": true, \"count\": 512}, {\"clade\": \"20E\", \"reversion_to_ref\": false, \"count\": 17200}, {\"clade\": \"20E\", \"reversion_to_ref\": true, \"count\": 7074}, {\"clade\": \"20F\", \"reversion_to_ref\": false, \"count\": 930}, {\"clade\": \"20F\", \"reversion_to_ref\": true, \"count\": 384}, {\"clade\": \"20G\", \"reversion_to_ref\": false, \"count\": 23418}, {\"clade\": \"20G\", \"reversion_to_ref\": true, \"count\": 9488}, {\"clade\": \"20H\", \"reversion_to_ref\": false, \"count\": 2227}, {\"clade\": \"20H\", \"reversion_to_ref\": true, \"count\": 843}, {\"clade\": \"20I\", \"reversion_to_ref\": false, \"count\": 103225}, {\"clade\": \"20I\", \"reversion_to_ref\": true, \"count\": 41699}, {\"clade\": \"20J\", \"reversion_to_ref\": false, \"count\": 6956}, {\"clade\": \"20J\", \"reversion_to_ref\": true, \"count\": 2780}, {\"clade\": \"21C\", \"reversion_to_ref\": false, \"count\": 10957}, {\"clade\": \"21C\", \"reversion_to_ref\": true, \"count\": 5639}, {\"clade\": \"21F\", \"reversion_to_ref\": false, \"count\": 8084}, {\"clade\": \"21F\", \"reversion_to_ref\": true, \"count\": 3128}, {\"clade\": \"21H\", \"reversion_to_ref\": false, \"count\": 1420}, {\"clade\": \"21H\", \"reversion_to_ref\": true, \"count\": 510}, {\"clade\": \"21I\", \"reversion_to_ref\": false, \"count\": 42041}, {\"clade\": \"21I\", \"reversion_to_ref\": true, \"count\": 15272}, {\"clade\": \"21J\", \"reversion_to_ref\": false, \"count\": 459986}, {\"clade\": \"21J\", \"reversion_to_ref\": true, \"count\": 169183}, {\"clade\": \"21K\", \"reversion_to_ref\": false, \"count\": 194804}, {\"clade\": \"21K\", \"reversion_to_ref\": true, \"count\": 75212}, {\"clade\": \"21L\", \"reversion_to_ref\": false, \"count\": 2172}, {\"clade\": \"21L\", \"reversion_to_ref\": true, \"count\": 941}, {\"clade\": \"21M\", \"reversion_to_ref\": false, \"count\": 143583}, {\"clade\": \"21M\", \"reversion_to_ref\": true, \"count\": 54156}, {\"clade\": \"22A\", \"reversion_to_ref\": false, \"count\": 11584}, {\"clade\": \"22A\", \"reversion_to_ref\": true, \"count\": 4520}, {\"clade\": \"22B\", \"reversion_to_ref\": false, \"count\": 51588}, {\"clade\": \"22B\", \"reversion_to_ref\": true, \"count\": 19401}, {\"clade\": \"22C\", \"reversion_to_ref\": false, \"count\": 32038}, {\"clade\": \"22C\", \"reversion_to_ref\": true, \"count\": 12255}]}}, {\"mode\": \"vega-lite\"});\n",
       "</script>"
      ],
      "text/plain": [
       "alt.Chart(...)"
      ]
     },
     "execution_count": 5,
     "metadata": {},
     "output_type": "execute_result"
    }
   ],
   "source": [
    "mut_counts = (\n",
    "    mut_type_counts\n",
    "    .groupby([\"clade\", \"reversion_to_ref\"], as_index=False)\n",
    "    .aggregate({\"count\": \"sum\"})\n",
    ")\n",
    "\n",
    "mut_counts_chart = (\n",
    "    alt.Chart(mut_counts)\n",
    "    .encode(\n",
    "        y=\"clade\",\n",
    "        x=\"sum(count)\",\n",
    "        color=\"reversion_to_ref\",\n",
    "        tooltip=[\"clade\", \"count\", \"reversion_to_ref\"],\n",
    "    )\n",
    "    .mark_bar()\n",
    ")\n",
    "\n",
    "mut_counts_chart"
   ]
  },
  {
   "cell_type": "markdown",
   "id": "cb0195dd-de1d-4049-aded-994dbfd984a2",
   "metadata": {},
   "source": [
    "Get PCA of mutation spectrum separately for each clade and stratifying mutations by whether they are reversions to reference:"
   ]
  },
  {
   "cell_type": "code",
   "execution_count": 22,
   "id": "56a9263f-f805-4d97-8372-8952777adb41",
   "metadata": {
    "execution": {
     "iopub.execute_input": "2022-09-08T23:54:30.755334Z",
     "iopub.status.busy": "2022-09-08T23:54:30.754220Z",
     "iopub.status.idle": "2022-09-08T23:54:30.778103Z",
     "shell.execute_reply": "2022-09-08T23:54:30.777209Z",
     "shell.execute_reply.started": "2022-09-08T23:54:30.755288Z"
    },
    "tags": []
   },
   "outputs": [],
   "source": [
    "mut_type_freqs = (\n",
    "    mut_type_counts\n",
    "    .assign(\n",
    "        total_count=lambda x: x.groupby([\"clade\", \"reversion_to_ref\"])[\"count\"].transform(\"sum\"),\n",
    "        freq=lambda x: x[\"count\"] / x[\"total_count\"],\n",
    "    )\n",
    "    .pivot_table(\n",
    "        index=[\"clade\", \"reversion_to_ref\", \"total_count\"],\n",
    "        values=\"freq\",\n",
    "        columns=\"mut_type\",\n",
    "        fill_value=0,\n",
    "    )\n",
    ")\n",
    "\n",
    "pca = sklearn.decomposition.PCA(n_components=2)\n",
    "pca_coords = pca.fit_transform(mut_type_freqs.values)\n",
    "assert len(pca_coords) == len(mut_type_freqs)\n",
    "\n",
    "mut_type_freqs_pca = (\n",
    "    mut_type_freqs\n",
    "    .reset_index()\n",
    "    .assign(\n",
    "        principal_component_1=pca_coords[:, 0],\n",
    "        principal_component_2=pca_coords[:, 1],\n",
    "        log10_total_count=lambda x: numpy.log(x[\"total_count\"]) / numpy.log(10),\n",
    "    )\n",
    ")"
   ]
  },
  {
   "cell_type": "markdown",
   "id": "24d6a4fb-6d04-452b-8235-ab31072ca8bf",
   "metadata": {},
   "source": [
    "Plot mutation spectrum PCA for all clades including both reversions to reference and non reversions to reference:"
   ]
  },
  {
   "cell_type": "code",
   "execution_count": 30,
   "id": "92ce347f-4449-48c4-8a75-79893915b5f6",
   "metadata": {
    "execution": {
     "iopub.execute_input": "2022-09-09T00:01:01.739393Z",
     "iopub.status.busy": "2022-09-09T00:01:01.738742Z",
     "iopub.status.idle": "2022-09-09T00:01:01.822914Z",
     "shell.execute_reply": "2022-09-09T00:01:01.822026Z",
     "shell.execute_reply.started": "2022-09-09T00:01:01.739348Z"
    },
    "tags": []
   },
   "outputs": [
    {
     "data": {
      "text/html": [
       "\n",
       "<div id=\"altair-viz-8be5783e4af4435a9f3356a8a4b6e7d7\"></div>\n",
       "<script type=\"text/javascript\">\n",
       "  var VEGA_DEBUG = (typeof VEGA_DEBUG == \"undefined\") ? {} : VEGA_DEBUG;\n",
       "  (function(spec, embedOpt){\n",
       "    let outputDiv = document.currentScript.previousElementSibling;\n",
       "    if (outputDiv.id !== \"altair-viz-8be5783e4af4435a9f3356a8a4b6e7d7\") {\n",
       "      outputDiv = document.getElementById(\"altair-viz-8be5783e4af4435a9f3356a8a4b6e7d7\");\n",
       "    }\n",
       "    const paths = {\n",
       "      \"vega\": \"https://cdn.jsdelivr.net/npm//vega@5?noext\",\n",
       "      \"vega-lib\": \"https://cdn.jsdelivr.net/npm//vega-lib?noext\",\n",
       "      \"vega-lite\": \"https://cdn.jsdelivr.net/npm//vega-lite@4.17.0?noext\",\n",
       "      \"vega-embed\": \"https://cdn.jsdelivr.net/npm//vega-embed@6?noext\",\n",
       "    };\n",
       "\n",
       "    function maybeLoadScript(lib, version) {\n",
       "      var key = `${lib.replace(\"-\", \"\")}_version`;\n",
       "      return (VEGA_DEBUG[key] == version) ?\n",
       "        Promise.resolve(paths[lib]) :\n",
       "        new Promise(function(resolve, reject) {\n",
       "          var s = document.createElement('script');\n",
       "          document.getElementsByTagName(\"head\")[0].appendChild(s);\n",
       "          s.async = true;\n",
       "          s.onload = () => {\n",
       "            VEGA_DEBUG[key] = version;\n",
       "            return resolve(paths[lib]);\n",
       "          };\n",
       "          s.onerror = () => reject(`Error loading script: ${paths[lib]}`);\n",
       "          s.src = paths[lib];\n",
       "        });\n",
       "    }\n",
       "\n",
       "    function showError(err) {\n",
       "      outputDiv.innerHTML = `<div class=\"error\" style=\"color:red;\">${err}</div>`;\n",
       "      throw err;\n",
       "    }\n",
       "\n",
       "    function displayChart(vegaEmbed) {\n",
       "      vegaEmbed(outputDiv, spec, embedOpt)\n",
       "        .catch(err => showError(`Javascript Error: ${err.message}<br>This usually means there's a typo in your chart specification. See the javascript console for the full traceback.`));\n",
       "    }\n",
       "\n",
       "    if(typeof define === \"function\" && define.amd) {\n",
       "      requirejs.config({paths});\n",
       "      require([\"vega-embed\"], displayChart, err => showError(`Error loading script: ${err.message}`));\n",
       "    } else {\n",
       "      maybeLoadScript(\"vega\", \"5\")\n",
       "        .then(() => maybeLoadScript(\"vega-lite\", \"4.17.0\"))\n",
       "        .then(() => maybeLoadScript(\"vega-embed\", \"6\"))\n",
       "        .catch(showError)\n",
       "        .then(() => displayChart(vegaEmbed));\n",
       "    }\n",
       "  })({\"config\": {\"view\": {\"continuousWidth\": 400, \"continuousHeight\": 300}}, \"data\": {\"name\": \"data-293589af064ceef1edd3827286186351\"}, \"mark\": {\"type\": \"point\", \"filled\": true, \"size\": 50}, \"encoding\": {\"color\": {\"field\": \"clade\", \"type\": \"nominal\"}, \"shape\": {\"field\": \"reversion_to_ref\", \"type\": \"nominal\"}, \"tooltip\": [{\"field\": \"clade\", \"type\": \"nominal\"}, {\"field\": \"reversion_to_ref\", \"type\": \"nominal\"}, {\"field\": \"total_count\", \"type\": \"quantitative\"}], \"x\": {\"field\": \"principal_component_1\", \"type\": \"quantitative\"}, \"y\": {\"field\": \"principal_component_2\", \"type\": \"quantitative\"}}, \"$schema\": \"https://vega.github.io/schema/vega-lite/v4.17.0.json\", \"datasets\": {\"data-293589af064ceef1edd3827286186351\": [{\"clade\": \"19A\", \"reversion_to_ref\": false, \"total_count\": 2624, \"AtoC\": 0.019054878048780487, \"AtoG\": 0.08536585365853659, \"AtoT\": 0.022865853658536585, \"CtoA\": 0.009146341463414634, \"CtoG\": 0.0022865853658536584, \"CtoT\": 0.4740853658536585, \"GtoA\": 0.057926829268292686, \"GtoC\": 0.004954268292682927, \"GtoT\": 0.06097560975609756, \"TtoA\": 0.019054878048780487, \"TtoC\": 0.22903963414634146, \"TtoG\": 0.01524390243902439, \"principal_component_1\": -0.11638378384843495, \"principal_component_2\": -0.01599367899341643, \"log10_total_count\": 3.418963830703622}, {\"clade\": \"19A\", \"reversion_to_ref\": true, \"total_count\": 1104, \"AtoC\": 0.0018115942028985507, \"AtoG\": 0.16032608695652173, \"AtoT\": 0.006340579710144928, \"CtoA\": 0.009963768115942028, \"CtoG\": 0.0, \"CtoT\": 0.6041666666666666, \"GtoA\": 0.024456521739130436, \"GtoC\": 0.017210144927536232, \"GtoT\": 0.04619565217391304, \"TtoA\": 0.007246376811594203, \"TtoC\": 0.10235507246376811, \"TtoG\": 0.019927536231884056, \"principal_component_1\": 0.08107236862136825, \"principal_component_2\": 0.0023371606978681504, \"log10_total_count\": 3.04296907339318}, {\"clade\": \"19B\", \"reversion_to_ref\": false, \"total_count\": 1436, \"AtoC\": 0.006267409470752089, \"AtoG\": 0.07520891364902507, \"AtoT\": 0.022284122562674095, \"CtoA\": 0.003481894150417827, \"CtoG\": 0.002785515320334262, \"CtoT\": 0.4972144846796657, \"GtoA\": 0.10236768802228412, \"GtoC\": 0.0020891364902506965, \"GtoT\": 0.057103064066852366, \"TtoA\": 0.018105849582172703, \"TtoC\": 0.2012534818941504, \"TtoG\": 0.011838440111420613, \"principal_component_1\": -0.09110595281037052, \"principal_component_2\": -0.026614824977495212, \"log10_total_count\": 3.1571544399062814}, {\"clade\": \"19B\", \"reversion_to_ref\": true, \"total_count\": 570, \"AtoC\": 0.0017543859649122807, \"AtoG\": 0.11754385964912281, \"AtoT\": 0.007017543859649123, \"CtoA\": 0.014035087719298246, \"CtoG\": 0.0, \"CtoT\": 0.5859649122807018, \"GtoA\": 0.03684210526315789, \"GtoC\": 0.0017543859649122807, \"GtoT\": 0.08771929824561403, \"TtoA\": 0.02456140350877193, \"TtoC\": 0.12105263157894737, \"TtoG\": 0.0017543859649122807, \"principal_component_1\": 0.044789502938434825, \"principal_component_2\": -0.032589209941206454, \"log10_total_count\": 2.7558748556724915}, {\"clade\": \"20A\", \"reversion_to_ref\": false, \"total_count\": 28920, \"AtoC\": 0.009820193637621023, \"AtoG\": 0.07361687413554634, \"AtoT\": 0.015871369294605808, \"CtoA\": 0.009197786998616874, \"CtoG\": 0.004356846473029046, \"CtoT\": 0.5151106500691562, \"GtoA\": 0.060235131396957124, \"GtoC\": 0.004114799446749654, \"GtoT\": 0.06725449515905947, \"TtoA\": 0.018568464730290456, \"TtoC\": 0.2016597510373444, \"TtoG\": 0.020193637621023514, \"principal_component_1\": -0.07203785153359982, \"principal_component_2\": -0.0185035842261175, \"log10_total_count\": 4.461198288622493}, {\"clade\": \"20A\", \"reversion_to_ref\": true, \"total_count\": 10953, \"AtoC\": 0.0044736601844243586, \"AtoG\": 0.10535926230256551, \"AtoT\": 0.007669131744727472, \"CtoA\": 0.012416689491463526, \"CtoG\": 0.00036519674974892725, \"CtoT\": 0.6428375787455491, \"GtoA\": 0.03432849447639916, \"GtoC\": 0.0020085821236191, \"GtoT\": 0.06756139870355155, \"TtoA\": 0.010408107367844427, \"TtoC\": 0.10143339724276454, \"TtoG\": 0.01113850086734228, \"principal_component_1\": 0.09497307940748578, \"principal_component_2\": -0.005513043425968183, \"log10_total_count\": 4.03953308766939}, {\"clade\": \"20B\", \"reversion_to_ref\": false, \"total_count\": 22806, \"AtoC\": 0.007234938174164694, \"AtoG\": 0.07291940717355082, \"AtoT\": 0.015302990441111988, \"CtoA\": 0.010128913443830571, \"CtoG\": 0.0036393931421555732, \"CtoT\": 0.5313075506445673, \"GtoA\": 0.05923879680785758, \"GtoC\": 0.0032009120406910462, \"GtoT\": 0.07037621678505657, \"TtoA\": 0.018503902481803034, \"TtoC\": 0.1976672805402087, \"TtoG\": 0.010479698325002193, \"principal_component_1\": -0.05805491043685454, \"principal_component_2\": -0.015185447405096867, \"log10_total_count\": 4.358049119986747}, {\"clade\": \"20B\", \"reversion_to_ref\": true, \"total_count\": 9041, \"AtoC\": 0.00342882424510563, \"AtoG\": 0.11569516646388674, \"AtoT\": 0.008295542528481362, \"CtoA\": 0.011945581241013163, \"CtoG\": 0.0, \"CtoT\": 0.6394204180953434, \"GtoA\": 0.033956420749917046, \"GtoC\": 0.002765180842827121, \"GtoT\": 0.07023559340780887, \"TtoA\": 0.009069793164472956, \"TtoC\": 0.09324189802013051, \"TtoG\": 0.011945581241013163, \"principal_component_1\": 0.10051277458680541, \"principal_component_2\": -0.011598418975018732, \"log10_total_count\": 3.95621646924339}, {\"clade\": \"20C\", \"reversion_to_ref\": false, \"total_count\": 15445, \"AtoC\": 0.008222725801230171, \"AtoG\": 0.07691809647134995, \"AtoT\": 0.014826804791194562, \"CtoA\": 0.010618323081903528, \"CtoG\": 0.0014891550663645192, \"CtoT\": 0.5235998705082551, \"GtoA\": 0.0656523146649401, \"GtoC\": 0.003172547750080932, \"GtoT\": 0.06299773389446423, \"TtoA\": 0.020459695694399482, \"TtoC\": 0.2018776303010683, \"TtoG\": 0.01016510197474911, \"principal_component_1\": -0.06656100368763689, \"principal_component_2\": -0.011704851687261838, \"log10_total_count\": 4.188787912637469}, {\"clade\": \"20C\", \"reversion_to_ref\": true, \"total_count\": 6210, \"AtoC\": 0.0025764895330112722, \"AtoG\": 0.12286634460547503, \"AtoT\": 0.0075684380032206115, \"CtoA\": 0.013848631239935587, \"CtoG\": 0.0006441223832528181, \"CtoT\": 0.6254428341384863, \"GtoA\": 0.036553945249597423, \"GtoC\": 0.0025764895330112722, \"GtoT\": 0.06570048309178744, \"TtoA\": 0.011755233494363929, \"TtoC\": 0.1001610305958132, \"TtoG\": 0.010305958132045089, \"principal_component_1\": 0.08724774415306803, \"principal_component_2\": -0.0102044482639442, \"log10_total_count\": 3.7930916001765804}, {\"clade\": \"20D\", \"reversion_to_ref\": false, \"total_count\": 1361, \"AtoC\": 0.006612784717119765, \"AtoG\": 0.08155767817781043, \"AtoT\": 0.016164584864070537, \"CtoA\": 0.009551800146950772, \"CtoG\": 0.010286554004408524, \"CtoT\": 0.5113886847905952, \"GtoA\": 0.0683321087435709, \"GtoC\": 0.0014695077149155032, \"GtoT\": 0.0668626010286554, \"TtoA\": 0.019838354151359296, \"TtoC\": 0.19985304922850844, \"TtoG\": 0.008082292432035268, \"principal_component_1\": -0.07314686704593516, \"principal_component_2\": -0.020713379934759277, \"log10_total_count\": 3.1338581252033344}, {\"clade\": \"20D\", \"reversion_to_ref\": true, \"total_count\": 512, \"AtoC\": 0.005859375, \"AtoG\": 0.087890625, \"AtoT\": 0.0078125, \"CtoA\": 0.01171875, \"CtoG\": 0.0, \"CtoT\": 0.68359375, \"GtoA\": 0.03515625, \"GtoC\": 0.0, \"GtoT\": 0.078125, \"TtoA\": 0.009765625, \"TtoC\": 0.06640625, \"TtoG\": 0.013671875, \"principal_component_1\": 0.14270121827740942, \"principal_component_2\": -0.016334510266964735, \"log10_total_count\": 2.7092699609758304}, {\"clade\": \"20E\", \"reversion_to_ref\": false, \"total_count\": 17200, \"AtoC\": 0.008430232558139536, \"AtoG\": 0.07837209302325582, \"AtoT\": 0.014476744186046511, \"CtoA\": 0.009825581395348837, \"CtoG\": 0.01, \"CtoT\": 0.5394767441860465, \"GtoA\": 0.05401162790697674, \"GtoC\": 0.005232558139534884, \"GtoT\": 0.05593023255813954, \"TtoA\": 0.020290697674418604, \"TtoC\": 0.19459302325581396, \"TtoG\": 0.00936046511627907, \"principal_component_1\": -0.048852419234762474, \"principal_component_2\": -0.0018441471159696718, \"log10_total_count\": 4.235528446907549}, {\"clade\": \"20E\", \"reversion_to_ref\": true, \"total_count\": 7074, \"AtoC\": 0.004240882103477523, \"AtoG\": 0.10602205258693809, \"AtoT\": 0.009188577890867968, \"CtoA\": 0.011450381679389313, \"CtoG\": 0.00042408821034775233, \"CtoT\": 0.6614362454057111, \"GtoA\": 0.02954481198756008, \"GtoC\": 0.0021204410517387615, \"GtoT\": 0.05131467345207803, \"TtoA\": 0.009895391574780888, \"TtoC\": 0.10390161153519932, \"TtoG\": 0.010460842521911224, \"principal_component_1\": 0.10670178291142955, \"principal_component_2\": 0.01579301467264816, \"log10_total_count\": 3.849665055478732}, {\"clade\": \"20F\", \"reversion_to_ref\": false, \"total_count\": 930, \"AtoC\": 0.010752688172043012, \"AtoG\": 0.07311827956989247, \"AtoT\": 0.015053763440860216, \"CtoA\": 0.017204301075268817, \"CtoG\": 0.001075268817204301, \"CtoT\": 0.5494623655913978, \"GtoA\": 0.05053763440860215, \"GtoC\": 0.004301075268817204, \"GtoT\": 0.026881720430107527, \"TtoA\": 0.023655913978494623, \"TtoC\": 0.21935483870967742, \"TtoG\": 0.008602150537634409, \"principal_component_1\": -0.05961581310513359, \"principal_component_2\": 0.03569361854620065, \"log10_total_count\": 2.968482948553935}, {\"clade\": \"20F\", \"reversion_to_ref\": true, \"total_count\": 384, \"AtoC\": 0.0, \"AtoG\": 0.15364583333333334, \"AtoT\": 0.010416666666666666, \"CtoA\": 0.0078125, \"CtoG\": 0.0, \"CtoT\": 0.6875, \"GtoA\": 0.033854166666666664, \"GtoC\": 0.0026041666666666665, \"GtoT\": 0.028645833333333332, \"TtoA\": 0.0, \"TtoC\": 0.06770833333333333, \"TtoG\": 0.0078125, \"principal_component_1\": 0.15847300653569843, \"principal_component_2\": 0.03021624445185125, \"log10_total_count\": 2.5843312243675305}, {\"clade\": \"20G\", \"reversion_to_ref\": false, \"total_count\": 23418, \"AtoC\": 0.007344777521564609, \"AtoG\": 0.07357588180032454, \"AtoT\": 0.016952771372448543, \"CtoA\": 0.010077717994704928, \"CtoG\": 0.0014945768212486121, \"CtoT\": 0.541421129046033, \"GtoA\": 0.061192245281407466, \"GtoC\": 0.002434025108890597, \"GtoT\": 0.058630113587838414, \"TtoA\": 0.020198138184302675, \"TtoC\": 0.19719873601503118, \"TtoG\": 0.009479887266205482, \"principal_component_1\": -0.05129264233475163, \"principal_component_2\": -0.0033304756718313734, \"log10_total_count\": 4.369549801664893}, {\"clade\": \"20G\", \"reversion_to_ref\": true, \"total_count\": 9488, \"AtoC\": 0.0035834738617200675, \"AtoG\": 0.10687183811129848, \"AtoT\": 0.008537099494097807, \"CtoA\": 0.012331365935919056, \"CtoG\": 0.0, \"CtoT\": 0.6579890387858347, \"GtoA\": 0.032567453625632375, \"GtoC\": 0.0013701517706576729, \"GtoT\": 0.05459527824620573, \"TtoA\": 0.010855817875210793, \"TtoC\": 0.09991568296795952, \"TtoG\": 0.011382799325463743, \"principal_component_1\": 0.10677381297276185, \"principal_component_2\": 0.009609806046921346, \"log10_total_count\": 3.977174676020187}, {\"clade\": \"20H\", \"reversion_to_ref\": false, \"total_count\": 2227, \"AtoC\": 0.013022002694207453, \"AtoG\": 0.07049842837898518, \"AtoT\": 0.016165244723843737, \"CtoA\": 0.011674898967220475, \"CtoG\": 0.010776829815895825, \"CtoT\": 0.5397395599461159, \"GtoA\": 0.05074090704984284, \"GtoC\": 0.003143242029636282, \"GtoT\": 0.07229456668163449, \"TtoA\": 0.015267175572519083, \"TtoC\": 0.18590031432420295, \"TtoG\": 0.010776829815895825, \"principal_component_1\": -0.04369286760554536, \"principal_component_2\": -0.018073516363277458, \"log10_total_count\": 3.3477202170340377}, {\"clade\": \"20H\", \"reversion_to_ref\": true, \"total_count\": 843, \"AtoC\": 0.002372479240806643, \"AtoG\": 0.1387900355871886, \"AtoT\": 0.013048635824436536, \"CtoA\": 0.010676156583629894, \"CtoG\": 0.002372479240806643, \"CtoT\": 0.6287069988137604, \"GtoA\": 0.02609727164887307, \"GtoC\": 0.0, \"GtoT\": 0.07591933570581258, \"TtoA\": 0.01542111506524318, \"TtoC\": 0.0830367734282325, \"TtoG\": 0.0035587188612099642, \"principal_component_1\": 0.10582225268534827, \"principal_component_2\": -0.021403709255055, \"log10_total_count\": 2.925827574624742}, {\"clade\": \"20I\", \"reversion_to_ref\": false, \"total_count\": 103225, \"AtoC\": 0.007149430854928554, \"AtoG\": 0.07487527246306612, \"AtoT\": 0.015877936546379267, \"CtoA\": 0.010026640833131508, \"CtoG\": 0.009154759021554855, \"CtoT\": 0.5406539113586825, \"GtoA\": 0.05596512472753693, \"GtoC\": 0.0025865827076774037, \"GtoT\": 0.05791232744005813, \"TtoA\": 0.018551707435214337, \"TtoC\": 0.1962412206345362, \"TtoG\": 0.011005085977234198, \"principal_component_1\": -0.05007338450337186, \"principal_component_2\": -0.002671150181333101, \"log10_total_count\": 5.013784891546739}, {\"clade\": \"20I\", \"reversion_to_ref\": true, \"total_count\": 41699, \"AtoC\": 0.008129691359505024, \"AtoG\": 0.11223290726396316, \"AtoT\": 0.007122472960982278, \"CtoA\": 0.013165783352118756, \"CtoG\": 0.0002637952948511955, \"CtoT\": 0.6337562051847766, \"GtoA\": 0.031031919230676993, \"GtoC\": 0.001151106741168853, \"GtoT\": 0.05556488165183817, \"TtoA\": 0.010791625698457997, \"TtoC\": 0.11825223626465863, \"TtoG\": 0.008537374997002327, \"principal_component_1\": 0.07918224005870818, \"principal_component_2\": 0.009298444971135942, \"log10_total_count\": 4.620125640113101}, {\"clade\": \"20J\", \"reversion_to_ref\": false, \"total_count\": 6956, \"AtoC\": 0.007331799884991374, \"AtoG\": 0.06641748131109833, \"AtoT\": 0.012219666474985624, \"CtoA\": 0.008913168487636573, \"CtoG\": 0.0023001725129384704, \"CtoT\": 0.5255894192064405, \"GtoA\": 0.06325474410580793, \"GtoC\": 0.0030189764232317422, \"GtoT\": 0.07763082231167337, \"TtoA\": 0.02314548591144336, \"TtoC\": 0.19824611845888443, \"TtoG\": 0.011932144910868315, \"principal_component_1\": -0.06436880588426878, \"principal_component_2\": -0.024041276163596824, \"log10_total_count\": 3.8423595733306746}, {\"clade\": \"20J\", \"reversion_to_ref\": true, \"total_count\": 2780, \"AtoC\": 0.0014388489208633094, \"AtoG\": 0.10863309352517986, \"AtoT\": 0.008273381294964029, \"CtoA\": 0.014388489208633094, \"CtoG\": 0.00035971223021582735, \"CtoT\": 0.6446043165467625, \"GtoA\": 0.03237410071942446, \"GtoC\": 0.002517985611510791, \"GtoT\": 0.07877697841726619, \"TtoA\": 0.008273381294964029, \"TtoC\": 0.09316546762589928, \"TtoG\": 0.007194244604316547, \"principal_component_1\": 0.10312697048480524, \"principal_component_2\": -0.01567229844992302, \"log10_total_count\": 3.4440447959180758}, {\"clade\": \"21C\", \"reversion_to_ref\": false, \"total_count\": 10957, \"AtoC\": 0.007301268595418454, \"AtoG\": 0.07182622980742905, \"AtoT\": 0.016701651912019715, \"CtoA\": 0.010313041891028565, \"CtoG\": 0.0021903805786255364, \"CtoT\": 0.5396550150588665, \"GtoA\": 0.061421922058957745, \"GtoC\": 0.0023729122935109976, \"GtoT\": 0.05704116090170667, \"TtoA\": 0.019895956922515286, \"TtoC\": 0.2002372912293511, \"TtoG\": 0.011043168750570412, \"principal_component_1\": -0.05496140956823795, \"principal_component_2\": -0.0017117981208424034, \"log10_total_count\": 4.039691661649026}, {\"clade\": \"21C\", \"reversion_to_ref\": true, \"total_count\": 5639, \"AtoC\": 0.0030147189217946445, \"AtoG\": 0.08228409292427735, \"AtoT\": 0.00620677425075368, \"CtoA\": 0.01064018442986345, \"CtoG\": 0.0003546728143287817, \"CtoT\": 0.5084234793403085, \"GtoA\": 0.02269906011704203, \"GtoC\": 0.0005320092214931725, \"GtoT\": 0.03794999113317964, \"TtoA\": 0.00815747472956198, \"TtoC\": 0.31033871253768397, \"TtoG\": 0.009398829579712715, \"principal_component_1\": -0.14048382335199333, \"principal_component_2\": 0.06539164517003698, \"log10_total_count\": 3.7512020945883524}, {\"clade\": \"21F\", \"reversion_to_ref\": false, \"total_count\": 8084, \"AtoC\": 0.006432459178624443, \"AtoG\": 0.07384957941613063, \"AtoT\": 0.016081147946561108, \"CtoA\": 0.009648688767936665, \"CtoG\": 0.001855517070757051, \"CtoT\": 0.5150915388421573, \"GtoA\": 0.07335477486392875, \"GtoC\": 0.0023503216229589312, \"GtoT\": 0.05999505195447798, \"TtoA\": 0.025729836714497772, \"TtoC\": 0.20571499257793172, \"TtoG\": 0.009896091044037604, \"principal_component_1\": -0.07722225516305464, \"principal_component_2\": -0.013412747194575999, \"log10_total_count\": 3.9076263048432662}, {\"clade\": \"21F\", \"reversion_to_ref\": true, \"total_count\": 3128, \"AtoC\": 0.0019181585677749361, \"AtoG\": 0.09942455242966752, \"AtoT\": 0.005754475703324808, \"CtoA\": 0.011828644501278773, \"CtoG\": 0.0006393861892583121, \"CtoT\": 0.6163682864450127, \"GtoA\": 0.028452685421994885, \"GtoC\": 0.00159846547314578, \"GtoT\": 0.062020460358056265, \"TtoA\": 0.026854219948849106, \"TtoC\": 0.10166240409207161, \"TtoG\": 0.043478260869565216, \"principal_component_1\": 0.07577874291494756, \"principal_component_2\": -0.014720698021564277, \"log10_total_count\": 3.4952667443878105}, {\"clade\": \"21H\", \"reversion_to_ref\": false, \"total_count\": 1420, \"AtoC\": 0.007746478873239437, \"AtoG\": 0.0823943661971831, \"AtoT\": 0.027464788732394368, \"CtoA\": 0.014084507042253521, \"CtoG\": 0.0007042253521126761, \"CtoT\": 0.497887323943662, \"GtoA\": 0.056338028169014086, \"GtoC\": 0.005633802816901409, \"GtoT\": 0.06126760563380282, \"TtoA\": 0.035211267605633804, \"TtoC\": 0.1964788732394366, \"TtoG\": 0.014788732394366197, \"principal_component_1\": -0.07909717197005735, \"principal_component_2\": -0.02389277442064122, \"log10_total_count\": 3.152288344383056}, {\"clade\": \"21H\", \"reversion_to_ref\": true, \"total_count\": 510, \"AtoC\": 0.00392156862745098, \"AtoG\": 0.10392156862745099, \"AtoT\": 0.0196078431372549, \"CtoA\": 0.01764705882352941, \"CtoG\": 0.0, \"CtoT\": 0.615686274509804, \"GtoA\": 0.03725490196078431, \"GtoC\": 0.00196078431372549, \"GtoT\": 0.06274509803921569, \"TtoA\": 0.013725490196078431, \"TtoC\": 0.10588235294117647, \"TtoG\": 0.01764705882352941, \"principal_component_1\": 0.07187927817538695, \"principal_component_2\": -0.01334583625049702, \"log10_total_count\": 2.707570176097936}, {\"clade\": \"21I\", \"reversion_to_ref\": false, \"total_count\": 42041, \"AtoC\": 0.008634428296187055, \"AtoG\": 0.0814918769772365, \"AtoT\": 0.015960609880830617, \"CtoA\": 0.012368878000047573, \"CtoG\": 0.004067457957707952, \"CtoT\": 0.4499892961632692, \"GtoA\": 0.08375157584262981, \"GtoC\": 0.0034252277538593277, \"GtoT\": 0.06055992959254061, \"TtoA\": 0.014438286434670917, \"TtoC\": 0.2550605361432887, \"TtoG\": 0.010251896957731738, \"principal_component_1\": -0.15462117628343808, \"principal_component_2\": -0.01599925447967681, \"log10_total_count\": 4.623673037739571}, {\"clade\": \"21I\", \"reversion_to_ref\": true, \"total_count\": 15272, \"AtoC\": 0.004256155055002619, \"AtoG\": 0.1392744892613934, \"AtoT\": 0.009232582503928758, \"CtoA\": 0.01722105814562598, \"CtoG\": 0.0005238344683080147, \"CtoT\": 0.6105945521215296, \"GtoA\": 0.030513357778941853, \"GtoC\": 0.001964379256155055, \"GtoT\": 0.07255107386066004, \"TtoA\": 0.0076610790990047145, \"TtoC\": 0.09514143530644316, \"TtoG\": 0.011066003143006809, \"principal_component_1\": 0.08517014536780868, \"principal_component_2\": -0.02040576101788962, \"log10_total_count\": 4.183895915385611}, {\"clade\": \"21J\", \"reversion_to_ref\": false, \"total_count\": 459986, \"AtoC\": 0.01055032109672903, \"AtoG\": 0.08265468949054972, \"AtoT\": 0.017257046953602934, \"CtoA\": 0.012546034009730731, \"CtoG\": 0.0064762840608192426, \"CtoT\": 0.4824951194166779, \"GtoA\": 0.061799706947602756, \"GtoC\": 0.0036153274230085264, \"GtoT\": 0.06548677568447735, \"TtoA\": 0.01534829320892375, \"TtoC\": 0.23223532890131438, \"TtoG\": 0.009535072806563677, \"principal_component_1\": -0.1132407375951456, \"principal_component_2\": -0.01373391995209134, \"log10_total_count\": 5.662744613822286}, {\"clade\": \"21J\", \"reversion_to_ref\": true, \"total_count\": 169183, \"AtoC\": 0.004492177109993321, \"AtoG\": 0.12784381409479675, \"AtoT\": 0.009138033963223255, \"CtoA\": 0.020273904588522487, \"CtoG\": 0.0005024145451966214, \"CtoT\": 0.6159897862078341, \"GtoA\": 0.031415685973176975, \"GtoC\": 0.001903264512391907, \"GtoT\": 0.06736492437183406, \"TtoA\": 0.009019818776118169, \"TtoC\": 0.10059521346707412, \"TtoG\": 0.011460962389838222, \"principal_component_1\": 0.0824885113030688, \"principal_component_2\": -0.013344931646575612, \"log10_total_count\": 5.228356721722432}, {\"clade\": \"21K\", \"reversion_to_ref\": false, \"total_count\": 194804, \"AtoC\": 0.010769799388102914, \"AtoG\": 0.07989569002689884, \"AtoT\": 0.017330239625469705, \"CtoA\": 0.012766678302293588, \"CtoG\": 0.003706289398574978, \"CtoT\": 0.48799819305558406, \"GtoA\": 0.06918749101661156, \"GtoC\": 0.0029824849592410834, \"GtoT\": 0.030266318966756328, \"TtoA\": 0.026893698281349458, \"TtoC\": 0.24916839489948872, \"TtoG\": 0.009034722079628755, \"principal_component_1\": -0.12372303185022905, \"principal_component_2\": 0.019670680470484796, \"log10_total_count\": 5.289597870202208}, {\"clade\": \"21K\", \"reversion_to_ref\": true, \"total_count\": 75212, \"AtoC\": 0.0031112056586714886, \"AtoG\": 0.13120246769132585, \"AtoT\": 0.007445620379726639, \"CtoA\": 0.01780301015795352, \"CtoG\": 0.0004254640216986651, \"CtoT\": 0.6176939850023933, \"GtoA\": 0.03952826676594161, \"GtoC\": 0.000797745040684997, \"GtoT\": 0.029317130245173642, \"TtoA\": 0.020475456044248257, \"TtoC\": 0.1209913311705579, \"TtoG\": 0.011208317821624209, \"principal_component_1\": 0.06828506521375247, \"principal_component_2\": 0.022908448124487616, \"log10_total_count\": 4.876287137373732}, {\"clade\": \"21L\", \"reversion_to_ref\": false, \"total_count\": 2172, \"AtoC\": 0.018876611418047883, \"AtoG\": 0.08149171270718232, \"AtoT\": 0.013351749539594844, \"CtoA\": 0.008287292817679558, \"CtoG\": 0.005985267034990792, \"CtoT\": 0.5220994475138122, \"GtoA\": 0.06952117863720074, \"GtoC\": 0.0013812154696132596, \"GtoT\": 0.034530386740331494, \"TtoA\": 0.02117863720073665, \"TtoC\": 0.21639042357274402, \"TtoG\": 0.006906077348066298, \"principal_component_1\": -0.07793312518912635, \"principal_component_2\": 0.014697604917531292, \"log10_total_count\": 3.3368598209168088}, {\"clade\": \"21L\", \"reversion_to_ref\": true, \"total_count\": 941, \"AtoC\": 0.0, \"AtoG\": 0.1030818278427205, \"AtoT\": 0.008501594048884165, \"CtoA\": 0.020191285866099893, \"CtoG\": 0.0, \"CtoT\": 0.640807651434644, \"GtoA\": 0.03506907545164718, \"GtoC\": 0.0010626992561105207, \"GtoT\": 0.03400637619553666, \"TtoA\": 0.01487778958554729, \"TtoC\": 0.12964930924548354, \"TtoG\": 0.012752391073326248, \"principal_component_1\": 0.07350413027919354, \"principal_component_2\": 0.03126404258934072, \"log10_total_count\": 2.9735896234272565}, {\"clade\": \"21M\", \"reversion_to_ref\": false, \"total_count\": 143583, \"AtoC\": 0.010042971660990507, \"AtoG\": 0.07662467005146849, \"AtoT\": 0.015050528265881059, \"CtoA\": 0.013476525772549675, \"CtoG\": 0.006031354686836185, \"CtoT\": 0.5098862678729376, \"GtoA\": 0.0652793157964383, \"GtoC\": 0.0031967572762792253, \"GtoT\": 0.03238544953093333, \"TtoA\": 0.02005112025796926, \"TtoC\": 0.23992394642819834, \"TtoG\": 0.008051092399518048, \"principal_component_1\": -0.10211966604361117, \"principal_component_2\": 0.023571286336410143, \"log10_total_count\": 5.157103023170604}, {\"clade\": \"21M\", \"reversion_to_ref\": true, \"total_count\": 54156, \"AtoC\": 0.0024004727084718223, \"AtoG\": 0.12299652854716006, \"AtoT\": 0.006721323583721102, \"CtoA\": 0.017892754265455352, \"CtoG\": 0.00029544279488883963, \"CtoT\": 0.6314351133761725, \"GtoA\": 0.03796439914321589, \"GtoC\": 0.0011263756555137013, \"GtoT\": 0.03211093876948076, \"TtoA\": 0.015787724351872368, \"TtoC\": 0.11762316271511929, \"TtoG\": 0.013645764088928281, \"principal_component_1\": 0.07880917662937371, \"principal_component_2\": 0.02447538118306207, \"log10_total_count\": 4.73364657956777}, {\"clade\": \"22A\", \"reversion_to_ref\": false, \"total_count\": 11584, \"AtoC\": 0.006560773480662983, \"AtoG\": 0.07553522099447514, \"AtoT\": 0.014330110497237569, \"CtoA\": 0.014502762430939226, \"CtoG\": 0.0010359116022099447, \"CtoT\": 0.5297824585635359, \"GtoA\": 0.07458563535911603, \"GtoC\": 0.0029350828729281767, \"GtoT\": 0.0381560773480663, \"TtoA\": 0.021495165745856352, \"TtoC\": 0.2139157458563536, \"TtoG\": 0.0071650552486187844, \"principal_component_1\": -0.07252705253249714, \"principal_component_2\": 0.013074084634619615, \"log10_total_count\": 4.063858548853071}, {\"clade\": \"22A\", \"reversion_to_ref\": true, \"total_count\": 4520, \"AtoC\": 0.0048672566371681415, \"AtoG\": 0.12146017699115044, \"AtoT\": 0.0048672566371681415, \"CtoA\": 0.015265486725663717, \"CtoG\": 0.000663716814159292, \"CtoT\": 0.647787610619469, \"GtoA\": 0.0415929203539823, \"GtoC\": 0.0008849557522123894, \"GtoT\": 0.03738938053097345, \"TtoA\": 0.01504424778761062, \"TtoC\": 0.09911504424778761, \"TtoG\": 0.011061946902654867, \"principal_component_1\": 0.10157103733283956, \"principal_component_2\": 0.01744509673539677, \"log10_total_count\": 3.6551384348113816}, {\"clade\": \"22B\", \"reversion_to_ref\": false, \"total_count\": 51588, \"AtoC\": 0.00707528882685896, \"AtoG\": 0.07668450027138095, \"AtoT\": 0.014945336124680159, \"CtoA\": 0.012076451888035977, \"CtoG\": 0.001647670000775374, \"CtoT\": 0.5102349383577576, \"GtoA\": 0.07780879274249826, \"GtoC\": 0.003586105295805226, \"GtoT\": 0.03766379778243002, \"TtoA\": 0.021962471892688223, \"TtoC\": 0.2277855315189579, \"TtoG\": 0.008529115298131348, \"principal_component_1\": -0.09564057086459825, \"principal_component_2\": 0.011602074442775383, \"log10_total_count\": 4.712548691164631}, {\"clade\": \"22B\", \"reversion_to_ref\": true, \"total_count\": 19401, \"AtoC\": 0.003092624091541673, \"AtoG\": 0.11927220246379053, \"AtoT\": 0.00706149167568682, \"CtoA\": 0.018040307200659758, \"CtoG\": 0.0004123498788722231, \"CtoT\": 0.6182155558991804, \"GtoA\": 0.03922478222772022, \"GtoC\": 0.0009793309623215298, \"GtoT\": 0.04149270656151745, \"TtoA\": 0.01587547033658059, \"TtoC\": 0.1251481882377197, \"TtoG\": 0.011184990464409052, \"principal_component_1\": 0.06379249049494029, \"principal_component_2\": 0.015547624303296429, \"log10_total_count\": 4.287824115666779}, {\"clade\": \"22C\", \"reversion_to_ref\": false, \"total_count\": 32038, \"AtoC\": 0.006336225731943318, \"AtoG\": 0.08177788875710094, \"AtoT\": 0.014326736999812722, \"CtoA\": 0.012547599725326175, \"CtoG\": 0.0014045820588051688, \"CtoT\": 0.5123603221174855, \"GtoA\": 0.06954241837817592, \"GtoC\": 0.002684312379049878, \"GtoT\": 0.03430301516948624, \"TtoA\": 0.017822585679505586, \"TtoC\": 0.23865409825831824, \"TtoG\": 0.008240214744990324, \"principal_component_1\": -0.09877100120466073, \"principal_component_2\": 0.022981394141806968, \"log10_total_count\": 4.505665397047829}, {\"clade\": \"22C\", \"reversion_to_ref\": true, \"total_count\": 12255, \"AtoC\": 0.0019583843329253367, \"AtoG\": 0.13365973072215423, \"AtoT\": 0.006038351693186454, \"CtoA\": 0.01762545899632803, \"CtoG\": 0.0005711954304365566, \"CtoT\": 0.6190126478988168, \"GtoA\": 0.03949408404732762, \"GtoC\": 0.001142390860873113, \"GtoT\": 0.036801305589555286, \"TtoA\": 0.015014279885760914, \"TtoC\": 0.11701346389228887, \"TtoG\": 0.011668706650346796, \"principal_component_1\": 0.07287199230267985, \"principal_component_2\": 0.016982039966715, \"log10_total_count\": 4.088313315588096}]}}, {\"mode\": \"vega-lite\"});\n",
       "</script>"
      ],
      "text/plain": [
       "alt.Chart(...)"
      ]
     },
     "execution_count": 30,
     "metadata": {},
     "output_type": "execute_result"
    }
   ],
   "source": [
    "mut_type_freqs_chart = (\n",
    "    alt.Chart(mut_type_freqs_pca)\n",
    "    .encode(\n",
    "        x=\"principal_component_1\",\n",
    "        y=\"principal_component_2\",\n",
    "        shape=\"reversion_to_ref\",\n",
    "        color=\"clade\",\n",
    "        tooltip=[\"clade\", \"reversion_to_ref\", \"total_count\"],\n",
    "    )\n",
    "    .mark_point(filled=True, size=50)\n",
    ")\n",
    "\n",
    "mut_type_freqs_chart"
   ]
  },
  {
   "cell_type": "markdown",
   "id": "d18d786a-4451-4baa-968f-98f34ba5951d",
   "metadata": {
    "execution": {
     "iopub.execute_input": "2022-09-08T23:46:53.757744Z",
     "iopub.status.busy": "2022-09-08T23:46:53.757244Z",
     "iopub.status.idle": "2022-09-08T23:46:53.762383Z",
     "shell.execute_reply": "2022-09-08T23:46:53.761764Z",
     "shell.execute_reply.started": "2022-09-08T23:46:53.757724Z"
    }
   },
   "source": [
    "Now do PCA on just non-reversion mutations:"
   ]
  },
  {
   "cell_type": "code",
   "execution_count": 32,
   "id": "9a5312cc-8677-4c48-9a0b-d45984eecc69",
   "metadata": {
    "execution": {
     "iopub.execute_input": "2022-09-09T00:03:14.174399Z",
     "iopub.status.busy": "2022-09-09T00:03:14.173851Z",
     "iopub.status.idle": "2022-09-09T00:03:14.189050Z",
     "shell.execute_reply": "2022-09-09T00:03:14.188338Z",
     "shell.execute_reply.started": "2022-09-09T00:03:14.174354Z"
    },
    "tags": []
   },
   "outputs": [],
   "source": [
    "mut_type_freqs_no_revert = mut_type_freqs.query(\"reversion_to_ref == False\")\n",
    "\n",
    "pca = sklearn.decomposition.PCA(n_components=2)\n",
    "pca_coords_no_revert = pca.fit_transform(mut_type_freqs_no_revert.values)\n",
    "assert len(pca_coords_no_revert) == len(mut_type_freqs_no_revert)\n",
    "\n",
    "mut_type_freqs_no_revert_pca = (\n",
    "    mut_type_freqs_no_revert\n",
    "    .reset_index()\n",
    "    .assign(\n",
    "        principal_component_1=pca_coords_no_revert[:, 0],\n",
    "        principal_component_2=pca_coords_no_revert[:, 1],\n",
    "        log10_total_count=lambda x: numpy.log(x[\"total_count\"]) / numpy.log(10),\n",
    "    )\n",
    ")"
   ]
  },
  {
   "cell_type": "markdown",
   "id": "84537ca0-e783-434b-81ec-ee0b328be99f",
   "metadata": {},
   "source": [
    "Plot the PCA on just non-reversion mutations:"
   ]
  },
  {
   "cell_type": "code",
   "execution_count": 36,
   "id": "84a8e970-ac09-47e9-954c-271de15b28e4",
   "metadata": {
    "execution": {
     "iopub.execute_input": "2022-09-09T00:09:56.933347Z",
     "iopub.status.busy": "2022-09-09T00:09:56.932726Z",
     "iopub.status.idle": "2022-09-09T00:09:57.014975Z",
     "shell.execute_reply": "2022-09-09T00:09:57.014257Z",
     "shell.execute_reply.started": "2022-09-09T00:09:56.933310Z"
    },
    "tags": []
   },
   "outputs": [
    {
     "data": {
      "text/html": [
       "\n",
       "<div id=\"altair-viz-4e009e79d3cc460db2c3796828a70836\"></div>\n",
       "<script type=\"text/javascript\">\n",
       "  var VEGA_DEBUG = (typeof VEGA_DEBUG == \"undefined\") ? {} : VEGA_DEBUG;\n",
       "  (function(spec, embedOpt){\n",
       "    let outputDiv = document.currentScript.previousElementSibling;\n",
       "    if (outputDiv.id !== \"altair-viz-4e009e79d3cc460db2c3796828a70836\") {\n",
       "      outputDiv = document.getElementById(\"altair-viz-4e009e79d3cc460db2c3796828a70836\");\n",
       "    }\n",
       "    const paths = {\n",
       "      \"vega\": \"https://cdn.jsdelivr.net/npm//vega@5?noext\",\n",
       "      \"vega-lib\": \"https://cdn.jsdelivr.net/npm//vega-lib?noext\",\n",
       "      \"vega-lite\": \"https://cdn.jsdelivr.net/npm//vega-lite@4.17.0?noext\",\n",
       "      \"vega-embed\": \"https://cdn.jsdelivr.net/npm//vega-embed@6?noext\",\n",
       "    };\n",
       "\n",
       "    function maybeLoadScript(lib, version) {\n",
       "      var key = `${lib.replace(\"-\", \"\")}_version`;\n",
       "      return (VEGA_DEBUG[key] == version) ?\n",
       "        Promise.resolve(paths[lib]) :\n",
       "        new Promise(function(resolve, reject) {\n",
       "          var s = document.createElement('script');\n",
       "          document.getElementsByTagName(\"head\")[0].appendChild(s);\n",
       "          s.async = true;\n",
       "          s.onload = () => {\n",
       "            VEGA_DEBUG[key] = version;\n",
       "            return resolve(paths[lib]);\n",
       "          };\n",
       "          s.onerror = () => reject(`Error loading script: ${paths[lib]}`);\n",
       "          s.src = paths[lib];\n",
       "        });\n",
       "    }\n",
       "\n",
       "    function showError(err) {\n",
       "      outputDiv.innerHTML = `<div class=\"error\" style=\"color:red;\">${err}</div>`;\n",
       "      throw err;\n",
       "    }\n",
       "\n",
       "    function displayChart(vegaEmbed) {\n",
       "      vegaEmbed(outputDiv, spec, embedOpt)\n",
       "        .catch(err => showError(`Javascript Error: ${err.message}<br>This usually means there's a typo in your chart specification. See the javascript console for the full traceback.`));\n",
       "    }\n",
       "\n",
       "    if(typeof define === \"function\" && define.amd) {\n",
       "      requirejs.config({paths});\n",
       "      require([\"vega-embed\"], displayChart, err => showError(`Error loading script: ${err.message}`));\n",
       "    } else {\n",
       "      maybeLoadScript(\"vega\", \"5\")\n",
       "        .then(() => maybeLoadScript(\"vega-lite\", \"4.17.0\"))\n",
       "        .then(() => maybeLoadScript(\"vega-embed\", \"6\"))\n",
       "        .catch(showError)\n",
       "        .then(() => displayChart(vegaEmbed));\n",
       "    }\n",
       "  })({\"config\": {\"view\": {\"continuousWidth\": 400, \"continuousHeight\": 300}}, \"data\": {\"name\": \"data-67144407a3b00b6cb109f5267a78113e\"}, \"mark\": {\"type\": \"point\", \"filled\": true, \"size\": 50}, \"encoding\": {\"color\": {\"field\": \"clade\", \"type\": \"nominal\"}, \"tooltip\": [{\"field\": \"clade\", \"type\": \"nominal\"}, {\"field\": \"total_count\", \"type\": \"quantitative\"}], \"x\": {\"field\": \"principal_component_1\", \"type\": \"quantitative\"}, \"y\": {\"field\": \"principal_component_2\", \"type\": \"quantitative\"}}, \"selection\": {\"selector017\": {\"type\": \"single\", \"fields\": [\"log10_total_count\"], \"init\": {\"log10_total_count\": 4}, \"bind\": {\"input\": \"range\", \"max\": 5.662744613822286, \"min\": 2, \"name\": \"minimum log10 total counts\"}}}, \"transform\": [{\"filter\": \"(selector017.log10_total_count <= datum.log10_total_count)\"}], \"$schema\": \"https://vega.github.io/schema/vega-lite/v4.17.0.json\", \"datasets\": {\"data-67144407a3b00b6cb109f5267a78113e\": [{\"clade\": \"19A\", \"reversion_to_ref\": false, \"total_count\": 2624, \"AtoC\": 0.019054878048780487, \"AtoG\": 0.08536585365853659, \"AtoT\": 0.022865853658536585, \"CtoA\": 0.009146341463414634, \"CtoG\": 0.0022865853658536584, \"CtoT\": 0.4740853658536585, \"GtoA\": 0.057926829268292686, \"GtoC\": 0.004954268292682927, \"GtoT\": 0.06097560975609756, \"TtoA\": 0.019054878048780487, \"TtoC\": 0.22903963414634146, \"TtoG\": 0.01524390243902439, \"principal_component_1\": 0.03972962956016812, \"principal_component_2\": -0.017259348058205032, \"log10_total_count\": 3.418963830703622}, {\"clade\": \"19B\", \"reversion_to_ref\": false, \"total_count\": 1436, \"AtoC\": 0.006267409470752089, \"AtoG\": 0.07520891364902507, \"AtoT\": 0.022284122562674095, \"CtoA\": 0.003481894150417827, \"CtoG\": 0.002785515320334262, \"CtoT\": 0.4972144846796657, \"GtoA\": 0.10236768802228412, \"GtoC\": 0.0020891364902506965, \"GtoT\": 0.057103064066852366, \"TtoA\": 0.018105849582172703, \"TtoC\": 0.2012534818941504, \"TtoG\": 0.011838440111420613, \"principal_component_1\": 0.013771738127542534, \"principal_component_2\": -0.018362962445884402, \"log10_total_count\": 3.1571544399062814}, {\"clade\": \"20A\", \"reversion_to_ref\": false, \"total_count\": 28920, \"AtoC\": 0.009820193637621023, \"AtoG\": 0.07361687413554634, \"AtoT\": 0.015871369294605808, \"CtoA\": 0.009197786998616874, \"CtoG\": 0.004356846473029046, \"CtoT\": 0.5151106500691562, \"GtoA\": 0.060235131396957124, \"GtoC\": 0.004114799446749654, \"GtoT\": 0.06725449515905947, \"TtoA\": 0.018568464730290456, \"TtoC\": 0.2016597510373444, \"TtoG\": 0.020193637621023514, \"principal_component_1\": -0.009843046392758351, \"principal_component_2\": -0.015692764683141586, \"log10_total_count\": 4.461198288622493}, {\"clade\": \"20B\", \"reversion_to_ref\": false, \"total_count\": 22806, \"AtoC\": 0.007234938174164694, \"AtoG\": 0.07291940717355082, \"AtoT\": 0.015302990441111988, \"CtoA\": 0.010128913443830571, \"CtoG\": 0.0036393931421555732, \"CtoT\": 0.5313075506445673, \"GtoA\": 0.05923879680785758, \"GtoC\": 0.0032009120406910462, \"GtoT\": 0.07037621678505657, \"TtoA\": 0.018503902481803034, \"TtoC\": 0.1976672805402087, \"TtoG\": 0.010479698325002193, \"principal_component_1\": -0.025376791388453675, \"principal_component_2\": -0.011395159012356073, \"log10_total_count\": 4.358049119986747}, {\"clade\": \"20C\", \"reversion_to_ref\": false, \"total_count\": 15445, \"AtoC\": 0.008222725801230171, \"AtoG\": 0.07691809647134995, \"AtoT\": 0.014826804791194562, \"CtoA\": 0.010618323081903528, \"CtoG\": 0.0014891550663645192, \"CtoT\": 0.5235998705082551, \"GtoA\": 0.0656523146649401, \"GtoC\": 0.003172547750080932, \"GtoT\": 0.06299773389446423, \"TtoA\": 0.020459695694399482, \"TtoC\": 0.2018776303010683, \"TtoG\": 0.01016510197474911, \"principal_component_1\": -0.014237837809557641, \"principal_component_2\": -0.007480402233206225, \"log10_total_count\": 4.188787912637469}, {\"clade\": \"20D\", \"reversion_to_ref\": false, \"total_count\": 1361, \"AtoC\": 0.006612784717119765, \"AtoG\": 0.08155767817781043, \"AtoT\": 0.016164584864070537, \"CtoA\": 0.009551800146950772, \"CtoG\": 0.010286554004408524, \"CtoT\": 0.5113886847905952, \"GtoA\": 0.0683321087435709, \"GtoC\": 0.0014695077149155032, \"GtoT\": 0.0668626010286554, \"TtoA\": 0.019838354151359296, \"TtoC\": 0.19985304922850844, \"TtoG\": 0.008082292432035268, \"principal_component_1\": -0.005706728281306268, \"principal_component_2\": -0.017259808457088775, \"log10_total_count\": 3.1338581252033344}, {\"clade\": \"20E\", \"reversion_to_ref\": false, \"total_count\": 17200, \"AtoC\": 0.008430232558139536, \"AtoG\": 0.07837209302325582, \"AtoT\": 0.014476744186046511, \"CtoA\": 0.009825581395348837, \"CtoG\": 0.01, \"CtoT\": 0.5394767441860465, \"GtoA\": 0.05401162790697674, \"GtoC\": 0.005232558139534884, \"GtoT\": 0.05593023255813954, \"TtoA\": 0.020290697674418604, \"TtoC\": 0.19459302325581396, \"TtoG\": 0.00936046511627907, \"principal_component_1\": -0.03204900325684017, \"principal_component_2\": 0.002177046618783503, \"log10_total_count\": 4.235528446907549}, {\"clade\": \"20F\", \"reversion_to_ref\": false, \"total_count\": 930, \"AtoC\": 0.010752688172043012, \"AtoG\": 0.07311827956989247, \"AtoT\": 0.015053763440860216, \"CtoA\": 0.017204301075268817, \"CtoG\": 0.001075268817204301, \"CtoT\": 0.5494623655913978, \"GtoA\": 0.05053763440860215, \"GtoC\": 0.004301075268817204, \"GtoT\": 0.026881720430107527, \"TtoA\": 0.023655913978494623, \"TtoC\": 0.21935483870967742, \"TtoG\": 0.008602150537634409, \"principal_component_1\": -0.022343140861557254, \"principal_component_2\": 0.040814860217090854, \"log10_total_count\": 2.968482948553935}, {\"clade\": \"20G\", \"reversion_to_ref\": false, \"total_count\": 23418, \"AtoC\": 0.007344777521564609, \"AtoG\": 0.07357588180032454, \"AtoT\": 0.016952771372448543, \"CtoA\": 0.010077717994704928, \"CtoG\": 0.0014945768212486121, \"CtoT\": 0.541421129046033, \"GtoA\": 0.061192245281407466, \"GtoC\": 0.002434025108890597, \"GtoT\": 0.058630113587838414, \"TtoA\": 0.020198138184302675, \"TtoC\": 0.19719873601503118, \"TtoG\": 0.009479887266205482, \"principal_component_1\": -0.03127646518089825, \"principal_component_2\": 0.0019066179800575384, \"log10_total_count\": 4.369549801664893}, {\"clade\": \"20H\", \"reversion_to_ref\": false, \"total_count\": 2227, \"AtoC\": 0.013022002694207453, \"AtoG\": 0.07049842837898518, \"AtoT\": 0.016165244723843737, \"CtoA\": 0.011674898967220475, \"CtoG\": 0.010776829815895825, \"CtoT\": 0.5397395599461159, \"GtoA\": 0.05074090704984284, \"GtoC\": 0.003143242029636282, \"GtoT\": 0.07229456668163449, \"TtoA\": 0.015267175572519083, \"TtoC\": 0.18590031432420295, \"TtoG\": 0.010776829815895825, \"principal_component_1\": -0.04081130697770012, \"principal_component_2\": -0.014020102980524168, \"log10_total_count\": 3.3477202170340377}, {\"clade\": \"20I\", \"reversion_to_ref\": false, \"total_count\": 103225, \"AtoC\": 0.007149430854928554, \"AtoG\": 0.07487527246306612, \"AtoT\": 0.015877936546379267, \"CtoA\": 0.010026640833131508, \"CtoG\": 0.009154759021554855, \"CtoT\": 0.5406539113586825, \"GtoA\": 0.05596512472753693, \"GtoC\": 0.0025865827076774037, \"GtoT\": 0.05791232744005813, \"TtoA\": 0.018551707435214337, \"TtoC\": 0.1962412206345362, \"TtoG\": 0.011005085977234198, \"principal_component_1\": -0.032226008127552434, \"principal_component_2\": 0.0015579442168911512, \"log10_total_count\": 5.013784891546739}, {\"clade\": \"20J\", \"reversion_to_ref\": false, \"total_count\": 6956, \"AtoC\": 0.007331799884991374, \"AtoG\": 0.06641748131109833, \"AtoT\": 0.012219666474985624, \"CtoA\": 0.008913168487636573, \"CtoG\": 0.0023001725129384704, \"CtoT\": 0.5255894192064405, \"GtoA\": 0.06325474410580793, \"GtoC\": 0.0030189764232317422, \"GtoT\": 0.07763082231167337, \"TtoA\": 0.02314548591144336, \"TtoC\": 0.19824611845888443, \"TtoG\": 0.011932144910868315, \"principal_component_1\": -0.02165155797094276, \"principal_component_2\": -0.019239020698157347, \"log10_total_count\": 3.8423595733306746}, {\"clade\": \"21C\", \"reversion_to_ref\": false, \"total_count\": 10957, \"AtoC\": 0.007301268595418454, \"AtoG\": 0.07182622980742905, \"AtoT\": 0.016701651912019715, \"CtoA\": 0.010313041891028565, \"CtoG\": 0.0021903805786255364, \"CtoT\": 0.5396550150588665, \"GtoA\": 0.061421922058957745, \"GtoC\": 0.0023729122935109976, \"GtoT\": 0.05704116090170667, \"TtoA\": 0.019895956922515286, \"TtoC\": 0.2002372912293511, \"TtoG\": 0.011043168750570412, \"principal_component_1\": -0.028098052103261637, \"principal_component_2\": 0.003489607802725659, \"log10_total_count\": 4.039691661649026}, {\"clade\": \"21F\", \"reversion_to_ref\": false, \"total_count\": 8084, \"AtoC\": 0.006432459178624443, \"AtoG\": 0.07384957941613063, \"AtoT\": 0.016081147946561108, \"CtoA\": 0.009648688767936665, \"CtoG\": 0.001855517070757051, \"CtoT\": 0.5150915388421573, \"GtoA\": 0.07335477486392875, \"GtoC\": 0.0023503216229589312, \"GtoT\": 0.05999505195447798, \"TtoA\": 0.025729836714497772, \"TtoC\": 0.20571499257793172, \"TtoG\": 0.009896091044037604, \"principal_component_1\": -0.003923494982875059, \"principal_component_2\": -0.007747454503885589, \"log10_total_count\": 3.9076263048432662}, {\"clade\": \"21H\", \"reversion_to_ref\": false, \"total_count\": 1420, \"AtoC\": 0.007746478873239437, \"AtoG\": 0.0823943661971831, \"AtoT\": 0.027464788732394368, \"CtoA\": 0.014084507042253521, \"CtoG\": 0.0007042253521126761, \"CtoT\": 0.497887323943662, \"GtoA\": 0.056338028169014086, \"GtoC\": 0.005633802816901409, \"GtoT\": 0.06126760563380282, \"TtoA\": 0.035211267605633804, \"TtoC\": 0.1964788732394366, \"TtoG\": 0.014788732394366197, \"principal_component_1\": 0.0016519153294009636, \"principal_component_2\": -0.020436731093598236, \"log10_total_count\": 3.152288344383056}, {\"clade\": \"21I\", \"reversion_to_ref\": false, \"total_count\": 42041, \"AtoC\": 0.008634428296187055, \"AtoG\": 0.0814918769772365, \"AtoT\": 0.015960609880830617, \"CtoA\": 0.012368878000047573, \"CtoG\": 0.004067457957707952, \"CtoT\": 0.4499892961632692, \"GtoA\": 0.08375157584262981, \"GtoC\": 0.0034252277538593277, \"GtoT\": 0.06055992959254061, \"TtoA\": 0.014438286434670917, \"TtoC\": 0.2550605361432887, \"TtoG\": 0.010251896957731738, \"principal_component_1\": 0.07772085094768337, \"principal_component_2\": -0.016728770781161337, \"log10_total_count\": 4.623673037739571}, {\"clade\": \"21J\", \"reversion_to_ref\": false, \"total_count\": 459986, \"AtoC\": 0.01055032109672903, \"AtoG\": 0.08265468949054972, \"AtoT\": 0.017257046953602934, \"CtoA\": 0.012546034009730731, \"CtoG\": 0.0064762840608192426, \"CtoT\": 0.4824951194166779, \"GtoA\": 0.061799706947602756, \"GtoC\": 0.0036153274230085264, \"GtoT\": 0.06548677568447735, \"TtoA\": 0.01534829320892375, \"TtoC\": 0.23223532890131438, \"TtoG\": 0.009535072806563677, \"principal_component_1\": 0.03457278612266091, \"principal_component_2\": -0.014773312964470249, \"log10_total_count\": 5.662744613822286}, {\"clade\": \"21K\", \"reversion_to_ref\": false, \"total_count\": 194804, \"AtoC\": 0.010769799388102914, \"AtoG\": 0.07989569002689884, \"AtoT\": 0.017330239625469705, \"CtoA\": 0.012766678302293588, \"CtoG\": 0.003706289398574978, \"CtoT\": 0.48799819305558406, \"GtoA\": 0.06918749101661156, \"GtoC\": 0.0029824849592410834, \"GtoT\": 0.030266318966756328, \"TtoA\": 0.026893698281349458, \"TtoC\": 0.24916839489948872, \"TtoG\": 0.009034722079628755, \"principal_component_1\": 0.046130242789926536, \"principal_component_2\": 0.022064811055373855, \"log10_total_count\": 5.289597870202208}, {\"clade\": \"21L\", \"reversion_to_ref\": false, \"total_count\": 2172, \"AtoC\": 0.018876611418047883, \"AtoG\": 0.08149171270718232, \"AtoT\": 0.013351749539594844, \"CtoA\": 0.008287292817679558, \"CtoG\": 0.005985267034990792, \"CtoT\": 0.5220994475138122, \"GtoA\": 0.06952117863720074, \"GtoC\": 0.0013812154696132596, \"GtoT\": 0.034530386740331494, \"TtoA\": 0.02117863720073665, \"TtoC\": 0.21639042357274402, \"TtoG\": 0.006906077348066298, \"principal_component_1\": 0.0006198953464152323, \"principal_component_2\": 0.019933275168242642, \"log10_total_count\": 3.3368598209168088}, {\"clade\": \"21M\", \"reversion_to_ref\": false, \"total_count\": 143583, \"AtoC\": 0.010042971660990507, \"AtoG\": 0.07662467005146849, \"AtoT\": 0.015050528265881059, \"CtoA\": 0.013476525772549675, \"CtoG\": 0.006031354686836185, \"CtoT\": 0.5098862678729376, \"GtoA\": 0.0652793157964383, \"GtoC\": 0.0031967572762792253, \"GtoT\": 0.03238544953093333, \"TtoA\": 0.02005112025796926, \"TtoC\": 0.23992394642819834, \"TtoG\": 0.008051092399518048, \"principal_component_1\": 0.022457901959821693, \"principal_component_2\": 0.026525221851438643, \"log10_total_count\": 5.157103023170604}, {\"clade\": \"22A\", \"reversion_to_ref\": false, \"total_count\": 11584, \"AtoC\": 0.006560773480662983, \"AtoG\": 0.07553522099447514, \"AtoT\": 0.014330110497237569, \"CtoA\": 0.014502762430939226, \"CtoG\": 0.0010359116022099447, \"CtoT\": 0.5297824585635359, \"GtoA\": 0.07458563535911603, \"GtoC\": 0.0029350828729281767, \"GtoT\": 0.0381560773480663, \"TtoA\": 0.021495165745856352, \"TtoC\": 0.2139157458563536, \"TtoG\": 0.0071650552486187844, \"principal_component_1\": -0.0069709853814753165, \"principal_component_2\": 0.01970629494807013, \"log10_total_count\": 4.063858548853071}, {\"clade\": \"22B\", \"reversion_to_ref\": false, \"total_count\": 51588, \"AtoC\": 0.00707528882685896, \"AtoG\": 0.07668450027138095, \"AtoT\": 0.014945336124680159, \"CtoA\": 0.012076451888035977, \"CtoG\": 0.001647670000775374, \"CtoT\": 0.5102349383577576, \"GtoA\": 0.07780879274249826, \"GtoC\": 0.003586105295805226, \"GtoT\": 0.03766379778243002, \"TtoA\": 0.021962471892688223, \"TtoC\": 0.2277855315189579, \"TtoG\": 0.008529115298131348, \"principal_component_1\": 0.01692421937929199, \"principal_component_2\": 0.01678343168623658, \"log10_total_count\": 4.712548691164631}, {\"clade\": \"22C\", \"reversion_to_ref\": false, \"total_count\": 32038, \"AtoC\": 0.006336225731943318, \"AtoG\": 0.08177788875710094, \"AtoT\": 0.014326736999812722, \"CtoA\": 0.012547599725326175, \"CtoG\": 0.0014045820588051688, \"CtoT\": 0.5123603221174855, \"GtoA\": 0.06954241837817592, \"GtoC\": 0.002684312379049878, \"GtoT\": 0.03430301516948624, \"TtoA\": 0.017822585679505586, \"TtoC\": 0.23865409825831824, \"TtoG\": 0.008240214744990324, \"principal_component_1\": 0.020935239152267148, \"principal_component_2\": 0.025436726366769025, \"log10_total_count\": 4.505665397047829}]}}, {\"mode\": \"vega-lite\"});\n",
       "</script>"
      ],
      "text/plain": [
       "alt.Chart(...)"
      ]
     },
     "execution_count": 36,
     "metadata": {},
     "output_type": "execute_result"
    }
   ],
   "source": [
    "total_count_selection = alt.selection_single(\n",
    "    fields=[\"log10_total_count\"],\n",
    "    init={\"log10_total_count\": 4},\n",
    "    bind=alt.binding_range(\n",
    "        name=\"minimum log10 total counts\",\n",
    "        min=int(mut_type_freqs_no_revert_pca[\"log10_total_count\"].min()),\n",
    "        max=mut_type_freqs_no_revert_pca[\"log10_total_count\"].max(),\n",
    "    )\n",
    ")\n",
    "\n",
    "mut_type_freqs_no_revert_chart = (\n",
    "    alt.Chart(mut_type_freqs_no_revert_pca)\n",
    "    .encode(\n",
    "        x=\"principal_component_1\",\n",
    "        y=\"principal_component_2\",\n",
    "        color=\"clade\",\n",
    "        tooltip=[\"clade\", \"total_count\"],\n",
    "    )\n",
    "    .mark_point(filled=True, size=50)\n",
    "    .add_selection(total_count_selection)\n",
    "    .transform_filter(\n",
    "        total_count_selection.log10_total_count <= alt.datum.log10_total_count\n",
    "    )\n",
    ")\n",
    "\n",
    "mut_type_freqs_no_revert_chart"
   ]
  },
  {
   "cell_type": "code",
   "execution_count": null,
   "id": "2af32ac7-3e6a-4742-8844-00608d1c411f",
   "metadata": {},
   "outputs": [],
   "source": []
  }
 ],
 "metadata": {
  "kernelspec": {
   "display_name": "Python 3 (ipykernel)",
   "language": "python",
   "name": "python3"
  },
  "language_info": {
   "codemirror_mode": {
    "name": "ipython",
    "version": 3
   },
   "file_extension": ".py",
   "mimetype": "text/x-python",
   "name": "python",
   "nbconvert_exporter": "python",
   "pygments_lexer": "ipython3",
   "version": "3.9.13"
  }
 },
 "nbformat": 4,
 "nbformat_minor": 5
}
