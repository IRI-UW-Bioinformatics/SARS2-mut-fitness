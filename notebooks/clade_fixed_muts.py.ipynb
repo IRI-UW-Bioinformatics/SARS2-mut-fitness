{
 "cells": [
  {
   "cell_type": "markdown",
   "id": "008b56e0-8e16-4e76-851c-edfdc35ca119",
   "metadata": {},
   "source": [
    "# Analyze fitness effects of mutations fixed in each clade\n",
    "\n",
    "This notebook analyzes the fitness effects of amino-acid mutations that have fixed in each clade, looking at the mutations in both the forward polarity in clades where it hasn't yet occurred, and the reverse polarity as reversions from clades where it has fixed, which is only possible for mutations with reversions that can be accessed by a different nucleotide change since we exclude direct nucleotide reversions when calculating the fitnesses. \n",
    "\n",
    "Import Python modules:"
   ]
  },
  {
   "cell_type": "code",
   "execution_count": 1,
   "id": "6718e87a-8da0-49fa-a00a-6311caca0f83",
   "metadata": {
    "execution": {
     "iopub.execute_input": "2023-01-06T19:12:02.159722Z",
     "iopub.status.busy": "2023-01-06T19:12:02.159234Z",
     "iopub.status.idle": "2023-01-06T19:12:04.465560Z",
     "shell.execute_reply": "2023-01-06T19:12:04.464460Z",
     "shell.execute_reply.started": "2023-01-06T19:12:02.159678Z"
    }
   },
   "outputs": [],
   "source": [
    "import altair as alt\n",
    "\n",
    "import Bio.Seq\n",
    "\n",
    "import numpy\n",
    "\n",
    "import pandas as pd\n",
    "\n",
    "import yaml\n",
    "\n",
    "_ = alt.data_transformers.disable_max_rows()"
   ]
  },
  {
   "cell_type": "markdown",
   "id": "60c785d9-1e75-4959-928b-c92580c31c62",
   "metadata": {},
   "source": [
    "Now get variables from `snakemake`:"
   ]
  },
  {
   "cell_type": "code",
   "execution_count": 2,
   "id": "f47affb5-0a48-475e-a522-7de36413e745",
   "metadata": {
    "execution": {
     "iopub.execute_input": "2023-01-06T19:12:04.470055Z",
     "iopub.status.busy": "2023-01-06T19:12:04.469723Z",
     "iopub.status.idle": "2023-01-06T19:12:04.544677Z",
     "shell.execute_reply": "2023-01-06T19:12:04.543826Z",
     "shell.execute_reply.started": "2023-01-06T19:12:04.470027Z"
    },
    "tags": []
   },
   "outputs": [],
   "source": [
    "if \"snakemake\" not in globals() and \"snakemake\" not in locals():\n",
    "    # variables set manually for interactive debugging\n",
    "    aa_fitness_csv = \"../results/aa_fitness/aa_fitness.csv\"\n",
    "    aamut_by_clade_csv = \"../results/aa_fitness/aamut_fitness_by_clade.csv\"\n",
    "    clade_founder_nts_csv = \"../results/clade_founder_nts/clade_founder_nts.csv\"\n",
    "    chartfile = \"../results/clade_fixed_muts/clade_fixed_muts.html\"\n",
    "    \n",
    "    with open(\"../config.yaml\") as f:\n",
    "        config = yaml.safe_load(f)\n",
    "    min_expected_count = config[\"min_expected_count\"]\n",
    "    ref = config[\"clade_fixed_muts_ref\"]\n",
    "    orf1ab_to_nsps = config[\"orf1ab_to_nsps\"]\n",
    "    \n",
    "else:\n",
    "    # get variables from `snakemake` when running pipeline\n",
    "    aa_fitness_csv = snakemake.input.aafitness\n",
    "    aamut_by_clade_csv = snakemake.input.aamut_by_clade\n",
    "    clade_founder_nts_csv = snakemake.input.clade_founder_nts_csv\n",
    "    chartfile = snakemake.output.chart\n",
    "    min_expected_count = snakemake.params.min_expected_count\n",
    "    ref = snakemake.params.ref\n",
    "    orf1ab_to_nsps = snakemake.params.orf1ab_to_nsps"
   ]
  },
  {
   "cell_type": "markdown",
   "id": "8a7a6ba8-34d3-4d77-835a-60e7ecf166d5",
   "metadata": {},
   "source": [
    "Read the input data:"
   ]
  },
  {
   "cell_type": "code",
   "execution_count": 3,
   "id": "80047a0c-872a-4a6d-9953-0c7e88e84fa0",
   "metadata": {
    "execution": {
     "iopub.execute_input": "2023-01-06T19:12:04.548070Z",
     "iopub.status.busy": "2023-01-06T19:12:04.547863Z",
     "iopub.status.idle": "2023-01-06T19:12:13.494499Z",
     "shell.execute_reply": "2023-01-06T19:12:13.493139Z",
     "shell.execute_reply.started": "2023-01-06T19:12:04.548050Z"
    }
   },
   "outputs": [],
   "source": [
    "aa_fitness = pd.read_csv(aa_fitness_csv).rename(columns={\"aa_site\": \"site\"})\n",
    "aamut_by_clade = pd.read_csv(aamut_by_clade_csv).rename(columns={\"aa_site\": \"site\"})\n",
    "clade_founder_nts = pd.read_csv(clade_founder_nts_csv)"
   ]
  },
  {
   "cell_type": "markdown",
   "id": "d6b082ca-4629-48d3-aabb-b89bb54ea30f",
   "metadata": {},
   "source": [
    "We only consider clades that had sufficient counts to estimate the effects of mutations:"
   ]
  },
  {
   "cell_type": "code",
   "execution_count": 4,
   "id": "c2e2c993-aef9-42f4-9716-6b530f8733fa",
   "metadata": {
    "execution": {
     "iopub.execute_input": "2023-01-06T19:12:13.501598Z",
     "iopub.status.busy": "2023-01-06T19:12:13.501303Z",
     "iopub.status.idle": "2023-01-06T19:12:13.579975Z",
     "shell.execute_reply": "2023-01-06T19:12:13.578484Z",
     "shell.execute_reply.started": "2023-01-06T19:12:13.501572Z"
    }
   },
   "outputs": [
    {
     "name": "stdout",
     "output_type": "stream",
     "text": [
      "Analyzing clades=['20A', '20B', '20C', '20E', '20G', '20I', '21C', '21I', '21J', '21K', '21L', '22A', '22B', '22C']\n"
     ]
    }
   ],
   "source": [
    "clades = aamut_by_clade[\"clade\"].unique().tolist()\n",
    "\n",
    "print(f\"Analyzing {clades=}\")"
   ]
  },
  {
   "cell_type": "markdown",
   "id": "49e29647-76d2-42f6-8885-37326237d596",
   "metadata": {},
   "source": [
    "Conversion from ORF1ab to nsps:"
   ]
  },
  {
   "cell_type": "code",
   "execution_count": 5,
   "id": "8ad0afab-12dc-46b9-9d4d-66377df2be5a",
   "metadata": {
    "execution": {
     "iopub.execute_input": "2023-01-06T19:12:13.584644Z",
     "iopub.status.busy": "2023-01-06T19:12:13.584340Z",
     "iopub.status.idle": "2023-01-06T19:12:13.618340Z",
     "shell.execute_reply": "2023-01-06T19:12:13.617688Z",
     "shell.execute_reply.started": "2023-01-06T19:12:13.584615Z"
    }
   },
   "outputs": [],
   "source": [
    "# now convert ORF1ab numbers to nsp numbers\n",
    "orf1ab_to_nsps_df = pd.concat(\n",
    "    [\n",
    "        pd.DataFrame(\n",
    "            [(i, i - start + 1) for i in range(start, end + 1)],\n",
    "            columns=[\"ORF1ab_site\", \"nsp_site\"],\n",
    "        ).assign(nsp=nsp).drop_duplicates()\n",
    "        for nsp, (start, end) in orf1ab_to_nsps.items()\n",
    "    ],\n",
    "    ignore_index=True,\n",
    ")"
   ]
  },
  {
   "cell_type": "markdown",
   "id": "296bb419-0dee-4044-bb61-04851754a75f",
   "metadata": {},
   "source": [
    "First we get the amino acids at each position in each gene in each clade founder and the reference clade.\n",
    "We ignore ORF1a and just look at ORF1ab:"
   ]
  },
  {
   "cell_type": "code",
   "execution_count": 6,
   "id": "205adb3b-25c8-4713-8eb5-b2f46fd2e53c",
   "metadata": {
    "execution": {
     "iopub.execute_input": "2023-01-06T19:12:13.621861Z",
     "iopub.status.busy": "2023-01-06T19:12:13.621604Z",
     "iopub.status.idle": "2023-01-06T19:12:15.247065Z",
     "shell.execute_reply": "2023-01-06T19:12:15.246371Z",
     "shell.execute_reply.started": "2023-01-06T19:12:13.621843Z"
    }
   },
   "outputs": [],
   "source": [
    "codon_to_aa = {\n",
    "    f\"{nt1}{nt2}{nt3}\": str(Bio.Seq.Seq(f\"{nt1}{nt2}{nt3}\").translate())\n",
    "    for nt1 in \"ACGT\" for nt2 in \"ACGT\" for nt3 in \"ACGT\"\n",
    "}\n",
    "\n",
    "assert ref in clade_founder_nts[\"clade\"].unique()\n",
    "\n",
    "clade_founder_aas = (\n",
    "    clade_founder_nts\n",
    "    [[\"clade\", \"gene\", \"codon\", \"codon_site\"]]\n",
    "    .drop_duplicates()\n",
    "    .assign(\n",
    "        gene=lambda x: x[\"gene\"].str.split(\";\"),\n",
    "        codon=lambda x: x[\"codon\"].str.split(\";\"),\n",
    "        site=lambda x: x[\"codon_site\"].str.split(\";\"),\n",
    "    )\n",
    "    .explode([\"gene\", \"codon\", \"site\"])\n",
    "    .query(\"gene != 'ORF1a'\")\n",
    "    .assign(\n",
    "        amino_acid=lambda x: x[\"codon\"].map(codon_to_aa),\n",
    "        site=lambda x: x[\"site\"].astype(int),\n",
    "    )\n",
    "    [[\"clade\", \"gene\", \"site\", \"codon\", \"amino_acid\"]]\n",
    "    .drop_duplicates()\n",
    ")\n",
    "\n",
    "ref_aas = (\n",
    "    clade_founder_aas\n",
    "    .query(\"clade == @ref\")\n",
    "    [[\"gene\", \"site\", \"codon\", \"amino_acid\"]]\n",
    "    .rename(columns={\"codon\": \"ref_codon\", \"amino_acid\": \"ref_amino_acid\"})\n",
    ") \n",
    "\n",
    "clade_founder_aas = clade_founder_aas.query(\"clade in @clades\").merge(\n",
    "    ref_aas,\n",
    "    on=[\"gene\", \"site\"],\n",
    "    validate=\"many_to_one\",\n",
    ")"
   ]
  },
  {
   "cell_type": "markdown",
   "id": "ae08c6fc-1436-4ddd-9643-84f51aaad9b7",
   "metadata": {},
   "source": [
    "Now get just the amino acid mutations in each clade founder, and summarize the number of such mutations:"
   ]
  },
  {
   "cell_type": "code",
   "execution_count": 7,
   "id": "5ea40145-5b24-46b9-b74d-fa0d9e3fb078",
   "metadata": {
    "execution": {
     "iopub.execute_input": "2023-01-06T19:12:15.250228Z",
     "iopub.status.busy": "2023-01-06T19:12:15.250069Z",
     "iopub.status.idle": "2023-01-06T19:12:15.289040Z",
     "shell.execute_reply": "2023-01-06T19:12:15.288348Z",
     "shell.execute_reply.started": "2023-01-06T19:12:15.250212Z"
    }
   },
   "outputs": [
    {
     "data": {
      "text/html": [
       "<div>\n",
       "<style scoped>\n",
       "    .dataframe tbody tr th:only-of-type {\n",
       "        vertical-align: middle;\n",
       "    }\n",
       "\n",
       "    .dataframe tbody tr th {\n",
       "        vertical-align: top;\n",
       "    }\n",
       "\n",
       "    .dataframe thead th {\n",
       "        text-align: right;\n",
       "    }\n",
       "</style>\n",
       "<table border=\"1\" class=\"dataframe\">\n",
       "  <thead>\n",
       "    <tr style=\"text-align: right;\">\n",
       "      <th></th>\n",
       "      <th>n_amino_acid_muts</th>\n",
       "    </tr>\n",
       "    <tr>\n",
       "      <th>clade</th>\n",
       "      <th></th>\n",
       "    </tr>\n",
       "  </thead>\n",
       "  <tbody>\n",
       "    <tr>\n",
       "      <th>20A</th>\n",
       "      <td>2</td>\n",
       "    </tr>\n",
       "    <tr>\n",
       "      <th>20B</th>\n",
       "      <td>4</td>\n",
       "    </tr>\n",
       "    <tr>\n",
       "      <th>20C</th>\n",
       "      <td>4</td>\n",
       "    </tr>\n",
       "    <tr>\n",
       "      <th>20E</th>\n",
       "      <td>5</td>\n",
       "    </tr>\n",
       "    <tr>\n",
       "      <th>20G</th>\n",
       "      <td>11</td>\n",
       "    </tr>\n",
       "    <tr>\n",
       "      <th>20I</th>\n",
       "      <td>18</td>\n",
       "    </tr>\n",
       "    <tr>\n",
       "      <th>21C</th>\n",
       "      <td>9</td>\n",
       "    </tr>\n",
       "    <tr>\n",
       "      <th>21I</th>\n",
       "      <td>22</td>\n",
       "    </tr>\n",
       "    <tr>\n",
       "      <th>21J</th>\n",
       "      <td>26</td>\n",
       "    </tr>\n",
       "    <tr>\n",
       "      <th>21K</th>\n",
       "      <td>42</td>\n",
       "    </tr>\n",
       "    <tr>\n",
       "      <th>21L</th>\n",
       "      <td>48</td>\n",
       "    </tr>\n",
       "    <tr>\n",
       "      <th>22A</th>\n",
       "      <td>50</td>\n",
       "    </tr>\n",
       "    <tr>\n",
       "      <th>22B</th>\n",
       "      <td>48</td>\n",
       "    </tr>\n",
       "    <tr>\n",
       "      <th>22C</th>\n",
       "      <td>50</td>\n",
       "    </tr>\n",
       "  </tbody>\n",
       "</table>\n",
       "</div>"
      ],
      "text/plain": [
       "       n_amino_acid_muts\n",
       "clade                   \n",
       "20A                    2\n",
       "20B                    4\n",
       "20C                    4\n",
       "20E                    5\n",
       "20G                   11\n",
       "20I                   18\n",
       "21C                    9\n",
       "21I                   22\n",
       "21J                   26\n",
       "21K                   42\n",
       "21L                   48\n",
       "22A                   50\n",
       "22B                   48\n",
       "22C                   50"
      ]
     },
     "execution_count": 7,
     "metadata": {},
     "output_type": "execute_result"
    }
   ],
   "source": [
    "clade_founder_muts = clade_founder_aas.query(\"amino_acid != ref_amino_acid\")\n",
    "\n",
    "(\n",
    "    clade_founder_muts\n",
    "    .groupby(\"clade\")\n",
    "    .aggregate(n_amino_acid_muts=pd.NamedAgg(\"site\", \"count\"))\n",
    ")"
   ]
  },
  {
   "cell_type": "markdown",
   "id": "a98233ef-7f48-4d2d-8ba5-9aa97feb7633",
   "metadata": {},
   "source": [
    "Get the estimated fitness effect of each mutation from the overall fitness estimates.\n",
    "Also convert from ORF1ab to nsp numbering:"
   ]
  },
  {
   "cell_type": "code",
   "execution_count": 9,
   "id": "d186ced7-8f6b-437b-8d0c-24ca65e4d320",
   "metadata": {
    "execution": {
     "iopub.execute_input": "2023-01-06T19:13:31.815333Z",
     "iopub.status.busy": "2023-01-06T19:13:31.814685Z",
     "iopub.status.idle": "2023-01-06T19:13:31.966653Z",
     "shell.execute_reply": "2023-01-06T19:13:31.965717Z",
     "shell.execute_reply.started": "2023-01-06T19:13:31.815289Z"
    },
    "tags": []
   },
   "outputs": [
    {
     "ename": "AssertionError",
     "evalue": "",
     "output_type": "error",
     "traceback": [
      "\u001b[0;31m---------------------------------------------------------------------------\u001b[0m",
      "\u001b[0;31mAssertionError\u001b[0m                            Traceback (most recent call last)",
      "Cell \u001b[0;32mIn[9], line 48\u001b[0m\n\u001b[1;32m     29\u001b[0m \u001b[38;5;66;03m# replace ORF1ab naming with nsp naming\u001b[39;00m\n\u001b[1;32m     30\u001b[0m fitness_effects_tidy \u001b[38;5;241m=\u001b[39m pd\u001b[38;5;241m.\u001b[39mconcat(\n\u001b[1;32m     31\u001b[0m     [\n\u001b[1;32m     32\u001b[0m         fitness_effects_tidy\u001b[38;5;241m.\u001b[39mquery(\u001b[38;5;124m\"\u001b[39m\u001b[38;5;124mgene != \u001b[39m\u001b[38;5;124m'\u001b[39m\u001b[38;5;124mORF1ab\u001b[39m\u001b[38;5;124m'\u001b[39m\u001b[38;5;124m\"\u001b[39m),\n\u001b[0;32m   (...)\u001b[0m\n\u001b[1;32m     45\u001b[0m     ignore_index\u001b[38;5;241m=\u001b[39m\u001b[38;5;28;01mTrue\u001b[39;00m,\n\u001b[1;32m     46\u001b[0m )\n\u001b[0;32m---> 48\u001b[0m \u001b[38;5;28;01massert\u001b[39;00m fitness_effects_tidy\u001b[38;5;241m.\u001b[39mnotnull()\u001b[38;5;241m.\u001b[39mall()\u001b[38;5;241m.\u001b[39mall()\n\u001b[1;32m     50\u001b[0m fitness_effects_tidy\n",
      "\u001b[0;31mAssertionError\u001b[0m: "
     ]
    }
   ],
   "source": [
    "# overall clade estimates of fitness effects of mutations\n",
    "fitness_effects_tidy = (\n",
    "    clade_founder_muts\n",
    "    .merge(\n",
    "        aa_fitness[[\"gene\", \"site\", \"aa\", \"fitness\", \"expected_count\"]].rename(\n",
    "            columns={\"aa\": \"amino_acid\", \"fitness\": \"amino_acid_fitness\"},\n",
    "        ),\n",
    "        on=[\"site\", \"gene\", \"amino_acid\"],\n",
    "        how=\"left\",\n",
    "        validate=\"many_to_one\",\n",
    "    )\n",
    "    .merge(\n",
    "        aa_fitness[[\"gene\", \"site\", \"aa\", \"fitness\", \"expected_count\"]].rename(\n",
    "            columns={\"aa\": \"ref_amino_acid\", \"fitness\": \"ref_amino_acid_fitness\"},\n",
    "        ),\n",
    "        on=[\"site\", \"gene\", \"ref_amino_acid\"],\n",
    "        how=\"left\",\n",
    "        validate=\"many_to_one\",\n",
    "    )\n",
    "    .assign(\n",
    "        mutation=lambda x: x[\"ref_amino_acid\"] + x[\"site\"].astype(str) + x[\"amino_acid\"],\n",
    "        fitness_effect=lambda x: x[\"amino_acid_fitness\"] - x[\"ref_amino_acid_fitness\"],\n",
    "        expected_count=lambda x: numpy.minimum(x[\"expected_count_x\"], x[\"expected_count_y\"]),\n",
    "    )\n",
    "    .drop(columns=[\"expected_count_x\", \"expected_count_y\"])\n",
    ")\n",
    "\n",
    "\n",
    "# replace ORF1ab naming with nsp naming\n",
    "fitness_effects_tidy = pd.concat(\n",
    "    [\n",
    "        fitness_effects_tidy.query(\"gene != 'ORF1ab'\"),\n",
    "        (\n",
    "            fitness_effects_tidy\n",
    "            .query(\"gene == 'ORF1ab'\")\n",
    "            .merge(\n",
    "                orf1ab_to_nsps_df.rename(columns={\"ORF1ab_site\": \"site\"}),\n",
    "                how=\"left\",\n",
    "                validate=\"many_to_one\",\n",
    "            )\n",
    "            .drop(columns=[\"site\", \"gene\"])\n",
    "            .rename(columns={\"nsp_site\": \"site\", \"nsp\": \"gene\"})\n",
    "        )\n",
    "    ],\n",
    "    ignore_index=True,\n",
    ")\n",
    "\n",
    "fitness_effects_tidy"
   ]
  },
  {
   "cell_type": "markdown",
   "id": "3b196b10-9786-4e5d-8476-0c861df50654",
   "metadata": {},
   "source": [
    "Now get this information in a wide-form data frame that just lists the clades with the mutation, and also those clades alongside their clade founder codons:"
   ]
  },
  {
   "cell_type": "code",
   "execution_count": null,
   "id": "75821e08-0192-4ad1-941b-788bb33d8aa7",
   "metadata": {
    "execution": {
     "iopub.status.busy": "2023-01-06T19:12:15.517361Z",
     "iopub.status.idle": "2023-01-06T19:12:15.517664Z",
     "shell.execute_reply": "2023-01-06T19:12:15.517565Z",
     "shell.execute_reply.started": "2023-01-06T19:12:15.517553Z"
    },
    "tags": []
   },
   "outputs": [],
   "source": [
    "fitness_effects = (\n",
    "    fitness_effects_tidy\n",
    "    .assign(clade_codon=lambda x: x[\"clade\"] + \" (\" + x[\"codon\"] + \")\")\n",
    "    .groupby(\n",
    "        [\"gene\", \"site\", \"mutation\", \"ref_codon\", \"ref_amino_acid\", \"fitness_effect\", \"expected_count\"],\n",
    "        as_index=False,\n",
    "        dropna=False,\n",
    "    )\n",
    "    .aggregate(\n",
    "        clades_with_mutation=pd.NamedAgg(\"clade\", lambda s: \"; \".join(s)),\n",
    "        clade_codons_with_mutation=pd.NamedAgg(\"clade_codon\", lambda s: \"; \".join(s)),\n",
    "    )\n",
    ")\n",
    "\n",
    "assert len(fitness_effects) == len(fitness_effects.groupby([\"gene\", \"mutation\"]))\n",
    "\n",
    "fitness_effects"
   ]
  },
  {
   "cell_type": "markdown",
   "id": "418c8648-27cf-43eb-9bc6-5c8b4fbf8b96",
   "metadata": {},
   "source": [
    "Get amino-acid mutation fitness estimates by clade, polarized so they are coming from the reference amino-acid identity at the site, and keeping track whether each estimate is for a forward or reversion mutation in that clade.\n",
    "\n",
    "First in tidy form:"
   ]
  },
  {
   "cell_type": "code",
   "execution_count": null,
   "id": "4dd7d753-522e-4e52-93e1-0cc851738efe",
   "metadata": {
    "execution": {
     "iopub.status.busy": "2023-01-06T19:12:15.520363Z",
     "iopub.status.idle": "2023-01-06T19:12:15.520639Z",
     "shell.execute_reply": "2023-01-06T19:12:15.520542Z",
     "shell.execute_reply.started": "2023-01-06T19:12:15.520531Z"
    },
    "tags": []
   },
   "outputs": [],
   "source": [
    "fitness_effects_by_clade_tidy = (\n",
    "    aamut_by_clade\n",
    "    .query(\"mutant_aa != clade_founder_aa\")\n",
    "    .merge(ref_aas, on=[\"gene\", \"site\"], validate=\"many_to_one\")\n",
    "    .query(\"(clade_founder_aa == ref_amino_acid) or (mutant_aa == ref_amino_acid)\")\n",
    "    .assign(\n",
    "        mutation_polarity=lambda x: (x[\"clade_founder_aa\"] == x[\"ref_amino_acid\"]).map(\n",
    "            {True: \"forward\", False: \"reverse\"}\n",
    "        ),\n",
    "        mutation=lambda x: numpy.where(\n",
    "            x[\"mutation_polarity\"] == \"forward\",\n",
    "            x[\"clade_founder_aa\"] + x[\"site\"].astype(str) + x[\"mutant_aa\"],\n",
    "            x[\"mutant_aa\"] + x[\"site\"].astype(str) + x[\"clade_founder_aa\"],\n",
    "        ),\n",
    "        fitness_effect=lambda x: numpy.where(\n",
    "            x[\"mutation_polarity\"] == \"forward\",\n",
    "            x[\"delta_fitness\"],\n",
    "            -x[\"delta_fitness\"],\n",
    "        ),\n",
    "    )\n",
    "    [[\n",
    "        \"clade\",\n",
    "        \"gene\",\n",
    "        \"site\",\n",
    "        \"mutation\",\n",
    "        \"fitness_effect\",\n",
    "        \"expected_count\",\n",
    "        \"mutation_polarity\",\n",
    "    ]]\n",
    ")\n",
    "\n",
    "\n",
    "# replace ORF1ab naming with nsp naming\n",
    "fitness_effects_by_clade_tidy = pd.concat(\n",
    "    [\n",
    "        fitness_effects_by_clade_tidy.query(\"gene != 'ORF1ab'\"),\n",
    "        (\n",
    "            fitness_effects_by_clade_tidy\n",
    "            .query(\"gene == 'ORF1ab'\")\n",
    "            .merge(\n",
    "                orf1ab_to_nsps_df.rename(columns={\"ORF1ab_site\": \"site\"}),\n",
    "                how=\"left\",\n",
    "                validate=\"many_to_one\",\n",
    "            )\n",
    "            .drop(columns=[\"site\", \"gene\"])\n",
    "            .rename(columns={\"nsp_site\": \"site\", \"nsp\": \"gene\"})\n",
    "        )\n",
    "    ],\n",
    "    ignore_index=True,\n",
    ")\n",
    "\n",
    "assert fitness_effects_by_clade_tidy.notnull().all().all()\n",
    "\n",
    "fitness_effects_by_clade_tidy"
   ]
  },
  {
   "cell_type": "markdown",
   "id": "060043dd-85e0-4c7e-9b2c-6b2090922b30",
   "metadata": {},
   "source": [
    "Now make a wide version with just the mutations that occurred in the clade founders, grouping together the forward and reverse clade estimates.\n",
    "We calculate the **weighted average** (weighted by clade expected count) for each mutation polarity:"
   ]
  },
  {
   "cell_type": "code",
   "execution_count": null,
   "id": "9b5872ca-37a6-42c6-bdc5-20afaea35bdf",
   "metadata": {
    "execution": {
     "iopub.status.busy": "2023-01-06T19:12:15.521337Z",
     "iopub.status.idle": "2023-01-06T19:12:15.521546Z",
     "shell.execute_reply": "2023-01-06T19:12:15.521454Z",
     "shell.execute_reply.started": "2023-01-06T19:12:15.521443Z"
    },
    "tags": []
   },
   "outputs": [],
   "source": [
    "fitness_effects_by_clade = (\n",
    "    fitness_effects_by_clade_tidy\n",
    "    # use this merge as a way to retain just mutations that occurred\n",
    "    .merge(fitness_effects[[\"gene\", \"site\", \"mutation\"]])\n",
    "    # group forward and reverse polarities, calculate weighted average fitness effects\n",
    "    .assign(\n",
    "        clade_effect=(\n",
    "            lambda x: (\n",
    "                x[\"clade\"]\n",
    "                + \" (\" + x[\"fitness_effect\"].map(lambda f: \"{:.2f}\".format(f)) + \")\"\n",
    "            )\n",
    "        ),\n",
    "        weighted_effect=lambda x: x[\"fitness_effect\"] * x[\"expected_count\"],\n",
    "    )\n",
    "    .groupby([\"gene\", \"mutation\", \"mutation_polarity\"], as_index=False)\n",
    "    .aggregate(\n",
    "        expected_count=pd.NamedAgg(\"expected_count\", \"sum\"),\n",
    "        weighted_effect=pd.NamedAgg(\"weighted_effect\", \"sum\"),\n",
    "        clade_effect=pd.NamedAgg(\"clade_effect\", lambda s: \"; \".join(s)),\n",
    "    )\n",
    "    .assign(fitness_effect=lambda x: x[\"weighted_effect\"] / x[\"expected_count\"])\n",
    "    .drop(columns=\"weighted_effect\")\n",
    ")\n",
    "\n",
    "fitness_effects_by_clade"
   ]
  },
  {
   "cell_type": "markdown",
   "id": "88ae1d3f-89f0-4749-8509-275cf05638d5",
   "metadata": {},
   "source": [
    "Finally, aggregate information about all substitutions in the clades of interest (relative to the reference) with both the forward and reverse polarity information as well as the overall estimated effect:"
   ]
  },
  {
   "cell_type": "code",
   "execution_count": null,
   "id": "37ab9094-7d27-44e7-b989-e74eb5bf94de",
   "metadata": {
    "execution": {
     "iopub.status.busy": "2023-01-06T19:12:15.522230Z",
     "iopub.status.idle": "2023-01-06T19:12:15.522430Z",
     "shell.execute_reply": "2023-01-06T19:12:15.522337Z",
     "shell.execute_reply.started": "2023-01-06T19:12:15.522327Z"
    },
    "tags": []
   },
   "outputs": [],
   "source": [
    "mut_effects = (\n",
    "    pd.concat(\n",
    "        [\n",
    "            (\n",
    "                fitness_effects\n",
    "                .drop(columns=[\"site\", \"ref_amino_acid\"])\n",
    "                .assign(mutation_polarity=\"all\")\n",
    "            ),\n",
    "            fitness_effects_by_clade.merge(\n",
    "                fitness_effects[\n",
    "                    [\n",
    "                        \"gene\",\n",
    "                        \"mutation\",\n",
    "                        \"ref_codon\",\n",
    "                        \"clades_with_mutation\",\n",
    "                        \"clade_codons_with_mutation\",\n",
    "                    ]\n",
    "                ],\n",
    "                on=[\"gene\", \"mutation\"],\n",
    "                how=\"left\",\n",
    "                validate=\"many_to_one\",\n",
    "            ),\n",
    "        ]\n",
    "    )\n",
    "    .sort_values([\"gene\", \"mutation\", \"mutation_polarity\"])\n",
    "    .reset_index(drop=True)\n",
    "    .assign(gene_mutation=lambda x: x[\"mutation\"] + \" in \" + x[\"gene\"])\n",
    ")\n",
    "\n",
    "mut_effects"
   ]
  },
  {
   "cell_type": "markdown",
   "id": "3ecac677-7d71-4111-a1c2-9defc14ef01d",
   "metadata": {},
   "source": [
    "Now plot the mutation effects, showing the estimated effects overall and from forward and reverse mutations.\n",
    "Note that there is a slider for the minimum expected counts:"
   ]
  },
  {
   "cell_type": "code",
   "execution_count": null,
   "id": "538aeb91-e3ea-4261-9134-c9e742ae8699",
   "metadata": {
    "execution": {
     "iopub.status.busy": "2023-01-06T19:12:15.523387Z",
     "iopub.status.idle": "2023-01-06T19:12:15.523590Z",
     "shell.execute_reply": "2023-01-06T19:12:15.523496Z",
     "shell.execute_reply.started": "2023-01-06T19:12:15.523486Z"
    },
    "tags": []
   },
   "outputs": [],
   "source": [
    "# order x-axis by mutation favorability\n",
    "x_order = (\n",
    "    mut_effects\n",
    "    .sort_values(\"fitness_effect\", ascending=False)\n",
    "    .query(\"mutation_polarity == 'all'\")\n",
    "    [\"gene_mutation\"]\n",
    "    .unique()\n",
    ")\n",
    "\n",
    "polarity_selection = alt.selection_multi(\n",
    "    fields=[\"mutation_polarity\"],\n",
    "    bind=\"legend\",\n",
    "    init=[{\"mutation_polarity\": polarity} for polarity in mut_effects[\"mutation_polarity\"].unique()],\n",
    ")\n",
    "\n",
    "gene_selection = alt.selection_multi(\n",
    "    fields=[\"gene\"],\n",
    "    bind=\"legend\",\n",
    ")\n",
    "\n",
    "expected_count_selection = alt.selection_single(\n",
    "    bind=alt.binding_range(\n",
    "        min=0,\n",
    "        max=min(4 * min_expected_count, mut_effects[\"expected_count\"].quantile(0.8)),\n",
    "        step=1,\n",
    "        name=\"minimum expected count\",\n",
    "    ),\n",
    "    fields=[\"cutoff\"],\n",
    "    init={\"cutoff\": min_expected_count},\n",
    ")\n",
    "\n",
    "base = (\n",
    "    alt.Chart(\n",
    "        mut_effects.assign(\n",
    "            is_spike=lambda x: (x[\"gene\"] == \"S\").map(\n",
    "                {True: \"spike mutations\", False: \"non-spike mutations\"}\n",
    "            )\n",
    "        )\n",
    "    )\n",
    "    .encode(\n",
    "        x=alt.X(\"gene_mutation\", title=None, sort=x_order),\n",
    "    )\n",
    ")\n",
    "\n",
    "points_chart = (\n",
    "    base\n",
    "    .encode(\n",
    "        y=alt.Y(\n",
    "            \"fitness_effect\",\n",
    "            title=\"fitness effect\",\n",
    "            scale=alt.Scale(\n",
    "                nice=False,\n",
    "                domain=(mut_effects[\"fitness_effect\"].min(), mut_effects[\"fitness_effect\"].max()),\n",
    "            ),\n",
    "        ),\n",
    "        color=alt.Color(\n",
    "            \"mutation_polarity\",\n",
    "            scale=alt.Scale(domain=mut_effects[\"mutation_polarity\"].unique()),\n",
    "        ),\n",
    "        shape=alt.Shape(\n",
    "            \"mutation_polarity\",\n",
    "            scale=alt.Scale(domain=mut_effects[\"mutation_polarity\"].unique()),\n",
    "            legend=alt.Legend(orient=\"bottom\"),\n",
    "        ),\n",
    "        stroke=alt.Stroke(\n",
    "            \"gene\",\n",
    "            scale=alt.Scale(domain=mut_effects[\"gene\"].unique(), range=[1] * mut_effects[\"gene\"].nunique()),\n",
    "            legend=alt.Legend(orient=\"bottom\", columns=7),\n",
    "        ),\n",
    "        opacity=alt.condition(gene_selection, alt.value(0.75), alt.value(0.25)),\n",
    "        size=alt.condition(gene_selection, alt.value(50), alt.value(20)),\n",
    "        tooltip=mut_effects.columns.tolist(),\n",
    "    )\n",
    "    .mark_point(filled=True, strokeWidth=0)\n",
    "    .properties(width=alt.Step(12), height=150)\n",
    "    .add_selection(expected_count_selection)\n",
    "    .add_selection(polarity_selection)\n",
    "    .add_selection(gene_selection)\n",
    "    .transform_filter(\n",
    "        alt.datum[\"expected_count\"] >= expected_count_selection[\"cutoff\"] - 1e-6\n",
    "    )\n",
    "    .transform_filter(polarity_selection)\n",
    ")\n",
    "\n",
    "line = (\n",
    "    base\n",
    "    .transform_calculate(zero=\"0\")\n",
    "    .encode(y=\"zero:Q\")\n",
    "    .mark_line(color=\"gray\", strokeDash=[3, 3])\n",
    ")\n",
    "\n",
    "mut_effects_chart = (\n",
    "    (points_chart + line)\n",
    "    .facet(\n",
    "        alt.Facet(\"is_spike:N\", title=None, header=alt.Header(labelFontStyle=\"bold\", labelFontSize=13)),\n",
    "        columns=1,\n",
    "    )\n",
    "    .configure_axis(grid=False)\n",
    "    .configure_legend(padding=12)\n",
    "    .resolve_scale(x=\"independent\")\n",
    ")\n",
    "\n",
    "mut_effects_chart.save(chartfile)\n",
    "\n",
    "mut_effects_chart"
   ]
  },
  {
   "cell_type": "code",
   "execution_count": null,
   "id": "5f394bda-1750-4223-a7a5-fc686403d00a",
   "metadata": {},
   "outputs": [],
   "source": []
  }
 ],
 "metadata": {
  "kernelspec": {
   "display_name": "Python 3 (ipykernel)",
   "language": "python",
   "name": "python3"
  },
  "language_info": {
   "codemirror_mode": {
    "name": "ipython",
    "version": 3
   },
   "file_extension": ".py",
   "mimetype": "text/x-python",
   "name": "python",
   "nbconvert_exporter": "python",
   "pygments_lexer": "ipython3",
   "version": "3.9.15"
  }
 },
 "nbformat": 4,
 "nbformat_minor": 5
}
